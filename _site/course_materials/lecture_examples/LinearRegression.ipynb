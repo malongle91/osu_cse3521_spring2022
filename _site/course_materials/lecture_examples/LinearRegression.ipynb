{
 "cells": [
  {
   "cell_type": "code",
   "execution_count": 1,
   "metadata": {},
   "outputs": [],
   "source": [
    "import numpy as np\n",
    "import pandas as pd\n",
    "import statsmodels.api as sm"
   ]
  },
  {
   "cell_type": "code",
   "execution_count": 2,
   "metadata": {},
   "outputs": [],
   "source": [
    "raw_data = pd.read_csv(\"./data/BP_Data.csv\")"
   ]
  },
  {
   "cell_type": "code",
   "execution_count": 3,
   "metadata": {},
   "outputs": [
    {
     "data": {
      "text/html": [
       "<div>\n",
       "<style scoped>\n",
       "    .dataframe tbody tr th:only-of-type {\n",
       "        vertical-align: middle;\n",
       "    }\n",
       "\n",
       "    .dataframe tbody tr th {\n",
       "        vertical-align: top;\n",
       "    }\n",
       "\n",
       "    .dataframe thead th {\n",
       "        text-align: right;\n",
       "    }\n",
       "</style>\n",
       "<table border=\"1\" class=\"dataframe\">\n",
       "  <thead>\n",
       "    <tr style=\"text-align: right;\">\n",
       "      <th></th>\n",
       "      <th>Age</th>\n",
       "      <th>Weight</th>\n",
       "      <th>Height</th>\n",
       "      <th>Pulse</th>\n",
       "      <th>Systol</th>\n",
       "      <th>Diastol</th>\n",
       "    </tr>\n",
       "  </thead>\n",
       "  <tbody>\n",
       "    <tr>\n",
       "      <th>0</th>\n",
       "      <td>21</td>\n",
       "      <td>71.0</td>\n",
       "      <td>1629</td>\n",
       "      <td>88</td>\n",
       "      <td>170</td>\n",
       "      <td>76</td>\n",
       "    </tr>\n",
       "    <tr>\n",
       "      <th>1</th>\n",
       "      <td>22</td>\n",
       "      <td>56.5</td>\n",
       "      <td>1569</td>\n",
       "      <td>64</td>\n",
       "      <td>120</td>\n",
       "      <td>60</td>\n",
       "    </tr>\n",
       "    <tr>\n",
       "      <th>2</th>\n",
       "      <td>24</td>\n",
       "      <td>56.0</td>\n",
       "      <td>1561</td>\n",
       "      <td>68</td>\n",
       "      <td>125</td>\n",
       "      <td>75</td>\n",
       "    </tr>\n",
       "    <tr>\n",
       "      <th>3</th>\n",
       "      <td>24</td>\n",
       "      <td>61.0</td>\n",
       "      <td>1619</td>\n",
       "      <td>52</td>\n",
       "      <td>148</td>\n",
       "      <td>120</td>\n",
       "    </tr>\n",
       "    <tr>\n",
       "      <th>4</th>\n",
       "      <td>25</td>\n",
       "      <td>65.0</td>\n",
       "      <td>1566</td>\n",
       "      <td>72</td>\n",
       "      <td>140</td>\n",
       "      <td>78</td>\n",
       "    </tr>\n",
       "    <tr>\n",
       "      <th>5</th>\n",
       "      <td>27</td>\n",
       "      <td>62.0</td>\n",
       "      <td>1639</td>\n",
       "      <td>72</td>\n",
       "      <td>106</td>\n",
       "      <td>72</td>\n",
       "    </tr>\n",
       "    <tr>\n",
       "      <th>6</th>\n",
       "      <td>28</td>\n",
       "      <td>53.0</td>\n",
       "      <td>1494</td>\n",
       "      <td>64</td>\n",
       "      <td>120</td>\n",
       "      <td>76</td>\n",
       "    </tr>\n",
       "    <tr>\n",
       "      <th>7</th>\n",
       "      <td>28</td>\n",
       "      <td>53.0</td>\n",
       "      <td>1568</td>\n",
       "      <td>80</td>\n",
       "      <td>108</td>\n",
       "      <td>62</td>\n",
       "    </tr>\n",
       "    <tr>\n",
       "      <th>8</th>\n",
       "      <td>31</td>\n",
       "      <td>65.0</td>\n",
       "      <td>1540</td>\n",
       "      <td>76</td>\n",
       "      <td>124</td>\n",
       "      <td>70</td>\n",
       "    </tr>\n",
       "    <tr>\n",
       "      <th>9</th>\n",
       "      <td>32</td>\n",
       "      <td>57.0</td>\n",
       "      <td>1530</td>\n",
       "      <td>60</td>\n",
       "      <td>134</td>\n",
       "      <td>64</td>\n",
       "    </tr>\n",
       "    <tr>\n",
       "      <th>10</th>\n",
       "      <td>33</td>\n",
       "      <td>66.5</td>\n",
       "      <td>1622</td>\n",
       "      <td>68</td>\n",
       "      <td>116</td>\n",
       "      <td>76</td>\n",
       "    </tr>\n",
       "    <tr>\n",
       "      <th>11</th>\n",
       "      <td>33</td>\n",
       "      <td>59.1</td>\n",
       "      <td>1486</td>\n",
       "      <td>72</td>\n",
       "      <td>114</td>\n",
       "      <td>74</td>\n",
       "    </tr>\n",
       "    <tr>\n",
       "      <th>12</th>\n",
       "      <td>34</td>\n",
       "      <td>64.0</td>\n",
       "      <td>1578</td>\n",
       "      <td>88</td>\n",
       "      <td>130</td>\n",
       "      <td>80</td>\n",
       "    </tr>\n",
       "    <tr>\n",
       "      <th>13</th>\n",
       "      <td>35</td>\n",
       "      <td>69.5</td>\n",
       "      <td>1645</td>\n",
       "      <td>60</td>\n",
       "      <td>118</td>\n",
       "      <td>68</td>\n",
       "    </tr>\n",
       "    <tr>\n",
       "      <th>14</th>\n",
       "      <td>35</td>\n",
       "      <td>64.0</td>\n",
       "      <td>1648</td>\n",
       "      <td>60</td>\n",
       "      <td>138</td>\n",
       "      <td>78</td>\n",
       "    </tr>\n",
       "    <tr>\n",
       "      <th>15</th>\n",
       "      <td>36</td>\n",
       "      <td>56.5</td>\n",
       "      <td>1521</td>\n",
       "      <td>72</td>\n",
       "      <td>134</td>\n",
       "      <td>86</td>\n",
       "    </tr>\n",
       "    <tr>\n",
       "      <th>16</th>\n",
       "      <td>36</td>\n",
       "      <td>57.0</td>\n",
       "      <td>1547</td>\n",
       "      <td>84</td>\n",
       "      <td>120</td>\n",
       "      <td>70</td>\n",
       "    </tr>\n",
       "    <tr>\n",
       "      <th>17</th>\n",
       "      <td>37</td>\n",
       "      <td>55.0</td>\n",
       "      <td>1505</td>\n",
       "      <td>64</td>\n",
       "      <td>120</td>\n",
       "      <td>76</td>\n",
       "    </tr>\n",
       "    <tr>\n",
       "      <th>18</th>\n",
       "      <td>37</td>\n",
       "      <td>57.0</td>\n",
       "      <td>1473</td>\n",
       "      <td>72</td>\n",
       "      <td>114</td>\n",
       "      <td>80</td>\n",
       "    </tr>\n",
       "    <tr>\n",
       "      <th>19</th>\n",
       "      <td>38</td>\n",
       "      <td>58.0</td>\n",
       "      <td>1538</td>\n",
       "      <td>64</td>\n",
       "      <td>124</td>\n",
       "      <td>64</td>\n",
       "    </tr>\n",
       "    <tr>\n",
       "      <th>20</th>\n",
       "      <td>38</td>\n",
       "      <td>59.5</td>\n",
       "      <td>1513</td>\n",
       "      <td>80</td>\n",
       "      <td>114</td>\n",
       "      <td>66</td>\n",
       "    </tr>\n",
       "    <tr>\n",
       "      <th>21</th>\n",
       "      <td>38</td>\n",
       "      <td>61.0</td>\n",
       "      <td>1653</td>\n",
       "      <td>76</td>\n",
       "      <td>136</td>\n",
       "      <td>78</td>\n",
       "    </tr>\n",
       "    <tr>\n",
       "      <th>22</th>\n",
       "      <td>38</td>\n",
       "      <td>57.0</td>\n",
       "      <td>1566</td>\n",
       "      <td>60</td>\n",
       "      <td>126</td>\n",
       "      <td>72</td>\n",
       "    </tr>\n",
       "    <tr>\n",
       "      <th>23</th>\n",
       "      <td>39</td>\n",
       "      <td>57.5</td>\n",
       "      <td>1580</td>\n",
       "      <td>64</td>\n",
       "      <td>124</td>\n",
       "      <td>62</td>\n",
       "    </tr>\n",
       "    <tr>\n",
       "      <th>24</th>\n",
       "      <td>39</td>\n",
       "      <td>74.0</td>\n",
       "      <td>1647</td>\n",
       "      <td>64</td>\n",
       "      <td>128</td>\n",
       "      <td>84</td>\n",
       "    </tr>\n",
       "    <tr>\n",
       "      <th>25</th>\n",
       "      <td>39</td>\n",
       "      <td>72.0</td>\n",
       "      <td>1620</td>\n",
       "      <td>68</td>\n",
       "      <td>134</td>\n",
       "      <td>92</td>\n",
       "    </tr>\n",
       "    <tr>\n",
       "      <th>26</th>\n",
       "      <td>41</td>\n",
       "      <td>62.5</td>\n",
       "      <td>1637</td>\n",
       "      <td>76</td>\n",
       "      <td>112</td>\n",
       "      <td>80</td>\n",
       "    </tr>\n",
       "    <tr>\n",
       "      <th>27</th>\n",
       "      <td>41</td>\n",
       "      <td>68.0</td>\n",
       "      <td>1528</td>\n",
       "      <td>60</td>\n",
       "      <td>128</td>\n",
       "      <td>82</td>\n",
       "    </tr>\n",
       "    <tr>\n",
       "      <th>28</th>\n",
       "      <td>41</td>\n",
       "      <td>63.4</td>\n",
       "      <td>1647</td>\n",
       "      <td>76</td>\n",
       "      <td>134</td>\n",
       "      <td>92</td>\n",
       "    </tr>\n",
       "    <tr>\n",
       "      <th>29</th>\n",
       "      <td>42</td>\n",
       "      <td>68.0</td>\n",
       "      <td>1605</td>\n",
       "      <td>88</td>\n",
       "      <td>128</td>\n",
       "      <td>90</td>\n",
       "    </tr>\n",
       "    <tr>\n",
       "      <th>30</th>\n",
       "      <td>43</td>\n",
       "      <td>69.0</td>\n",
       "      <td>1625</td>\n",
       "      <td>72</td>\n",
       "      <td>140</td>\n",
       "      <td>72</td>\n",
       "    </tr>\n",
       "    <tr>\n",
       "      <th>31</th>\n",
       "      <td>43</td>\n",
       "      <td>73.0</td>\n",
       "      <td>1615</td>\n",
       "      <td>68</td>\n",
       "      <td>138</td>\n",
       "      <td>74</td>\n",
       "    </tr>\n",
       "    <tr>\n",
       "      <th>32</th>\n",
       "      <td>43</td>\n",
       "      <td>64.0</td>\n",
       "      <td>1640</td>\n",
       "      <td>60</td>\n",
       "      <td>118</td>\n",
       "      <td>66</td>\n",
       "    </tr>\n",
       "    <tr>\n",
       "      <th>33</th>\n",
       "      <td>44</td>\n",
       "      <td>65.0</td>\n",
       "      <td>1610</td>\n",
       "      <td>74</td>\n",
       "      <td>110</td>\n",
       "      <td>70</td>\n",
       "    </tr>\n",
       "    <tr>\n",
       "      <th>34</th>\n",
       "      <td>44</td>\n",
       "      <td>71.0</td>\n",
       "      <td>1572</td>\n",
       "      <td>72</td>\n",
       "      <td>142</td>\n",
       "      <td>84</td>\n",
       "    </tr>\n",
       "    <tr>\n",
       "      <th>35</th>\n",
       "      <td>45</td>\n",
       "      <td>60.2</td>\n",
       "      <td>1534</td>\n",
       "      <td>56</td>\n",
       "      <td>134</td>\n",
       "      <td>70</td>\n",
       "    </tr>\n",
       "    <tr>\n",
       "      <th>36</th>\n",
       "      <td>47</td>\n",
       "      <td>55.0</td>\n",
       "      <td>1536</td>\n",
       "      <td>64</td>\n",
       "      <td>116</td>\n",
       "      <td>54</td>\n",
       "    </tr>\n",
       "    <tr>\n",
       "      <th>37</th>\n",
       "      <td>50</td>\n",
       "      <td>70.0</td>\n",
       "      <td>1630</td>\n",
       "      <td>72</td>\n",
       "      <td>132</td>\n",
       "      <td>90</td>\n",
       "    </tr>\n",
       "    <tr>\n",
       "      <th>38</th>\n",
       "      <td>54</td>\n",
       "      <td>87.0</td>\n",
       "      <td>1542</td>\n",
       "      <td>92</td>\n",
       "      <td>152</td>\n",
       "      <td>88</td>\n",
       "    </tr>\n",
       "  </tbody>\n",
       "</table>\n",
       "</div>"
      ],
      "text/plain": [
       "    Age  Weight  Height  Pulse  Systol  Diastol\n",
       "0    21    71.0    1629     88     170       76\n",
       "1    22    56.5    1569     64     120       60\n",
       "2    24    56.0    1561     68     125       75\n",
       "3    24    61.0    1619     52     148      120\n",
       "4    25    65.0    1566     72     140       78\n",
       "5    27    62.0    1639     72     106       72\n",
       "6    28    53.0    1494     64     120       76\n",
       "7    28    53.0    1568     80     108       62\n",
       "8    31    65.0    1540     76     124       70\n",
       "9    32    57.0    1530     60     134       64\n",
       "10   33    66.5    1622     68     116       76\n",
       "11   33    59.1    1486     72     114       74\n",
       "12   34    64.0    1578     88     130       80\n",
       "13   35    69.5    1645     60     118       68\n",
       "14   35    64.0    1648     60     138       78\n",
       "15   36    56.5    1521     72     134       86\n",
       "16   36    57.0    1547     84     120       70\n",
       "17   37    55.0    1505     64     120       76\n",
       "18   37    57.0    1473     72     114       80\n",
       "19   38    58.0    1538     64     124       64\n",
       "20   38    59.5    1513     80     114       66\n",
       "21   38    61.0    1653     76     136       78\n",
       "22   38    57.0    1566     60     126       72\n",
       "23   39    57.5    1580     64     124       62\n",
       "24   39    74.0    1647     64     128       84\n",
       "25   39    72.0    1620     68     134       92\n",
       "26   41    62.5    1637     76     112       80\n",
       "27   41    68.0    1528     60     128       82\n",
       "28   41    63.4    1647     76     134       92\n",
       "29   42    68.0    1605     88     128       90\n",
       "30   43    69.0    1625     72     140       72\n",
       "31   43    73.0    1615     68     138       74\n",
       "32   43    64.0    1640     60     118       66\n",
       "33   44    65.0    1610     74     110       70\n",
       "34   44    71.0    1572     72     142       84\n",
       "35   45    60.2    1534     56     134       70\n",
       "36   47    55.0    1536     64     116       54\n",
       "37   50    70.0    1630     72     132       90\n",
       "38   54    87.0    1542     92     152       88"
      ]
     },
     "execution_count": 3,
     "metadata": {},
     "output_type": "execute_result"
    }
   ],
   "source": [
    "raw_data"
   ]
  },
  {
   "cell_type": "code",
   "execution_count": 4,
   "metadata": {},
   "outputs": [
    {
     "data": {
      "text/plain": [
       "(39, 6)"
      ]
     },
     "execution_count": 4,
     "metadata": {},
     "output_type": "execute_result"
    }
   ],
   "source": [
    "raw_data.shape"
   ]
  },
  {
   "cell_type": "markdown",
   "metadata": {},
   "source": [
    "# Simple Linear Regression"
   ]
  },
  {
   "cell_type": "code",
   "execution_count": 5,
   "metadata": {},
   "outputs": [],
   "source": [
    "X = raw_data['Weight']\n",
    "X = sm.add_constant(X)\n",
    "y = raw_data['Systol']"
   ]
  },
  {
   "cell_type": "code",
   "execution_count": 6,
   "metadata": {},
   "outputs": [
    {
     "data": {
      "text/plain": [
       "0     170\n",
       "1     120\n",
       "2     125\n",
       "3     148\n",
       "4     140\n",
       "5     106\n",
       "6     120\n",
       "7     108\n",
       "8     124\n",
       "9     134\n",
       "10    116\n",
       "11    114\n",
       "12    130\n",
       "13    118\n",
       "14    138\n",
       "15    134\n",
       "16    120\n",
       "17    120\n",
       "18    114\n",
       "19    124\n",
       "20    114\n",
       "21    136\n",
       "22    126\n",
       "23    124\n",
       "24    128\n",
       "25    134\n",
       "26    112\n",
       "27    128\n",
       "28    134\n",
       "29    128\n",
       "30    140\n",
       "31    138\n",
       "32    118\n",
       "33    110\n",
       "34    142\n",
       "35    134\n",
       "36    116\n",
       "37    132\n",
       "38    152\n",
       "Name: Systol, dtype: int64"
      ]
     },
     "execution_count": 6,
     "metadata": {},
     "output_type": "execute_result"
    }
   ],
   "source": [
    "y"
   ]
  },
  {
   "cell_type": "code",
   "execution_count": 7,
   "metadata": {},
   "outputs": [
    {
     "name": "stdout",
     "output_type": "stream",
     "text": [
      "                            OLS Regression Results                            \n",
      "==============================================================================\n",
      "Dep. Variable:                 Systol   R-squared:                       0.272\n",
      "Model:                            OLS   Adj. R-squared:                  0.252\n",
      "Method:                 Least Squares   F-statistic:                     13.81\n",
      "Date:                Tue, 22 Feb 2022   Prob (F-statistic):           0.000665\n",
      "Time:                        19:31:59   Log-Likelihood:                -149.01\n",
      "No. Observations:                  39   AIC:                             302.0\n",
      "Df Residuals:                      37   BIC:                             305.3\n",
      "Df Model:                           1                                         \n",
      "Covariance Type:            nonrobust                                         \n",
      "==============================================================================\n",
      "                 coef    std err          t      P>|t|      [0.025      0.975]\n",
      "------------------------------------------------------------------------------\n",
      "const         66.5969     16.464      4.045      0.000      33.238      99.956\n",
      "Weight         0.9629      0.259      3.716      0.001       0.438       1.488\n",
      "==============================================================================\n",
      "Omnibus:                        5.876   Durbin-Watson:                   1.787\n",
      "Prob(Omnibus):                  0.053   Jarque-Bera (JB):                4.604\n",
      "Skew:                           0.633   Prob(JB):                        0.100\n",
      "Kurtosis:                       4.109   Cond. No.                         576.\n",
      "==============================================================================\n",
      "\n",
      "Notes:\n",
      "[1] Standard Errors assume that the covariance matrix of the errors is correctly specified.\n"
     ]
    }
   ],
   "source": [
    "model = sm.OLS(y, X)\n",
    "results = model.fit()\n",
    "print(results.summary())"
   ]
  },
  {
   "cell_type": "markdown",
   "metadata": {},
   "source": [
    "# Multiple Linear Regression"
   ]
  },
  {
   "cell_type": "code",
   "execution_count": 8,
   "metadata": {
    "scrolled": true
   },
   "outputs": [
    {
     "name": "stdout",
     "output_type": "stream",
     "text": [
      "                            OLS Regression Results                            \n",
      "==============================================================================\n",
      "Dep. Variable:                 Systol   R-squared:                       0.337\n",
      "Model:                            OLS   Adj. R-squared:                  0.259\n",
      "Method:                 Least Squares   F-statistic:                     4.324\n",
      "Date:                Tue, 22 Feb 2022   Prob (F-statistic):            0.00619\n",
      "Time:                        19:31:59   Log-Likelihood:                -147.17\n",
      "No. Observations:                  39   AIC:                             304.3\n",
      "Df Residuals:                      34   BIC:                             312.7\n",
      "Df Model:                           4                                         \n",
      "Covariance Type:            nonrobust                                         \n",
      "==============================================================================\n",
      "                 coef    std err          t      P>|t|      [0.025      0.975]\n",
      "------------------------------------------------------------------------------\n",
      "const        100.1172     59.699      1.677      0.103     -21.205     221.440\n",
      "Age           -0.4874      0.269     -1.813      0.079      -1.034       0.059\n",
      "Weight         1.2880      0.345      3.728      0.001       0.586       1.990\n",
      "Height        -0.0195      0.040     -0.488      0.629      -0.101       0.062\n",
      "Pulse         -0.0765      0.206     -0.371      0.713      -0.495       0.342\n",
      "==============================================================================\n",
      "Omnibus:                        0.100   Durbin-Watson:                   1.902\n",
      "Prob(Omnibus):                  0.951   Jarque-Bera (JB):                0.055\n",
      "Skew:                           0.064   Prob(JB):                        0.973\n",
      "Kurtosis:                       2.867   Cond. No.                     5.23e+04\n",
      "==============================================================================\n",
      "\n",
      "Notes:\n",
      "[1] Standard Errors assume that the covariance matrix of the errors is correctly specified.\n",
      "[2] The condition number is large, 5.23e+04. This might indicate that there are\n",
      "strong multicollinearity or other numerical problems.\n"
     ]
    }
   ],
   "source": [
    "X = raw_data[['Age','Weight','Height','Pulse']]\n",
    "X = sm.add_constant(X)\n",
    "y = raw_data['Systol']\n",
    "\n",
    "model = sm.OLS(y, X)\n",
    "results = model.fit()\n",
    "print(results.summary())"
   ]
  },
  {
   "cell_type": "markdown",
   "metadata": {},
   "source": [
    "## But have we been doing lies? No."
   ]
  },
  {
   "cell_type": "code",
   "execution_count": 9,
   "metadata": {},
   "outputs": [
    {
     "data": {
      "text/plain": [
       "array([ 1.00117217e+02, -4.87384697e-01,  1.28796234e+00, -1.95478783e-02,\n",
       "       -7.65273076e-02])"
      ]
     },
     "execution_count": 9,
     "metadata": {},
     "output_type": "execute_result"
    }
   ],
   "source": [
    "manual_beta = np.dot(np.dot(np.linalg.inv(np.dot(X.T, X)), X.T), y)\n",
    "manual_beta"
   ]
  },
  {
   "cell_type": "code",
   "execution_count": 10,
   "metadata": {},
   "outputs": [],
   "source": [
    "error_terms = y - np.dot(X, manual_beta)"
   ]
  },
  {
   "cell_type": "code",
   "execution_count": 11,
   "metadata": {},
   "outputs": [
    {
     "data": {
      "text/plain": [
       "127.3244704089468"
      ]
     },
     "execution_count": 11,
     "metadata": {},
     "output_type": "execute_result"
    }
   ],
   "source": [
    "sigma2 = np.var(error_terms, ddof = 5)\n",
    "sigma2"
   ]
  },
  {
   "cell_type": "code",
   "execution_count": 12,
   "metadata": {},
   "outputs": [
    {
     "data": {
      "text/plain": [
       "array([5.96987115e+01, 2.68839075e-01, 3.45468570e-01, 4.00630207e-02,\n",
       "       2.06015043e-01])"
      ]
     },
     "execution_count": 12,
     "metadata": {},
     "output_type": "execute_result"
    }
   ],
   "source": [
    "cov_beta = np.linalg.inv(np.dot(X.T, X))*sigma2\n",
    "var_beta = np.diag(cov_beta)\n",
    "np.sqrt(var_beta)"
   ]
  },
  {
   "cell_type": "markdown",
   "metadata": {},
   "source": [
    "## Enough Monkey's on Enough Typewriters...gives you \"The Moon is a Harsh Mistress\" and \"LOTR\" at the same time!"
   ]
  },
  {
   "cell_type": "code",
   "execution_count": 13,
   "metadata": {},
   "outputs": [
    {
     "name": "stdout",
     "output_type": "stream",
     "text": [
      "                            OLS Regression Results                            \n",
      "==============================================================================\n",
      "Dep. Variable:                      y   R-squared:                       0.100\n",
      "Model:                            OLS   Adj. R-squared:                  0.001\n",
      "Method:                 Least Squares   F-statistic:                     1.007\n",
      "Date:                Tue, 22 Feb 2022   Prob (F-statistic):              0.466\n",
      "Time:                        19:32:01   Log-Likelihood:                -1370.1\n",
      "No. Observations:                1000   AIC:                             2940.\n",
      "Df Residuals:                     900   BIC:                             3431.\n",
      "Df Model:                          99                                         \n",
      "Covariance Type:            nonrobust                                         \n",
      "==============================================================================\n",
      "                 coef    std err          t      P>|t|      [0.025      0.975]\n",
      "------------------------------------------------------------------------------\n",
      "const         -0.0864      0.033     -2.585      0.010      -0.152      -0.021\n",
      "x1             0.0058      0.034      0.169      0.866      -0.061       0.073\n",
      "x2            -0.0274      0.033     -0.828      0.408      -0.092       0.038\n",
      "x3            -0.0331      0.034     -0.969      0.333      -0.100       0.034\n",
      "x4             0.0341      0.034      0.995      0.320      -0.033       0.101\n",
      "x5            -0.0162      0.034     -0.474      0.635      -0.083       0.051\n",
      "x6            -0.0419      0.034     -1.240      0.215      -0.108       0.024\n",
      "x7            -0.0113      0.034     -0.329      0.742      -0.079       0.056\n",
      "x8            -0.0160      0.034     -0.471      0.638      -0.083       0.051\n",
      "x9            -0.0534      0.035     -1.545      0.123      -0.121       0.014\n",
      "x10           -0.0108      0.033     -0.324      0.746      -0.076       0.054\n",
      "x11            0.0067      0.034      0.196      0.845      -0.060       0.074\n",
      "x12           -0.0497      0.032     -1.530      0.126      -0.113       0.014\n",
      "x13           -0.0008      0.034     -0.024      0.981      -0.067       0.066\n",
      "x14           -0.0730      0.034     -2.155      0.031      -0.140      -0.007\n",
      "x15            0.0504      0.034      1.495      0.135      -0.016       0.116\n",
      "x16           -0.0179      0.033     -0.547      0.585      -0.082       0.046\n",
      "x17           -0.0231      0.034     -0.688      0.492      -0.089       0.043\n",
      "x18            0.0155      0.034      0.456      0.649      -0.051       0.082\n",
      "x19           -0.0429      0.034     -1.249      0.212      -0.110       0.024\n",
      "x20            0.0207      0.035      0.599      0.550      -0.047       0.089\n",
      "x21           -0.0140      0.034     -0.407      0.684      -0.081       0.053\n",
      "x22           -0.0258      0.035     -0.747      0.455      -0.094       0.042\n",
      "x23            0.0248      0.033      0.743      0.457      -0.041       0.090\n",
      "x24            0.0037      0.033      0.113      0.910      -0.062       0.069\n",
      "x25           -0.0481      0.034     -1.420      0.156      -0.115       0.018\n",
      "x26           -0.0182      0.034     -0.539      0.590      -0.084       0.048\n",
      "x27           -0.0228      0.033     -0.686      0.493      -0.088       0.042\n",
      "x28           -0.0130      0.034     -0.382      0.703      -0.080       0.054\n",
      "x29            0.0071      0.034      0.206      0.837      -0.060       0.074\n",
      "x30           -0.0378      0.033     -1.135      0.257      -0.103       0.028\n",
      "x31            0.0256      0.035      0.740      0.459      -0.042       0.093\n",
      "x32            0.0471      0.035      1.332      0.183      -0.022       0.116\n",
      "x33            0.0792      0.034      2.317      0.021       0.012       0.146\n",
      "x34            0.0261      0.032      0.802      0.423      -0.038       0.090\n",
      "x35            0.0256      0.033      0.782      0.435      -0.039       0.090\n",
      "x36            0.0150      0.034      0.439      0.661      -0.052       0.082\n",
      "x37            0.0164      0.033      0.496      0.620      -0.049       0.081\n",
      "x38           -0.0566      0.032     -1.754      0.080      -0.120       0.007\n",
      "x39           -0.0178      0.034     -0.522      0.602      -0.085       0.049\n",
      "x40            0.0047      0.034      0.136      0.892      -0.062       0.072\n",
      "x41            0.0357      0.035      1.024      0.306      -0.033       0.104\n",
      "x42           -0.0013      0.034     -0.039      0.969      -0.068       0.065\n",
      "x43           -0.0226      0.034     -0.661      0.509      -0.090       0.044\n",
      "x44           -0.0024      0.035     -0.068      0.946      -0.070       0.065\n",
      "x45            0.0052      0.034      0.154      0.878      -0.061       0.071\n",
      "x46            0.0041      0.033      0.123      0.902      -0.061       0.069\n",
      "x47            0.0465      0.034      1.365      0.173      -0.020       0.113\n",
      "x48           -0.0133      0.032     -0.410      0.682      -0.077       0.050\n",
      "x49            0.0273      0.035      0.790      0.430      -0.041       0.095\n",
      "x50           -0.0140      0.033     -0.423      0.673      -0.079       0.051\n",
      "x51            0.0235      0.034      0.693      0.488      -0.043       0.090\n",
      "x52           -0.0343      0.034     -1.003      0.316      -0.101       0.033\n",
      "x53           -0.0837      0.033     -2.570      0.010      -0.148      -0.020\n",
      "x54            0.0428      0.032      1.318      0.188      -0.021       0.106\n",
      "x55           -0.0130      0.032     -0.402      0.688      -0.077       0.051\n",
      "x56           -0.0063      0.034     -0.184      0.854      -0.073       0.060\n",
      "x57           -0.0497      0.033     -1.496      0.135      -0.115       0.015\n",
      "x58           -0.0420      0.033     -1.258      0.209      -0.107       0.024\n",
      "x59            0.0362      0.032      1.121      0.263      -0.027       0.100\n",
      "x60           -0.0200      0.033     -0.602      0.547      -0.085       0.045\n",
      "x61           -0.0374      0.035     -1.059      0.290      -0.107       0.032\n",
      "x62           -0.0287      0.033     -0.864      0.388      -0.094       0.037\n",
      "x63            0.0230      0.034      0.678      0.498      -0.044       0.090\n",
      "x64           -0.0236      0.033     -0.714      0.475      -0.088       0.041\n",
      "x65           -0.0118      0.034     -0.344      0.731      -0.079       0.056\n",
      "x66            0.0458      0.032      1.418      0.157      -0.018       0.109\n",
      "x67            0.0063      0.033      0.190      0.849      -0.059       0.071\n",
      "x68            0.0158      0.034      0.470      0.638      -0.050       0.082\n",
      "x69            0.0230      0.034      0.683      0.495      -0.043       0.089\n",
      "x70            0.0169      0.032      0.524      0.601      -0.046       0.080\n",
      "x71            0.0053      0.034      0.156      0.876      -0.061       0.072\n",
      "x72           -0.0440      0.032     -1.355      0.176      -0.108       0.020\n",
      "x73           -0.0113      0.033     -0.341      0.734      -0.077       0.054\n",
      "x74           -0.0549      0.035     -1.576      0.115      -0.123       0.013\n",
      "x75           -0.0223      0.033     -0.675      0.500      -0.087       0.043\n",
      "x76            0.0159      0.035      0.457      0.648      -0.052       0.084\n",
      "x77           -0.0144      0.034     -0.428      0.669      -0.081       0.052\n",
      "x78           -0.0471      0.034     -1.378      0.169      -0.114       0.020\n",
      "x79            0.0514      0.034      1.518      0.129      -0.015       0.118\n",
      "x80            0.0250      0.033      0.759      0.448      -0.040       0.090\n",
      "x81            0.0094      0.032      0.288      0.774      -0.054       0.073\n",
      "x82            0.0144      0.035      0.414      0.679      -0.054       0.083\n",
      "x83           -0.0361      0.033     -1.083      0.279      -0.102       0.029\n",
      "x84           -0.0367      0.034     -1.073      0.283      -0.104       0.030\n",
      "x85            0.0278      0.034      0.824      0.410      -0.038       0.094\n",
      "x86            0.0088      0.033      0.264      0.792      -0.057       0.074\n",
      "x87           -0.0096      0.035     -0.276      0.783      -0.078       0.058\n",
      "x88            0.0088      0.034      0.258      0.796      -0.058       0.076\n",
      "x89            0.0297      0.034      0.883      0.377      -0.036       0.096\n",
      "x90           -0.0004      0.034     -0.012      0.990      -0.067       0.066\n",
      "x91            0.0287      0.034      0.838      0.402      -0.038       0.096\n",
      "x92           -0.0009      0.034     -0.027      0.978      -0.067       0.065\n",
      "x93           -0.0186      0.034     -0.553      0.580      -0.085       0.047\n",
      "x94           -0.0129      0.033     -0.390      0.696      -0.078       0.052\n",
      "x95            0.0177      0.034      0.516      0.606      -0.050       0.085\n",
      "x96           -0.0562      0.034     -1.669      0.095      -0.122       0.010\n",
      "x97            0.0644      0.035      1.865      0.063      -0.003       0.132\n",
      "x98           -0.0311      0.032     -0.960      0.338      -0.095       0.033\n",
      "x99            0.0586      0.033      1.751      0.080      -0.007       0.124\n",
      "==============================================================================\n",
      "Omnibus:                        5.351   Durbin-Watson:                   2.014\n",
      "Prob(Omnibus):                  0.069   Jarque-Bera (JB):                4.160\n",
      "Skew:                           0.031   Prob(JB):                        0.125\n",
      "Kurtosis:                       2.690   Cond. No.                         1.88\n",
      "==============================================================================\n",
      "\n",
      "Notes:\n",
      "[1] Standard Errors assume that the covariance matrix of the errors is correctly specified.\n"
     ]
    }
   ],
   "source": [
    "X = np.random.normal(loc=0.0, scale=1.0, size=[1000,99])\n",
    "X = sm.add_constant(X)\n",
    "y = np.random.normal(loc=0.0, scale=1.0, size=[1000,1])\n",
    "model = sm.OLS(y, X)\n",
    "results = model.fit()\n",
    "print(results.summary()) ## \"Enough\""
   ]
  },
  {
   "cell_type": "markdown",
   "metadata": {},
   "source": [
    "# Comparing Models"
   ]
  },
  {
   "cell_type": "markdown",
   "metadata": {},
   "source": [
    "### Nested Models"
   ]
  },
  {
   "cell_type": "code",
   "execution_count": 14,
   "metadata": {},
   "outputs": [
    {
     "name": "stdout",
     "output_type": "stream",
     "text": [
      "                            OLS Regression Results                            \n",
      "==============================================================================\n",
      "Dep. Variable:                      y   R-squared:                       0.951\n",
      "Model:                            OLS   Adj. R-squared:                  0.926\n",
      "Method:                 Least Squares   F-statistic:                     37.03\n",
      "Date:                Tue, 22 Feb 2022   Prob (F-statistic):           2.46e-10\n",
      "Time:                        19:54:32   Log-Likelihood:                -20.868\n",
      "No. Observations:                  30   AIC:                             63.74\n",
      "Df Residuals:                      19   BIC:                             79.15\n",
      "Df Model:                          10                                         \n",
      "Covariance Type:            nonrobust                                         \n",
      "==============================================================================\n",
      "                 coef    std err          t      P>|t|      [0.025      0.975]\n",
      "------------------------------------------------------------------------------\n",
      "const         10.5317      0.739     14.255      0.000       8.985      12.078\n",
      "x1             4.4553      0.445     10.019      0.000       3.525       5.386\n",
      "x2             2.5797      0.525      4.915      0.000       1.481       3.678\n",
      "x3            -0.6245      0.484     -1.290      0.213      -1.638       0.389\n",
      "x4             4.1158      0.468      8.796      0.000       3.136       5.095\n",
      "x5            -0.4413      0.420     -1.050      0.307      -1.321       0.438\n",
      "x6            -0.4599      0.497     -0.925      0.367      -1.501       0.581\n",
      "x7            -0.0539      0.499     -0.108      0.915      -1.097       0.990\n",
      "x8             0.4138      0.454      0.912      0.373      -0.536       1.364\n",
      "x9             0.4913      0.454      1.083      0.292      -0.458       1.441\n",
      "x10            0.1048      0.415      0.252      0.803      -0.764       0.974\n",
      "==============================================================================\n",
      "Omnibus:                        2.870   Durbin-Watson:                   1.772\n",
      "Prob(Omnibus):                  0.238   Jarque-Bera (JB):                1.533\n",
      "Skew:                           0.452   Prob(JB):                        0.465\n",
      "Kurtosis:                       3.639   Cond. No.                         15.6\n",
      "==============================================================================\n",
      "\n",
      "Notes:\n",
      "[1] Standard Errors assume that the covariance matrix of the errors is correctly specified.\n"
     ]
    }
   ],
   "source": [
    "num_obs = 30\n",
    "X = np.random.uniform(size=[num_obs, 10])\n",
    "X = sm.add_constant(X)\n",
    "y = 10 + 5*X[:,1] + 3*X[:,2] + 4*X[:,4] + np.random.normal(loc = 0, scale = 0.6, size = num_obs)\n",
    "\n",
    "model_full = sm.OLS(y, X)\n",
    "results_full = model_full.fit()\n",
    "print(results_full.summary()) ## \"Enough\""
   ]
  },
  {
   "cell_type": "code",
   "execution_count": 15,
   "metadata": {},
   "outputs": [
    {
     "name": "stdout",
     "output_type": "stream",
     "text": [
      "                            OLS Regression Results                            \n",
      "==============================================================================\n",
      "Dep. Variable:                      y   R-squared:                       0.937\n",
      "Model:                            OLS   Adj. R-squared:                  0.929\n",
      "Method:                 Least Squares   F-statistic:                     128.3\n",
      "Date:                Tue, 22 Feb 2022   Prob (F-statistic):           1.06e-15\n",
      "Time:                        19:55:30   Log-Likelihood:                -24.763\n",
      "No. Observations:                  30   AIC:                             57.53\n",
      "Df Residuals:                      26   BIC:                             63.13\n",
      "Df Model:                           3                                         \n",
      "Covariance Type:            nonrobust                                         \n",
      "==============================================================================\n",
      "                 coef    std err          t      P>|t|      [0.025      0.975]\n",
      "------------------------------------------------------------------------------\n",
      "const         10.2584      0.318     32.227      0.000       9.604      10.913\n",
      "x1             4.1470      0.366     11.321      0.000       3.394       4.900\n",
      "x2             2.9204      0.413      7.078      0.000       2.072       3.769\n",
      "x3             4.2205      0.411     10.268      0.000       3.376       5.065\n",
      "==============================================================================\n",
      "Omnibus:                        1.711   Durbin-Watson:                   1.934\n",
      "Prob(Omnibus):                  0.425   Jarque-Bera (JB):                0.664\n",
      "Skew:                           0.246   Prob(JB):                        0.717\n",
      "Kurtosis:                       3.539   Cond. No.                         6.10\n",
      "==============================================================================\n",
      "\n",
      "Notes:\n",
      "[1] Standard Errors assume that the covariance matrix of the errors is correctly specified.\n"
     ]
    }
   ],
   "source": [
    "model_reduced = sm.OLS(y, X[:,[0,1,2,4]])\n",
    "results_reduced = model_reduced.fit()\n",
    "print(results_reduced.summary())"
   ]
  },
  {
   "cell_type": "code",
   "execution_count": 16,
   "metadata": {
    "scrolled": false
   },
   "outputs": [
    {
     "name": "stdout",
     "output_type": "stream",
     "text": [
      "                            OLS Regression Results                            \n",
      "==============================================================================\n",
      "Dep. Variable:                      y   R-squared:                       0.680\n",
      "Model:                            OLS   Adj. R-squared:                  0.656\n",
      "Method:                 Least Squares   F-statistic:                     28.70\n",
      "Date:                Tue, 22 Feb 2022   Prob (F-statistic):           2.08e-07\n",
      "Time:                        19:55:43   Log-Likelihood:                -49.070\n",
      "No. Observations:                  30   AIC:                             104.1\n",
      "Df Residuals:                      27   BIC:                             108.3\n",
      "Df Model:                           2                                         \n",
      "Covariance Type:            nonrobust                                         \n",
      "==============================================================================\n",
      "                 coef    std err          t      P>|t|      [0.025      0.975]\n",
      "------------------------------------------------------------------------------\n",
      "const         12.1705      0.570     21.366      0.000      11.002      13.339\n",
      "x1             4.1664      0.808      5.155      0.000       2.508       5.825\n",
      "x2             3.8637      0.888      4.353      0.000       2.043       5.685\n",
      "==============================================================================\n",
      "Omnibus:                        7.333   Durbin-Watson:                   2.224\n",
      "Prob(Omnibus):                  0.026   Jarque-Bera (JB):                2.103\n",
      "Skew:                           0.098   Prob(JB):                        0.349\n",
      "Kurtosis:                       1.718   Cond. No.                         4.87\n",
      "==============================================================================\n",
      "\n",
      "Notes:\n",
      "[1] Standard Errors assume that the covariance matrix of the errors is correctly specified.\n"
     ]
    }
   ],
   "source": [
    "model_dropping_useful = sm.OLS(y, X[:,[0,1,2]])\n",
    "results_dropping_useful = model_dropping_useful.fit()\n",
    "print(results_dropping_useful.summary())"
   ]
  },
  {
   "cell_type": "code",
   "execution_count": 18,
   "metadata": {},
   "outputs": [
    {
     "data": {
      "text/html": [
       "<div>\n",
       "<style scoped>\n",
       "    .dataframe tbody tr th:only-of-type {\n",
       "        vertical-align: middle;\n",
       "    }\n",
       "\n",
       "    .dataframe tbody tr th {\n",
       "        vertical-align: top;\n",
       "    }\n",
       "\n",
       "    .dataframe thead th {\n",
       "        text-align: right;\n",
       "    }\n",
       "</style>\n",
       "<table border=\"1\" class=\"dataframe\">\n",
       "  <thead>\n",
       "    <tr style=\"text-align: right;\">\n",
       "      <th></th>\n",
       "      <th>df_resid</th>\n",
       "      <th>ssr</th>\n",
       "      <th>df_diff</th>\n",
       "      <th>ss_diff</th>\n",
       "      <th>F</th>\n",
       "      <th>Pr(&gt;F)</th>\n",
       "    </tr>\n",
       "  </thead>\n",
       "  <tbody>\n",
       "    <tr>\n",
       "      <th>0</th>\n",
       "      <td>26.0</td>\n",
       "      <td>9.154151</td>\n",
       "      <td>0.0</td>\n",
       "      <td>NaN</td>\n",
       "      <td>NaN</td>\n",
       "      <td>NaN</td>\n",
       "    </tr>\n",
       "    <tr>\n",
       "      <th>1</th>\n",
       "      <td>19.0</td>\n",
       "      <td>7.060583</td>\n",
       "      <td>7.0</td>\n",
       "      <td>2.093568</td>\n",
       "      <td>0.804826</td>\n",
       "      <td>0.5936</td>\n",
       "    </tr>\n",
       "  </tbody>\n",
       "</table>\n",
       "</div>"
      ],
      "text/plain": [
       "   df_resid       ssr  df_diff   ss_diff         F  Pr(>F)\n",
       "0      26.0  9.154151      0.0       NaN       NaN     NaN\n",
       "1      19.0  7.060583      7.0  2.093568  0.804826  0.5936"
      ]
     },
     "execution_count": 18,
     "metadata": {},
     "output_type": "execute_result"
    }
   ],
   "source": [
    "from statsmodels.stats.anova import anova_lm\n",
    "anova_lm(results_reduced,results_full)"
   ]
  },
  {
   "cell_type": "code",
   "execution_count": 19,
   "metadata": {},
   "outputs": [
    {
     "data": {
      "text/html": [
       "<div>\n",
       "<style scoped>\n",
       "    .dataframe tbody tr th:only-of-type {\n",
       "        vertical-align: middle;\n",
       "    }\n",
       "\n",
       "    .dataframe tbody tr th {\n",
       "        vertical-align: top;\n",
       "    }\n",
       "\n",
       "    .dataframe thead th {\n",
       "        text-align: right;\n",
       "    }\n",
       "</style>\n",
       "<table border=\"1\" class=\"dataframe\">\n",
       "  <thead>\n",
       "    <tr style=\"text-align: right;\">\n",
       "      <th></th>\n",
       "      <th>df_resid</th>\n",
       "      <th>ssr</th>\n",
       "      <th>df_diff</th>\n",
       "      <th>ss_diff</th>\n",
       "      <th>F</th>\n",
       "      <th>Pr(&gt;F)</th>\n",
       "    </tr>\n",
       "  </thead>\n",
       "  <tbody>\n",
       "    <tr>\n",
       "      <th>0</th>\n",
       "      <td>27.0</td>\n",
       "      <td>46.276957</td>\n",
       "      <td>0.0</td>\n",
       "      <td>NaN</td>\n",
       "      <td>NaN</td>\n",
       "      <td>NaN</td>\n",
       "    </tr>\n",
       "    <tr>\n",
       "      <th>1</th>\n",
       "      <td>19.0</td>\n",
       "      <td>7.060583</td>\n",
       "      <td>8.0</td>\n",
       "      <td>39.216373</td>\n",
       "      <td>13.191387</td>\n",
       "      <td>0.000003</td>\n",
       "    </tr>\n",
       "  </tbody>\n",
       "</table>\n",
       "</div>"
      ],
      "text/plain": [
       "   df_resid        ssr  df_diff    ss_diff          F    Pr(>F)\n",
       "0      27.0  46.276957      0.0        NaN        NaN       NaN\n",
       "1      19.0   7.060583      8.0  39.216373  13.191387  0.000003"
      ]
     },
     "execution_count": 19,
     "metadata": {},
     "output_type": "execute_result"
    }
   ],
   "source": [
    "from statsmodels.stats.anova import anova_lm\n",
    "anova_lm(results_dropping_useful, results_full)"
   ]
  },
  {
   "cell_type": "markdown",
   "metadata": {},
   "source": [
    "### Are we telling lies? Let's do it by hand"
   ]
  },
  {
   "cell_type": "code",
   "execution_count": 20,
   "metadata": {},
   "outputs": [
    {
     "name": "stdout",
     "output_type": "stream",
     "text": [
      "0.8048260336714497\n"
     ]
    }
   ],
   "source": [
    "numerator = np.sum((results_reduced.resid**2 - results_full.resid**2))/(results_reduced.df_resid- results_full.df_resid)\n",
    "denominator = np.sum((results_full.resid**2))/(results_full.df_resid)\n",
    "F_stat = numerator/denominator\n",
    "print(F_stat)"
   ]
  },
  {
   "cell_type": "code",
   "execution_count": 21,
   "metadata": {},
   "outputs": [
    {
     "data": {
      "text/plain": [
       "0.5936003116813156"
      ]
     },
     "execution_count": 21,
     "metadata": {},
     "output_type": "execute_result"
    }
   ],
   "source": [
    "from scipy.stats import f\n",
    "1-f.cdf(F_stat, (results_reduced.df_resid- results_full.df_resid), results_full.df_resid)"
   ]
  },
  {
   "cell_type": "markdown",
   "metadata": {},
   "source": [
    "### Let's go back and look at R^2 and adjusted R^2"
   ]
  },
  {
   "cell_type": "markdown",
   "metadata": {},
   "source": [
    "### Stepwise Regression (actually uses cross-validation) but the idea is the same!"
   ]
  },
  {
   "cell_type": "code",
   "execution_count": 26,
   "metadata": {},
   "outputs": [
    {
     "data": {
      "text/plain": [
       "array([ 0.        ,  4.45525474,  2.5796808 , -0.62446963,  4.11583567,\n",
       "       -0.44134847, -0.45993292, -0.05387097,  0.41380227,  0.49132356,\n",
       "        0.10481864])"
      ]
     },
     "execution_count": 26,
     "metadata": {},
     "output_type": "execute_result"
    }
   ],
   "source": [
    "from sklearn.feature_selection import SequentialFeatureSelector\n",
    "from sklearn.linear_model import LinearRegression\n",
    "reg = LinearRegression().fit(X, y)\n",
    "reg.coef_"
   ]
  },
  {
   "cell_type": "code",
   "execution_count": 27,
   "metadata": {},
   "outputs": [
    {
     "data": {
      "text/plain": [
       "10.53169469051823"
      ]
     },
     "execution_count": 27,
     "metadata": {},
     "output_type": "execute_result"
    }
   ],
   "source": [
    "reg.intercept_"
   ]
  },
  {
   "cell_type": "code",
   "execution_count": 28,
   "metadata": {},
   "outputs": [
    {
     "data": {
      "text/plain": [
       "array([False,  True,  True, False,  True, False, False, False,  True,\n",
       "       False, False])"
      ]
     },
     "execution_count": 28,
     "metadata": {},
     "output_type": "execute_result"
    }
   ],
   "source": [
    "reg_sequential =LinearRegression()\n",
    "sfs = SequentialFeatureSelector(reg_sequential, n_features_to_select=4)\n",
    "sfs.fit(X,y)\n",
    "sfs.get_support()"
   ]
  },
  {
   "cell_type": "code",
   "execution_count": null,
   "metadata": {},
   "outputs": [],
   "source": []
  },
  {
   "cell_type": "code",
   "execution_count": null,
   "metadata": {},
   "outputs": [],
   "source": []
  }
 ],
 "metadata": {
  "kernelspec": {
   "display_name": "Python 3",
   "language": "python",
   "name": "python3"
  },
  "language_info": {
   "codemirror_mode": {
    "name": "ipython",
    "version": 3
   },
   "file_extension": ".py",
   "mimetype": "text/x-python",
   "name": "python",
   "nbconvert_exporter": "python",
   "pygments_lexer": "ipython3",
   "version": "3.8.5"
  }
 },
 "nbformat": 4,
 "nbformat_minor": 4
}
