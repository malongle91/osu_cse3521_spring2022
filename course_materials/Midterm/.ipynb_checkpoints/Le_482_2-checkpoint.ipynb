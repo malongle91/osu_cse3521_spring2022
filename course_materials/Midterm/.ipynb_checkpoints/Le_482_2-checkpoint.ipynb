{
 "cells": [
  {
   "cell_type": "markdown",
   "metadata": {},
   "source": [
    "# CSE3521 Midterm Part2 \n",
    "\n",
    "## Name: Malong Le (.482)\n",
    "\n",
    "This is the second part of the midterm and it is meant to give you an opportunity to do a proper linear regression analysis on some interesting data. \n",
    "\n",
    "The data can be found here:  https://www.kaggle.com/uciml/red-wine-quality-cortez-et-al-2009. The goal of this analysis is to the various properties of the wine to explain it's ultimate \"quality\" using a linear model.\n",
    "\n",
    "## A couple of comments:\n",
    "In general, what I'm looking for here is an interesting analysis and interpretation of the results. I leave the conclusions up to you but I would like a coherent and thought out conclusion/story from your analysis.\n",
    "- You are free to look at what other people on the internet have done (kaggle/stack overflow/etc) and try to synthesize parts into your own analysis. However, all conclusions and interpretations should be your own.\n",
    "- You are *NOT* allowed to discuss with your classmates.\n",
    "- You are welcome to try combining techniques (for example doing PCA on the data or making new variables from the ones that already are there) to try to improve your regression model.\n",
    "- You are welcome to use any packages you want BUT be sure to use them correctly! Don't make errors by not reading the docuumentation. \n",
    "\n",
    "\n",
    "## How to get the most marks \n",
    "##### First, if you make an honest attempt using just the items we covered in class, you'll already get most of them -- so don't panic! More details below:\n",
    "\n",
    "\n",
    "- Use the model comparison techniques we learned in class to fit what you be believe is the \"best model\".\n",
    "- Strong and compelling visuals, tables and analysis go a long way in convincing your audience about the results of your analysis. Use them. Don't just show a table of the regression output from statsmodels and call it a day.\n",
    "- Take a look at the summary statistics of the variables (feel free to use helper functions -- for example check out pd.describe in the pandas package).\n",
    "- Interpret the coefficients you find important to the model. If you use PCA/SVD/other methods (definitely not required but may be interesting to do),  be sure to explain what the new data means and how it was used.\n",
    "- In general, I won't give more credit to a model with slightly higher accuracy BUT I also won't give credit where no effort was made to fit a good model (duh!). For example, if you just fit the average with no covariates -- that probably isn't the best approach.\n",
    "- One of the things we didn't cover in great depth was testing that the final regression line fits the assumptions of linear regression (for example, one of the assumptions is that the error terms are normally distributed). Check these assumptions for your final model and interpret them. The point of this is to have you read something new from other sources and figure out how to incorporate it into your own work.\n",
    "- When you get to a final model, specify what features you ended up using and how you came to that decision. \n",
    "\n",
    "\n",
    "## General Rules\n",
    " - Be SURE to UNDERSTAND something if you use it. Don't just copy and paste blindly.  For example, if you use cross-validation, that's great! Just use it appropriately.\n",
    " - Write a conclusion regarding what you found. Be sure to outline the strengths, weaknesses, what else you might want to do in a potential future analysis.\n",
    " "
   ]
  },
  {
   "cell_type": "markdown",
   "metadata": {},
   "source": [
    "# Part 1: Fitting the Model"
   ]
  },
  {
   "cell_type": "markdown",
   "metadata": {},
   "source": [
    "## Summary of My Methodology\n",
    "\n",
    "All tests for significance below will use the level, **P-Value = 0.05**.\n",
    "\n",
    "1. Perform a single variable linear regression for each variable, taking note of the variables that **are insignificant** (Large P-Value).\n",
    "\n",
    "### Perform Backwards Linear Regression according to the procedure we covered in class.\n",
    "\n",
    "2. Start with a multi-variable linear regression for all the variables that were significant in Step 1 above.\n",
    "\n",
    "3. One-by-one, identify insignificant variables and perform a new linear regression without them, until the **only variables remaining are significant** (Low P-Value).\n",
    "\n",
    "### Identify Redundant Variables (correlated with each other) to eliminate.\n",
    "\n",
    "4. From the **correlation matrix** of the raw data, see if any of the significant variables remaining are correlated or not.\n",
    "\n",
    "5. If significant variables are correlated, eliminate the variable with **less significance** in the linear regression model."
   ]
  },
  {
   "cell_type": "markdown",
   "metadata": {},
   "source": [
    "### Read in the data from the CSV file."
   ]
  },
  {
   "cell_type": "code",
   "execution_count": 1,
   "metadata": {},
   "outputs": [],
   "source": [
    "# Packages.\n",
    "import numpy\n",
    "import pandas\n",
    "import statsmodels.api as statsmodels\n",
    "from statsmodels.stats.anova import anova_lm\n",
    "import matplotlib.pyplot as pyplot"
   ]
  },
  {
   "cell_type": "code",
   "execution_count": 2,
   "metadata": {},
   "outputs": [
    {
     "data": {
      "text/plain": [
       "(1599, 12)"
      ]
     },
     "execution_count": 2,
     "metadata": {},
     "output_type": "execute_result"
    }
   ],
   "source": [
    "# Reading in the wine data.\n",
    "raw_data = pandas.read_csv(\"./data/winequality-red.csv\")\n",
    "raw_data.shape"
   ]
  },
  {
   "cell_type": "markdown",
   "metadata": {},
   "source": [
    "### What do these columns mean?\n",
    "\n",
    "The target (y) variable is the **\"Quality\"** of the wine, a 1-10 score.\n",
    "\n",
    "There are 11 features (x) to choose from:\n",
    "1. **Fixed Acidity** - Levels of non-volatile (\"fixed\") acids.\n",
    "\n",
    "2. **Volatile Acidity** - Levels of acetic (volatile) acid, too much unpleasant.\n",
    "\n",
    "3. **Citric Acid** - Level of citric acid, can add \"freshness\" to wine.\n",
    "\n",
    "4. **Residual Sugar** - Level of sugar left after fermentation. \"Sweet\" wines are above 45 g/L.\n",
    "\n",
    "5. **Chlorides** - Level of salt in wine.\n",
    "\n",
    "6. **Free Sulfur Dioxide** - Level of free SO2, prevents microbial growth and oxidation.\n",
    "\n",
    "7. **Total Sulfur Dioxide** - Level of free and bound SO2 together. Becomes evident (bad?) when over 50 ppm.\n",
    "\n",
    "8. **Density** - Depends on percent alcohol and sugar content, usually close to water.\n",
    "\n",
    "9. **pH** - Acidity of wine from 0 to 14, most being between 3 and 4.\n",
    "\n",
    "10. **Sulphates** - Level of additive that contributes to SO2 levels. Acts as antimicrobial and antioxidant.\n",
    "\n",
    "11. **Alcohol** - Level of alcohol.\n"
   ]
  },
  {
   "cell_type": "code",
   "execution_count": 3,
   "metadata": {},
   "outputs": [
    {
     "data": {
      "text/html": [
       "<div>\n",
       "<style scoped>\n",
       "    .dataframe tbody tr th:only-of-type {\n",
       "        vertical-align: middle;\n",
       "    }\n",
       "\n",
       "    .dataframe tbody tr th {\n",
       "        vertical-align: top;\n",
       "    }\n",
       "\n",
       "    .dataframe thead th {\n",
       "        text-align: right;\n",
       "    }\n",
       "</style>\n",
       "<table border=\"1\" class=\"dataframe\">\n",
       "  <thead>\n",
       "    <tr style=\"text-align: right;\">\n",
       "      <th></th>\n",
       "      <th>fixed acidity</th>\n",
       "      <th>volatile acidity</th>\n",
       "      <th>citric acid</th>\n",
       "      <th>residual sugar</th>\n",
       "      <th>chlorides</th>\n",
       "      <th>free sulfur dioxide</th>\n",
       "      <th>total sulfur dioxide</th>\n",
       "      <th>density</th>\n",
       "      <th>pH</th>\n",
       "      <th>sulphates</th>\n",
       "      <th>alcohol</th>\n",
       "      <th>quality</th>\n",
       "    </tr>\n",
       "  </thead>\n",
       "  <tbody>\n",
       "    <tr>\n",
       "      <th>0</th>\n",
       "      <td>7.4</td>\n",
       "      <td>0.700</td>\n",
       "      <td>0.00</td>\n",
       "      <td>1.9</td>\n",
       "      <td>0.076</td>\n",
       "      <td>11.0</td>\n",
       "      <td>34.0</td>\n",
       "      <td>0.99780</td>\n",
       "      <td>3.51</td>\n",
       "      <td>0.56</td>\n",
       "      <td>9.4</td>\n",
       "      <td>5</td>\n",
       "    </tr>\n",
       "    <tr>\n",
       "      <th>1</th>\n",
       "      <td>7.8</td>\n",
       "      <td>0.880</td>\n",
       "      <td>0.00</td>\n",
       "      <td>2.6</td>\n",
       "      <td>0.098</td>\n",
       "      <td>25.0</td>\n",
       "      <td>67.0</td>\n",
       "      <td>0.99680</td>\n",
       "      <td>3.20</td>\n",
       "      <td>0.68</td>\n",
       "      <td>9.8</td>\n",
       "      <td>5</td>\n",
       "    </tr>\n",
       "    <tr>\n",
       "      <th>2</th>\n",
       "      <td>7.8</td>\n",
       "      <td>0.760</td>\n",
       "      <td>0.04</td>\n",
       "      <td>2.3</td>\n",
       "      <td>0.092</td>\n",
       "      <td>15.0</td>\n",
       "      <td>54.0</td>\n",
       "      <td>0.99700</td>\n",
       "      <td>3.26</td>\n",
       "      <td>0.65</td>\n",
       "      <td>9.8</td>\n",
       "      <td>5</td>\n",
       "    </tr>\n",
       "    <tr>\n",
       "      <th>3</th>\n",
       "      <td>11.2</td>\n",
       "      <td>0.280</td>\n",
       "      <td>0.56</td>\n",
       "      <td>1.9</td>\n",
       "      <td>0.075</td>\n",
       "      <td>17.0</td>\n",
       "      <td>60.0</td>\n",
       "      <td>0.99800</td>\n",
       "      <td>3.16</td>\n",
       "      <td>0.58</td>\n",
       "      <td>9.8</td>\n",
       "      <td>6</td>\n",
       "    </tr>\n",
       "    <tr>\n",
       "      <th>4</th>\n",
       "      <td>7.4</td>\n",
       "      <td>0.700</td>\n",
       "      <td>0.00</td>\n",
       "      <td>1.9</td>\n",
       "      <td>0.076</td>\n",
       "      <td>11.0</td>\n",
       "      <td>34.0</td>\n",
       "      <td>0.99780</td>\n",
       "      <td>3.51</td>\n",
       "      <td>0.56</td>\n",
       "      <td>9.4</td>\n",
       "      <td>5</td>\n",
       "    </tr>\n",
       "    <tr>\n",
       "      <th>...</th>\n",
       "      <td>...</td>\n",
       "      <td>...</td>\n",
       "      <td>...</td>\n",
       "      <td>...</td>\n",
       "      <td>...</td>\n",
       "      <td>...</td>\n",
       "      <td>...</td>\n",
       "      <td>...</td>\n",
       "      <td>...</td>\n",
       "      <td>...</td>\n",
       "      <td>...</td>\n",
       "      <td>...</td>\n",
       "    </tr>\n",
       "    <tr>\n",
       "      <th>1594</th>\n",
       "      <td>6.2</td>\n",
       "      <td>0.600</td>\n",
       "      <td>0.08</td>\n",
       "      <td>2.0</td>\n",
       "      <td>0.090</td>\n",
       "      <td>32.0</td>\n",
       "      <td>44.0</td>\n",
       "      <td>0.99490</td>\n",
       "      <td>3.45</td>\n",
       "      <td>0.58</td>\n",
       "      <td>10.5</td>\n",
       "      <td>5</td>\n",
       "    </tr>\n",
       "    <tr>\n",
       "      <th>1595</th>\n",
       "      <td>5.9</td>\n",
       "      <td>0.550</td>\n",
       "      <td>0.10</td>\n",
       "      <td>2.2</td>\n",
       "      <td>0.062</td>\n",
       "      <td>39.0</td>\n",
       "      <td>51.0</td>\n",
       "      <td>0.99512</td>\n",
       "      <td>3.52</td>\n",
       "      <td>0.76</td>\n",
       "      <td>11.2</td>\n",
       "      <td>6</td>\n",
       "    </tr>\n",
       "    <tr>\n",
       "      <th>1596</th>\n",
       "      <td>6.3</td>\n",
       "      <td>0.510</td>\n",
       "      <td>0.13</td>\n",
       "      <td>2.3</td>\n",
       "      <td>0.076</td>\n",
       "      <td>29.0</td>\n",
       "      <td>40.0</td>\n",
       "      <td>0.99574</td>\n",
       "      <td>3.42</td>\n",
       "      <td>0.75</td>\n",
       "      <td>11.0</td>\n",
       "      <td>6</td>\n",
       "    </tr>\n",
       "    <tr>\n",
       "      <th>1597</th>\n",
       "      <td>5.9</td>\n",
       "      <td>0.645</td>\n",
       "      <td>0.12</td>\n",
       "      <td>2.0</td>\n",
       "      <td>0.075</td>\n",
       "      <td>32.0</td>\n",
       "      <td>44.0</td>\n",
       "      <td>0.99547</td>\n",
       "      <td>3.57</td>\n",
       "      <td>0.71</td>\n",
       "      <td>10.2</td>\n",
       "      <td>5</td>\n",
       "    </tr>\n",
       "    <tr>\n",
       "      <th>1598</th>\n",
       "      <td>6.0</td>\n",
       "      <td>0.310</td>\n",
       "      <td>0.47</td>\n",
       "      <td>3.6</td>\n",
       "      <td>0.067</td>\n",
       "      <td>18.0</td>\n",
       "      <td>42.0</td>\n",
       "      <td>0.99549</td>\n",
       "      <td>3.39</td>\n",
       "      <td>0.66</td>\n",
       "      <td>11.0</td>\n",
       "      <td>6</td>\n",
       "    </tr>\n",
       "  </tbody>\n",
       "</table>\n",
       "<p>1599 rows × 12 columns</p>\n",
       "</div>"
      ],
      "text/plain": [
       "      fixed acidity  volatile acidity  citric acid  residual sugar  chlorides  \\\n",
       "0               7.4             0.700         0.00             1.9      0.076   \n",
       "1               7.8             0.880         0.00             2.6      0.098   \n",
       "2               7.8             0.760         0.04             2.3      0.092   \n",
       "3              11.2             0.280         0.56             1.9      0.075   \n",
       "4               7.4             0.700         0.00             1.9      0.076   \n",
       "...             ...               ...          ...             ...        ...   \n",
       "1594            6.2             0.600         0.08             2.0      0.090   \n",
       "1595            5.9             0.550         0.10             2.2      0.062   \n",
       "1596            6.3             0.510         0.13             2.3      0.076   \n",
       "1597            5.9             0.645         0.12             2.0      0.075   \n",
       "1598            6.0             0.310         0.47             3.6      0.067   \n",
       "\n",
       "      free sulfur dioxide  total sulfur dioxide  density    pH  sulphates  \\\n",
       "0                    11.0                  34.0  0.99780  3.51       0.56   \n",
       "1                    25.0                  67.0  0.99680  3.20       0.68   \n",
       "2                    15.0                  54.0  0.99700  3.26       0.65   \n",
       "3                    17.0                  60.0  0.99800  3.16       0.58   \n",
       "4                    11.0                  34.0  0.99780  3.51       0.56   \n",
       "...                   ...                   ...      ...   ...        ...   \n",
       "1594                 32.0                  44.0  0.99490  3.45       0.58   \n",
       "1595                 39.0                  51.0  0.99512  3.52       0.76   \n",
       "1596                 29.0                  40.0  0.99574  3.42       0.75   \n",
       "1597                 32.0                  44.0  0.99547  3.57       0.71   \n",
       "1598                 18.0                  42.0  0.99549  3.39       0.66   \n",
       "\n",
       "      alcohol  quality  \n",
       "0         9.4        5  \n",
       "1         9.8        5  \n",
       "2         9.8        5  \n",
       "3         9.8        6  \n",
       "4         9.4        5  \n",
       "...       ...      ...  \n",
       "1594     10.5        5  \n",
       "1595     11.2        6  \n",
       "1596     11.0        6  \n",
       "1597     10.2        5  \n",
       "1598     11.0        6  \n",
       "\n",
       "[1599 rows x 12 columns]"
      ]
     },
     "execution_count": 3,
     "metadata": {},
     "output_type": "execute_result"
    }
   ],
   "source": [
    "raw_data"
   ]
  },
  {
   "cell_type": "code",
   "execution_count": 4,
   "metadata": {},
   "outputs": [
    {
     "data": {
      "text/html": [
       "<div>\n",
       "<style scoped>\n",
       "    .dataframe tbody tr th:only-of-type {\n",
       "        vertical-align: middle;\n",
       "    }\n",
       "\n",
       "    .dataframe tbody tr th {\n",
       "        vertical-align: top;\n",
       "    }\n",
       "\n",
       "    .dataframe thead th {\n",
       "        text-align: right;\n",
       "    }\n",
       "</style>\n",
       "<table border=\"1\" class=\"dataframe\">\n",
       "  <thead>\n",
       "    <tr style=\"text-align: right;\">\n",
       "      <th></th>\n",
       "      <th>fixed acidity</th>\n",
       "      <th>volatile acidity</th>\n",
       "      <th>citric acid</th>\n",
       "      <th>residual sugar</th>\n",
       "      <th>chlorides</th>\n",
       "      <th>free sulfur dioxide</th>\n",
       "      <th>total sulfur dioxide</th>\n",
       "      <th>density</th>\n",
       "      <th>pH</th>\n",
       "      <th>sulphates</th>\n",
       "      <th>alcohol</th>\n",
       "      <th>quality</th>\n",
       "    </tr>\n",
       "  </thead>\n",
       "  <tbody>\n",
       "    <tr>\n",
       "      <th>count</th>\n",
       "      <td>1599.000000</td>\n",
       "      <td>1599.000000</td>\n",
       "      <td>1599.000000</td>\n",
       "      <td>1599.000000</td>\n",
       "      <td>1599.000000</td>\n",
       "      <td>1599.000000</td>\n",
       "      <td>1599.000000</td>\n",
       "      <td>1599.000000</td>\n",
       "      <td>1599.000000</td>\n",
       "      <td>1599.000000</td>\n",
       "      <td>1599.000000</td>\n",
       "      <td>1599.000000</td>\n",
       "    </tr>\n",
       "    <tr>\n",
       "      <th>mean</th>\n",
       "      <td>8.319637</td>\n",
       "      <td>0.527821</td>\n",
       "      <td>0.270976</td>\n",
       "      <td>2.538806</td>\n",
       "      <td>0.087467</td>\n",
       "      <td>15.874922</td>\n",
       "      <td>46.467792</td>\n",
       "      <td>0.996747</td>\n",
       "      <td>3.311113</td>\n",
       "      <td>0.658149</td>\n",
       "      <td>10.422983</td>\n",
       "      <td>5.636023</td>\n",
       "    </tr>\n",
       "    <tr>\n",
       "      <th>std</th>\n",
       "      <td>1.741096</td>\n",
       "      <td>0.179060</td>\n",
       "      <td>0.194801</td>\n",
       "      <td>1.409928</td>\n",
       "      <td>0.047065</td>\n",
       "      <td>10.460157</td>\n",
       "      <td>32.895324</td>\n",
       "      <td>0.001887</td>\n",
       "      <td>0.154386</td>\n",
       "      <td>0.169507</td>\n",
       "      <td>1.065668</td>\n",
       "      <td>0.807569</td>\n",
       "    </tr>\n",
       "    <tr>\n",
       "      <th>min</th>\n",
       "      <td>4.600000</td>\n",
       "      <td>0.120000</td>\n",
       "      <td>0.000000</td>\n",
       "      <td>0.900000</td>\n",
       "      <td>0.012000</td>\n",
       "      <td>1.000000</td>\n",
       "      <td>6.000000</td>\n",
       "      <td>0.990070</td>\n",
       "      <td>2.740000</td>\n",
       "      <td>0.330000</td>\n",
       "      <td>8.400000</td>\n",
       "      <td>3.000000</td>\n",
       "    </tr>\n",
       "    <tr>\n",
       "      <th>25%</th>\n",
       "      <td>7.100000</td>\n",
       "      <td>0.390000</td>\n",
       "      <td>0.090000</td>\n",
       "      <td>1.900000</td>\n",
       "      <td>0.070000</td>\n",
       "      <td>7.000000</td>\n",
       "      <td>22.000000</td>\n",
       "      <td>0.995600</td>\n",
       "      <td>3.210000</td>\n",
       "      <td>0.550000</td>\n",
       "      <td>9.500000</td>\n",
       "      <td>5.000000</td>\n",
       "    </tr>\n",
       "    <tr>\n",
       "      <th>50%</th>\n",
       "      <td>7.900000</td>\n",
       "      <td>0.520000</td>\n",
       "      <td>0.260000</td>\n",
       "      <td>2.200000</td>\n",
       "      <td>0.079000</td>\n",
       "      <td>14.000000</td>\n",
       "      <td>38.000000</td>\n",
       "      <td>0.996750</td>\n",
       "      <td>3.310000</td>\n",
       "      <td>0.620000</td>\n",
       "      <td>10.200000</td>\n",
       "      <td>6.000000</td>\n",
       "    </tr>\n",
       "    <tr>\n",
       "      <th>75%</th>\n",
       "      <td>9.200000</td>\n",
       "      <td>0.640000</td>\n",
       "      <td>0.420000</td>\n",
       "      <td>2.600000</td>\n",
       "      <td>0.090000</td>\n",
       "      <td>21.000000</td>\n",
       "      <td>62.000000</td>\n",
       "      <td>0.997835</td>\n",
       "      <td>3.400000</td>\n",
       "      <td>0.730000</td>\n",
       "      <td>11.100000</td>\n",
       "      <td>6.000000</td>\n",
       "    </tr>\n",
       "    <tr>\n",
       "      <th>max</th>\n",
       "      <td>15.900000</td>\n",
       "      <td>1.580000</td>\n",
       "      <td>1.000000</td>\n",
       "      <td>15.500000</td>\n",
       "      <td>0.611000</td>\n",
       "      <td>72.000000</td>\n",
       "      <td>289.000000</td>\n",
       "      <td>1.003690</td>\n",
       "      <td>4.010000</td>\n",
       "      <td>2.000000</td>\n",
       "      <td>14.900000</td>\n",
       "      <td>8.000000</td>\n",
       "    </tr>\n",
       "  </tbody>\n",
       "</table>\n",
       "</div>"
      ],
      "text/plain": [
       "       fixed acidity  volatile acidity  citric acid  residual sugar  \\\n",
       "count    1599.000000       1599.000000  1599.000000     1599.000000   \n",
       "mean        8.319637          0.527821     0.270976        2.538806   \n",
       "std         1.741096          0.179060     0.194801        1.409928   \n",
       "min         4.600000          0.120000     0.000000        0.900000   \n",
       "25%         7.100000          0.390000     0.090000        1.900000   \n",
       "50%         7.900000          0.520000     0.260000        2.200000   \n",
       "75%         9.200000          0.640000     0.420000        2.600000   \n",
       "max        15.900000          1.580000     1.000000       15.500000   \n",
       "\n",
       "         chlorides  free sulfur dioxide  total sulfur dioxide      density  \\\n",
       "count  1599.000000          1599.000000           1599.000000  1599.000000   \n",
       "mean      0.087467            15.874922             46.467792     0.996747   \n",
       "std       0.047065            10.460157             32.895324     0.001887   \n",
       "min       0.012000             1.000000              6.000000     0.990070   \n",
       "25%       0.070000             7.000000             22.000000     0.995600   \n",
       "50%       0.079000            14.000000             38.000000     0.996750   \n",
       "75%       0.090000            21.000000             62.000000     0.997835   \n",
       "max       0.611000            72.000000            289.000000     1.003690   \n",
       "\n",
       "                pH    sulphates      alcohol      quality  \n",
       "count  1599.000000  1599.000000  1599.000000  1599.000000  \n",
       "mean      3.311113     0.658149    10.422983     5.636023  \n",
       "std       0.154386     0.169507     1.065668     0.807569  \n",
       "min       2.740000     0.330000     8.400000     3.000000  \n",
       "25%       3.210000     0.550000     9.500000     5.000000  \n",
       "50%       3.310000     0.620000    10.200000     6.000000  \n",
       "75%       3.400000     0.730000    11.100000     6.000000  \n",
       "max       4.010000     2.000000    14.900000     8.000000  "
      ]
     },
     "execution_count": 4,
     "metadata": {},
     "output_type": "execute_result"
    }
   ],
   "source": [
    "raw_data.describe()"
   ]
  },
  {
   "cell_type": "markdown",
   "metadata": {},
   "source": [
    "### Extract columns from the raw data.\n",
    "\n",
    "For the X variables, begin with all the features."
   ]
  },
  {
   "cell_type": "code",
   "execution_count": 5,
   "metadata": {},
   "outputs": [
    {
     "name": "stderr",
     "output_type": "stream",
     "text": [
      "C:\\Users\\malon\\anaconda3\\lib\\site-packages\\statsmodels\\tsa\\tsatools.py:142: FutureWarning: In a future version of pandas all arguments of concat except for the argument 'objs' will be keyword-only\n",
      "  x = pd.concat(x[::order], 1)\n"
     ]
    },
    {
     "data": {
      "text/plain": [
       "(1599, 12)"
      ]
     },
     "execution_count": 5,
     "metadata": {},
     "output_type": "execute_result"
    }
   ],
   "source": [
    "X = raw_data[['fixed acidity', 'volatile acidity', 'citric acid', 'residual sugar',\n",
    "              'chlorides', 'free sulfur dioxide', 'total sulfur dioxide', 'density',\n",
    "              'pH', 'sulphates', 'alcohol']]\n",
    "X = statsmodels.add_constant(X)\n",
    "X.shape"
   ]
  },
  {
   "cell_type": "code",
   "execution_count": 6,
   "metadata": {},
   "outputs": [
    {
     "data": {
      "text/plain": [
       "(1599,)"
      ]
     },
     "execution_count": 6,
     "metadata": {},
     "output_type": "execute_result"
    }
   ],
   "source": [
    "y = raw_data['quality']\n",
    "y.shape"
   ]
  },
  {
   "cell_type": "code",
   "execution_count": 7,
   "metadata": {},
   "outputs": [],
   "source": [
    "def show_stats_summary(y, X):\n",
    "    model = statsmodels.OLS(y, X)\n",
    "    results = model.fit()\n",
    "    print(results.summary())\n",
    "    return results"
   ]
  },
  {
   "cell_type": "markdown",
   "metadata": {},
   "source": [
    "## First, we perform a single-variable linear regression for each variable to see if there are any obvious insignificant variables."
   ]
  },
  {
   "cell_type": "markdown",
   "metadata": {},
   "source": [
    "### Test each feature against Y individually at alpha = 0.05. Identify insignificant variables."
   ]
  },
  {
   "cell_type": "code",
   "execution_count": 8,
   "metadata": {},
   "outputs": [
    {
     "name": "stdout",
     "output_type": "stream",
     "text": [
      "                            OLS Regression Results                            \n",
      "==============================================================================\n",
      "Dep. Variable:                quality   R-squared:                       0.015\n",
      "Model:                            OLS   Adj. R-squared:                  0.015\n",
      "Method:                 Least Squares   F-statistic:                     24.96\n",
      "Date:                Sun, 06 Mar 2022   Prob (F-statistic):           6.50e-07\n",
      "Time:                        14:49:49   Log-Likelihood:                -1914.2\n",
      "No. Observations:                1599   AIC:                             3832.\n",
      "Df Residuals:                    1597   BIC:                             3843.\n",
      "Df Model:                           1                                         \n",
      "Covariance Type:            nonrobust                                         \n",
      "=================================================================================\n",
      "                    coef    std err          t      P>|t|      [0.025      0.975]\n",
      "---------------------------------------------------------------------------------\n",
      "const             5.1573      0.098     52.684      0.000       4.965       5.349\n",
      "fixed acidity     0.0575      0.012      4.996      0.000       0.035       0.080\n",
      "==============================================================================\n",
      "Omnibus:                       17.047   Durbin-Watson:                   1.743\n",
      "Prob(Omnibus):                  0.000   Jarque-Bera (JB):               18.553\n",
      "Skew:                           0.205   Prob(JB):                     9.36e-05\n",
      "Kurtosis:                       3.333   Cond. No.                         42.1\n",
      "==============================================================================\n",
      "\n",
      "Notes:\n",
      "[1] Standard Errors assume that the covariance matrix of the errors is correctly specified.\n",
      "                            OLS Regression Results                            \n",
      "==============================================================================\n",
      "Dep. Variable:                quality   R-squared:                       0.153\n",
      "Model:                            OLS   Adj. R-squared:                  0.152\n",
      "Method:                 Least Squares   F-statistic:                     287.4\n",
      "Date:                Sun, 06 Mar 2022   Prob (F-statistic):           2.05e-59\n",
      "Time:                        14:49:49   Log-Likelihood:                -1794.3\n",
      "No. Observations:                1599   AIC:                             3593.\n",
      "Df Residuals:                    1597   BIC:                             3603.\n",
      "Df Model:                           1                                         \n",
      "Covariance Type:            nonrobust                                         \n",
      "====================================================================================\n",
      "                       coef    std err          t      P>|t|      [0.025      0.975]\n",
      "------------------------------------------------------------------------------------\n",
      "const                6.5657      0.058    113.388      0.000       6.452       6.679\n",
      "volatile acidity    -1.7614      0.104    -16.954      0.000      -1.965      -1.558\n",
      "==============================================================================\n",
      "Omnibus:                       20.577   Durbin-Watson:                   1.736\n",
      "Prob(Omnibus):                  0.000   Jarque-Bera (JB):               21.905\n",
      "Skew:                           0.242   Prob(JB):                     1.75e-05\n",
      "Kurtosis:                       3.306   Cond. No.                         7.18\n",
      "==============================================================================\n",
      "\n",
      "Notes:\n",
      "[1] Standard Errors assume that the covariance matrix of the errors is correctly specified.\n",
      "                            OLS Regression Results                            \n",
      "==============================================================================\n",
      "Dep. Variable:                quality   R-squared:                       0.051\n",
      "Model:                            OLS   Adj. R-squared:                  0.051\n",
      "Method:                 Least Squares   F-statistic:                     86.26\n",
      "Date:                Sun, 06 Mar 2022   Prob (F-statistic):           4.99e-20\n",
      "Time:                        14:49:49   Log-Likelihood:                -1884.6\n",
      "No. Observations:                1599   AIC:                             3773.\n",
      "Df Residuals:                    1597   BIC:                             3784.\n",
      "Df Model:                           1                                         \n",
      "Covariance Type:            nonrobust                                         \n",
      "===============================================================================\n",
      "                  coef    std err          t      P>|t|      [0.025      0.975]\n",
      "-------------------------------------------------------------------------------\n",
      "const           5.3817      0.034    159.610      0.000       5.316       5.448\n",
      "citric acid     0.9385      0.101      9.288      0.000       0.740       1.137\n",
      "==============================================================================\n",
      "Omnibus:                       11.279   Durbin-Watson:                   1.740\n",
      "Prob(Omnibus):                  0.004   Jarque-Bera (JB):               11.967\n",
      "Skew:                           0.162   Prob(JB):                      0.00252\n",
      "Kurtosis:                       3.272   Cond. No.                         5.53\n",
      "==============================================================================\n",
      "\n",
      "Notes:\n",
      "[1] Standard Errors assume that the covariance matrix of the errors is correctly specified.\n",
      "                            OLS Regression Results                            \n",
      "==============================================================================\n",
      "Dep. Variable:                quality   R-squared:                       0.000\n",
      "Model:                            OLS   Adj. R-squared:                 -0.000\n",
      "Method:                 Least Squares   F-statistic:                    0.3012\n",
      "Date:                Sun, 06 Mar 2022   Prob (F-statistic):              0.583\n",
      "Time:                        14:49:49   Log-Likelihood:                -1926.5\n",
      "No. Observations:                1599   AIC:                             3857.\n",
      "Df Residuals:                    1597   BIC:                             3868.\n",
      "Df Model:                           1                                         \n",
      "Covariance Type:            nonrobust                                         \n",
      "==================================================================================\n",
      "                     coef    std err          t      P>|t|      [0.025      0.975]\n",
      "----------------------------------------------------------------------------------\n",
      "const              5.6161      0.042    134.950      0.000       5.534       5.698\n",
      "residual sugar     0.0079      0.014      0.549      0.583      -0.020       0.036\n",
      "==============================================================================\n",
      "Omnibus:                       16.985   Durbin-Watson:                   1.729\n",
      "Prob(Omnibus):                  0.000   Jarque-Bera (JB):               18.016\n",
      "Skew:                           0.215   Prob(JB):                     0.000122\n",
      "Kurtosis:                       3.292   Cond. No.                         6.54\n",
      "==============================================================================\n",
      "\n",
      "Notes:\n",
      "[1] Standard Errors assume that the covariance matrix of the errors is correctly specified.\n",
      "                            OLS Regression Results                            \n",
      "==============================================================================\n",
      "Dep. Variable:                quality   R-squared:                       0.017\n",
      "Model:                            OLS   Adj. R-squared:                  0.016\n",
      "Method:                 Least Squares   F-statistic:                     26.99\n",
      "Date:                Sun, 06 Mar 2022   Prob (F-statistic):           2.31e-07\n",
      "Time:                        14:49:49   Log-Likelihood:                -1913.2\n",
      "No. Observations:                1599   AIC:                             3830.\n",
      "Df Residuals:                    1597   BIC:                             3841.\n",
      "Df Model:                           1                                         \n",
      "Covariance Type:            nonrobust                                         \n",
      "==============================================================================\n",
      "                 coef    std err          t      P>|t|      [0.025      0.975]\n",
      "------------------------------------------------------------------------------\n",
      "const          5.8295      0.042    137.852      0.000       5.747       5.912\n",
      "chlorides     -2.2118      0.426     -5.195      0.000      -3.047      -1.377\n",
      "==============================================================================\n",
      "Omnibus:                       14.102   Durbin-Watson:                   1.738\n",
      "Prob(Omnibus):                  0.001   Jarque-Bera (JB):               14.663\n",
      "Skew:                           0.199   Prob(JB):                     0.000655\n",
      "Kurtosis:                       3.249   Cond. No.                         21.4\n",
      "==============================================================================\n",
      "\n",
      "Notes:\n",
      "[1] Standard Errors assume that the covariance matrix of the errors is correctly specified.\n",
      "                            OLS Regression Results                            \n",
      "==============================================================================\n",
      "Dep. Variable:                quality   R-squared:                       0.003\n",
      "Model:                            OLS   Adj. R-squared:                  0.002\n",
      "Method:                 Least Squares   F-statistic:                     4.109\n",
      "Date:                Sun, 06 Mar 2022   Prob (F-statistic):             0.0428\n",
      "Time:                        14:49:49   Log-Likelihood:                -1924.6\n",
      "No. Observations:                1599   AIC:                             3853.\n",
      "Df Residuals:                    1597   BIC:                             3864.\n",
      "Df Model:                           1                                         \n",
      "Covariance Type:            nonrobust                                         \n",
      "=======================================================================================\n",
      "                          coef    std err          t      P>|t|      [0.025      0.975]\n",
      "---------------------------------------------------------------------------------------\n",
      "const                   5.6981      0.037    155.357      0.000       5.626       5.770\n",
      "free sulfur dioxide    -0.0039      0.002     -2.027      0.043      -0.008      -0.000\n",
      "==============================================================================\n",
      "Omnibus:                       16.011   Durbin-Watson:                   1.728\n",
      "Prob(Omnibus):                  0.000   Jarque-Bera (JB):               17.376\n",
      "Skew:                           0.197   Prob(JB):                     0.000169\n",
      "Kurtosis:                       3.324   Cond. No.                         34.6\n",
      "==============================================================================\n",
      "\n",
      "Notes:\n",
      "[1] Standard Errors assume that the covariance matrix of the errors is correctly specified.\n",
      "                            OLS Regression Results                            \n",
      "==============================================================================\n",
      "Dep. Variable:                quality   R-squared:                       0.034\n",
      "Model:                            OLS   Adj. R-squared:                  0.034\n",
      "Method:                 Least Squares   F-statistic:                     56.66\n",
      "Date:                Sun, 06 Mar 2022   Prob (F-statistic):           8.62e-14\n",
      "Time:                        14:49:49   Log-Likelihood:                -1898.8\n",
      "No. Observations:                1599   AIC:                             3802.\n",
      "Df Residuals:                    1597   BIC:                             3812.\n",
      "Df Model:                           1                                         \n",
      "Covariance Type:            nonrobust                                         \n",
      "========================================================================================\n",
      "                           coef    std err          t      P>|t|      [0.025      0.975]\n",
      "----------------------------------------------------------------------------------------\n",
      "const                    5.8472      0.034    170.140      0.000       5.780       5.915\n",
      "total sulfur dioxide    -0.0045      0.001     -7.527      0.000      -0.006      -0.003\n",
      "==============================================================================\n",
      "Omnibus:                       20.665   Durbin-Watson:                   1.769\n",
      "Prob(Omnibus):                  0.000   Jarque-Bera (JB):               30.817\n",
      "Skew:                           0.117   Prob(JB):                     2.03e-07\n",
      "Kurtosis:                       3.638   Cond. No.                         98.6\n",
      "==============================================================================\n",
      "\n",
      "Notes:\n",
      "[1] Standard Errors assume that the covariance matrix of the errors is correctly specified.\n",
      "                            OLS Regression Results                            \n",
      "==============================================================================\n",
      "Dep. Variable:                quality   R-squared:                       0.031\n",
      "Model:                            OLS   Adj. R-squared:                  0.030\n",
      "Method:                 Least Squares   F-statistic:                     50.41\n",
      "Date:                Sun, 06 Mar 2022   Prob (F-statistic):           1.87e-12\n",
      "Time:                        14:49:49   Log-Likelihood:                -1901.8\n",
      "No. Observations:                1599   AIC:                             3808.\n",
      "Df Residuals:                    1597   BIC:                             3818.\n",
      "Df Model:                           1                                         \n",
      "Covariance Type:            nonrobust                                         \n",
      "==============================================================================\n",
      "                 coef    std err          t      P>|t|      [0.025      0.975]\n",
      "------------------------------------------------------------------------------\n",
      "const         80.2385     10.508      7.636      0.000      59.628     100.849\n",
      "density      -74.8460     10.542     -7.100      0.000     -95.524     -54.168\n",
      "==============================================================================\n",
      "Omnibus:                       13.878   Durbin-Watson:                   1.702\n",
      "Prob(Omnibus):                  0.001   Jarque-Bera (JB):               15.259\n",
      "Skew:                           0.174   Prob(JB):                     0.000486\n",
      "Kurtosis:                       3.329   Cond. No.                     1.06e+03\n",
      "==============================================================================\n",
      "\n",
      "Notes:\n",
      "[1] Standard Errors assume that the covariance matrix of the errors is correctly specified.\n",
      "[2] The condition number is large, 1.06e+03. This might indicate that there are\n",
      "strong multicollinearity or other numerical problems.\n",
      "                            OLS Regression Results                            \n",
      "==============================================================================\n",
      "Dep. Variable:                quality   R-squared:                       0.003\n",
      "Model:                            OLS   Adj. R-squared:                  0.003\n",
      "Method:                 Least Squares   F-statistic:                     5.340\n",
      "Date:                Sun, 06 Mar 2022   Prob (F-statistic):             0.0210\n",
      "Time:                        14:49:49   Log-Likelihood:                -1924.0\n",
      "No. Observations:                1599   AIC:                             3852.\n",
      "Df Residuals:                    1597   BIC:                             3863.\n",
      "Df Model:                           1                                         \n",
      "Covariance Type:            nonrobust                                         \n",
      "==============================================================================\n",
      "                 coef    std err          t      P>|t|      [0.025      0.975]\n",
      "------------------------------------------------------------------------------\n",
      "const          6.6359      0.433     15.320      0.000       5.786       7.486\n",
      "pH            -0.3020      0.131     -2.311      0.021      -0.558      -0.046\n",
      "==============================================================================\n",
      "Omnibus:                       16.478   Durbin-Watson:                   1.730\n",
      "Prob(Omnibus):                  0.000   Jarque-Bera (JB):               17.084\n",
      "Skew:                           0.222   Prob(JB):                     0.000195\n",
      "Kurtosis:                       3.244   Cond. No.                         77.7\n",
      "==============================================================================\n",
      "\n",
      "Notes:\n",
      "[1] Standard Errors assume that the covariance matrix of the errors is correctly specified.\n",
      "                            OLS Regression Results                            \n",
      "==============================================================================\n",
      "Dep. Variable:                quality   R-squared:                       0.063\n",
      "Model:                            OLS   Adj. R-squared:                  0.063\n",
      "Method:                 Least Squares   F-statistic:                     107.7\n",
      "Date:                Sun, 06 Mar 2022   Prob (F-statistic):           1.80e-24\n",
      "Time:                        14:49:49   Log-Likelihood:                -1874.4\n",
      "No. Observations:                1599   AIC:                             3753.\n",
      "Df Residuals:                    1597   BIC:                             3764.\n",
      "Df Model:                           1                                         \n",
      "Covariance Type:            nonrobust                                         \n",
      "==============================================================================\n",
      "                 coef    std err          t      P>|t|      [0.025      0.975]\n",
      "------------------------------------------------------------------------------\n",
      "const          4.8477      0.078     61.818      0.000       4.694       5.002\n",
      "sulphates      1.1977      0.115     10.380      0.000       0.971       1.424\n",
      "==============================================================================\n",
      "Omnibus:                       12.685   Durbin-Watson:                   1.712\n",
      "Prob(Omnibus):                  0.002   Jarque-Bera (JB):               17.098\n",
      "Skew:                           0.083   Prob(JB):                     0.000194\n",
      "Kurtosis:                       3.479   Cond. No.                         8.51\n",
      "==============================================================================\n",
      "\n",
      "Notes:\n",
      "[1] Standard Errors assume that the covariance matrix of the errors is correctly specified.\n",
      "                            OLS Regression Results                            \n",
      "==============================================================================\n",
      "Dep. Variable:                quality   R-squared:                       0.227\n",
      "Model:                            OLS   Adj. R-squared:                  0.226\n",
      "Method:                 Least Squares   F-statistic:                     468.3\n",
      "Date:                Sun, 06 Mar 2022   Prob (F-statistic):           2.83e-91\n",
      "Time:                        14:49:49   Log-Likelihood:                -1721.1\n",
      "No. Observations:                1599   AIC:                             3446.\n",
      "Df Residuals:                    1597   BIC:                             3457.\n",
      "Df Model:                           1                                         \n",
      "Covariance Type:            nonrobust                                         \n",
      "==============================================================================\n",
      "                 coef    std err          t      P>|t|      [0.025      0.975]\n",
      "------------------------------------------------------------------------------\n",
      "const          1.8750      0.175     10.732      0.000       1.532       2.218\n",
      "alcohol        0.3608      0.017     21.639      0.000       0.328       0.394\n",
      "==============================================================================\n",
      "Omnibus:                       38.501   Durbin-Watson:                   1.748\n",
      "Prob(Omnibus):                  0.000   Jarque-Bera (JB):               71.758\n",
      "Skew:                          -0.154   Prob(JB):                     2.62e-16\n",
      "Kurtosis:                       3.991   Cond. No.                         104.\n",
      "==============================================================================\n",
      "\n",
      "Notes:\n",
      "[1] Standard Errors assume that the covariance matrix of the errors is correctly specified.\n"
     ]
    },
    {
     "name": "stderr",
     "output_type": "stream",
     "text": [
      "C:\\Users\\malon\\anaconda3\\lib\\site-packages\\statsmodels\\tsa\\tsatools.py:142: FutureWarning: In a future version of pandas all arguments of concat except for the argument 'objs' will be keyword-only\n",
      "  x = pd.concat(x[::order], 1)\n",
      "C:\\Users\\malon\\anaconda3\\lib\\site-packages\\statsmodels\\tsa\\tsatools.py:142: FutureWarning: In a future version of pandas all arguments of concat except for the argument 'objs' will be keyword-only\n",
      "  x = pd.concat(x[::order], 1)\n",
      "C:\\Users\\malon\\anaconda3\\lib\\site-packages\\statsmodels\\tsa\\tsatools.py:142: FutureWarning: In a future version of pandas all arguments of concat except for the argument 'objs' will be keyword-only\n",
      "  x = pd.concat(x[::order], 1)\n",
      "C:\\Users\\malon\\anaconda3\\lib\\site-packages\\statsmodels\\tsa\\tsatools.py:142: FutureWarning: In a future version of pandas all arguments of concat except for the argument 'objs' will be keyword-only\n",
      "  x = pd.concat(x[::order], 1)\n",
      "C:\\Users\\malon\\anaconda3\\lib\\site-packages\\statsmodels\\tsa\\tsatools.py:142: FutureWarning: In a future version of pandas all arguments of concat except for the argument 'objs' will be keyword-only\n",
      "  x = pd.concat(x[::order], 1)\n",
      "C:\\Users\\malon\\anaconda3\\lib\\site-packages\\statsmodels\\tsa\\tsatools.py:142: FutureWarning: In a future version of pandas all arguments of concat except for the argument 'objs' will be keyword-only\n",
      "  x = pd.concat(x[::order], 1)\n",
      "C:\\Users\\malon\\anaconda3\\lib\\site-packages\\statsmodels\\tsa\\tsatools.py:142: FutureWarning: In a future version of pandas all arguments of concat except for the argument 'objs' will be keyword-only\n",
      "  x = pd.concat(x[::order], 1)\n",
      "C:\\Users\\malon\\anaconda3\\lib\\site-packages\\statsmodels\\tsa\\tsatools.py:142: FutureWarning: In a future version of pandas all arguments of concat except for the argument 'objs' will be keyword-only\n",
      "  x = pd.concat(x[::order], 1)\n",
      "C:\\Users\\malon\\anaconda3\\lib\\site-packages\\statsmodels\\tsa\\tsatools.py:142: FutureWarning: In a future version of pandas all arguments of concat except for the argument 'objs' will be keyword-only\n",
      "  x = pd.concat(x[::order], 1)\n",
      "C:\\Users\\malon\\anaconda3\\lib\\site-packages\\statsmodels\\tsa\\tsatools.py:142: FutureWarning: In a future version of pandas all arguments of concat except for the argument 'objs' will be keyword-only\n",
      "  x = pd.concat(x[::order], 1)\n"
     ]
    },
    {
     "data": {
      "text/plain": [
       "<statsmodels.regression.linear_model.RegressionResultsWrapper at 0x26b445af6a0>"
      ]
     },
     "execution_count": 8,
     "metadata": {},
     "output_type": "execute_result"
    }
   ],
   "source": [
    "show_stats_summary(y, statsmodels.add_constant(raw_data['fixed acidity']))\n",
    "show_stats_summary(y, statsmodels.add_constant(raw_data['volatile acidity']))\n",
    "show_stats_summary(y, statsmodels.add_constant(raw_data['citric acid']))\n",
    "show_stats_summary(y, statsmodels.add_constant(raw_data['residual sugar']))\n",
    "show_stats_summary(y, statsmodels.add_constant(raw_data['chlorides']))\n",
    "show_stats_summary(y, statsmodels.add_constant(raw_data['free sulfur dioxide']))\n",
    "show_stats_summary(y, statsmodels.add_constant(raw_data['total sulfur dioxide']))\n",
    "show_stats_summary(y, statsmodels.add_constant(raw_data['density']))\n",
    "show_stats_summary(y, statsmodels.add_constant(raw_data['pH']))\n",
    "show_stats_summary(y, statsmodels.add_constant(raw_data['sulphates']))\n",
    "show_stats_summary(y, statsmodels.add_constant(raw_data['alcohol']))"
   ]
  },
  {
   "cell_type": "markdown",
   "metadata": {},
   "source": [
    "We note that residual sugar is clearly an insignificant variable, with a P-Value of 0.583. This means there is little evidence for a correlation between residual sugar and quality, so we can **comfortably drop** this moving forward."
   ]
  },
  {
   "cell_type": "code",
   "execution_count": 9,
   "metadata": {},
   "outputs": [],
   "source": [
    "X = X.drop(['residual sugar'], axis=1)"
   ]
  },
  {
   "cell_type": "markdown",
   "metadata": {},
   "source": [
    "## Now, let's try a Backwards Regression, starting with all the \"significant columns\" from the single-variable regression and narrowing down."
   ]
  },
  {
   "cell_type": "markdown",
   "metadata": {},
   "source": [
    "### Test all the previous \"significant\" features against Y together at alpha 0.05. Identify insignificant variables."
   ]
  },
  {
   "cell_type": "code",
   "execution_count": 10,
   "metadata": {},
   "outputs": [
    {
     "name": "stdout",
     "output_type": "stream",
     "text": [
      "                            OLS Regression Results                            \n",
      "==============================================================================\n",
      "Dep. Variable:                quality   R-squared:                       0.360\n",
      "Model:                            OLS   Adj. R-squared:                  0.356\n",
      "Method:                 Least Squares   F-statistic:                     89.35\n",
      "Date:                Sun, 06 Mar 2022   Prob (F-statistic):          3.32e-146\n",
      "Time:                        14:49:49   Log-Likelihood:                -1569.7\n",
      "No. Observations:                1599   AIC:                             3161.\n",
      "Df Residuals:                    1588   BIC:                             3221.\n",
      "Df Model:                          10                                         \n",
      "Covariance Type:            nonrobust                                         \n",
      "========================================================================================\n",
      "                           coef    std err          t      P>|t|      [0.025      0.975]\n",
      "----------------------------------------------------------------------------------------\n",
      "const                    8.2233     17.026      0.483      0.629     -25.173      41.620\n",
      "fixed acidity            0.0128      0.023      0.547      0.584      -0.033       0.059\n",
      "volatile acidity        -1.0868      0.121     -8.976      0.000      -1.324      -0.849\n",
      "citric acid             -0.1740      0.147     -1.184      0.237      -0.462       0.114\n",
      "chlorides               -1.8792      0.419     -4.482      0.000      -2.702      -1.057\n",
      "free sulfur dioxide      0.0047      0.002      2.164      0.031       0.000       0.009\n",
      "total sulfur dioxide    -0.0032      0.001     -4.443      0.000      -0.005      -0.002\n",
      "density                 -3.8644     17.385     -0.222      0.824     -37.964      30.235\n",
      "pH                      -0.4823      0.181     -2.665      0.008      -0.837      -0.127\n",
      "sulphates                0.8913      0.112      7.957      0.000       0.672       1.111\n",
      "alcohol                  0.2907      0.023     12.690      0.000       0.246       0.336\n",
      "==============================================================================\n",
      "Omnibus:                       24.237   Durbin-Watson:                   1.752\n",
      "Prob(Omnibus):                  0.000   Jarque-Bera (JB):               35.657\n",
      "Skew:                          -0.152   Prob(JB):                     1.81e-08\n",
      "Kurtosis:                       3.665   Cond. No.                     9.09e+04\n",
      "==============================================================================\n",
      "\n",
      "Notes:\n",
      "[1] Standard Errors assume that the covariance matrix of the errors is correctly specified.\n",
      "[2] The condition number is large, 9.09e+04. This might indicate that there are\n",
      "strong multicollinearity or other numerical problems.\n"
     ]
    }
   ],
   "source": [
    "results_all = show_stats_summary(y, X)"
   ]
  },
  {
   "cell_type": "markdown",
   "metadata": {},
   "source": [
    "### Note: This analysis might be problematic due to redundant features, as described in the [2] warning."
   ]
  },
  {
   "cell_type": "markdown",
   "metadata": {},
   "source": [
    "**Density** is an insignificant variable here, with a P-value at 0.824, so drop it."
   ]
  },
  {
   "cell_type": "code",
   "execution_count": 11,
   "metadata": {},
   "outputs": [
    {
     "name": "stdout",
     "output_type": "stream",
     "text": [
      "                            OLS Regression Results                            \n",
      "==============================================================================\n",
      "Dep. Variable:                quality   R-squared:                       0.360\n",
      "Model:                            OLS   Adj. R-squared:                  0.356\n",
      "Method:                 Least Squares   F-statistic:                     99.34\n",
      "Date:                Sun, 06 Mar 2022   Prob (F-statistic):          3.31e-147\n",
      "Time:                        14:49:49   Log-Likelihood:                -1569.8\n",
      "No. Observations:                1599   AIC:                             3160.\n",
      "Df Residuals:                    1589   BIC:                             3213.\n",
      "Df Model:                           9                                         \n",
      "Covariance Type:            nonrobust                                         \n",
      "========================================================================================\n",
      "                           coef    std err          t      P>|t|      [0.025      0.975]\n",
      "----------------------------------------------------------------------------------------\n",
      "const                    4.4411      0.612      7.254      0.000       3.240       5.642\n",
      "fixed acidity            0.0090      0.016      0.563      0.573      -0.022       0.040\n",
      "volatile acidity        -1.0906      0.120     -9.103      0.000      -1.326      -0.856\n",
      "citric acid             -0.1757      0.147     -1.197      0.231      -0.463       0.112\n",
      "chlorides               -1.8893      0.417     -4.534      0.000      -2.707      -1.072\n",
      "free sulfur dioxide      0.0047      0.002      2.167      0.030       0.000       0.009\n",
      "total sulfur dioxide    -0.0033      0.001     -4.507      0.000      -0.005      -0.002\n",
      "pH                      -0.5022      0.157     -3.198      0.001      -0.810      -0.194\n",
      "sulphates                0.8873      0.110      8.031      0.000       0.671       1.104\n",
      "alcohol                  0.2940      0.017     17.043      0.000       0.260       0.328\n",
      "==============================================================================\n",
      "Omnibus:                       24.178   Durbin-Watson:                   1.752\n",
      "Prob(Omnibus):                  0.000   Jarque-Bera (JB):               35.541\n",
      "Skew:                          -0.152   Prob(JB):                     1.92e-08\n",
      "Kurtosis:                       3.664   Cond. No.                     2.42e+03\n",
      "==============================================================================\n",
      "\n",
      "Notes:\n",
      "[1] Standard Errors assume that the covariance matrix of the errors is correctly specified.\n",
      "[2] The condition number is large, 2.42e+03. This might indicate that there are\n",
      "strong multicollinearity or other numerical problems.\n"
     ]
    },
    {
     "data": {
      "text/plain": [
       "<statsmodels.regression.linear_model.RegressionResultsWrapper at 0x26b43ae8d30>"
      ]
     },
     "execution_count": 11,
     "metadata": {},
     "output_type": "execute_result"
    }
   ],
   "source": [
    "X = X.drop(['density'], axis=1)\n",
    "show_stats_summary(y, X)"
   ]
  },
  {
   "cell_type": "markdown",
   "metadata": {},
   "source": [
    "**Fixed acidity** is an insignificant variable here, with a P-value of 0.573, so drop it."
   ]
  },
  {
   "cell_type": "code",
   "execution_count": 12,
   "metadata": {},
   "outputs": [
    {
     "name": "stdout",
     "output_type": "stream",
     "text": [
      "                            OLS Regression Results                            \n",
      "==============================================================================\n",
      "Dep. Variable:                quality   R-squared:                       0.360\n",
      "Model:                            OLS   Adj. R-squared:                  0.357\n",
      "Method:                 Least Squares   F-statistic:                     111.8\n",
      "Date:                Sun, 06 Mar 2022   Prob (F-statistic):          3.55e-148\n",
      "Time:                        14:49:49   Log-Likelihood:                -1569.9\n",
      "No. Observations:                1599   AIC:                             3158.\n",
      "Df Residuals:                    1590   BIC:                             3206.\n",
      "Df Model:                           8                                         \n",
      "Covariance Type:            nonrobust                                         \n",
      "========================================================================================\n",
      "                           coef    std err          t      P>|t|      [0.025      0.975]\n",
      "----------------------------------------------------------------------------------------\n",
      "const                    4.6681      0.461     10.129      0.000       3.764       5.572\n",
      "volatile acidity        -1.0736      0.116     -9.260      0.000      -1.301      -0.846\n",
      "citric acid             -0.1295      0.122     -1.064      0.288      -0.368       0.109\n",
      "chlorides               -1.9494      0.403     -4.841      0.000      -2.739      -1.160\n",
      "free sulfur dioxide      0.0048      0.002      2.218      0.027       0.001       0.009\n",
      "total sulfur dioxide    -0.0034      0.001     -4.840      0.000      -0.005      -0.002\n",
      "pH                      -0.5492      0.133     -4.125      0.000      -0.810      -0.288\n",
      "sulphates                0.8914      0.110      8.088      0.000       0.675       1.108\n",
      "alcohol                  0.2929      0.017     17.099      0.000       0.259       0.326\n",
      "==============================================================================\n",
      "Omnibus:                       23.385   Durbin-Watson:                   1.750\n",
      "Prob(Omnibus):                  0.000   Jarque-Bera (JB):               34.045\n",
      "Skew:                          -0.150   Prob(JB):                     4.05e-08\n",
      "Kurtosis:                       3.649   Cond. No.                     1.82e+03\n",
      "==============================================================================\n",
      "\n",
      "Notes:\n",
      "[1] Standard Errors assume that the covariance matrix of the errors is correctly specified.\n",
      "[2] The condition number is large, 1.82e+03. This might indicate that there are\n",
      "strong multicollinearity or other numerical problems.\n"
     ]
    },
    {
     "data": {
      "text/plain": [
       "<statsmodels.regression.linear_model.RegressionResultsWrapper at 0x26b445af340>"
      ]
     },
     "execution_count": 12,
     "metadata": {},
     "output_type": "execute_result"
    }
   ],
   "source": [
    "X = X.drop(['fixed acidity'], axis=1)\n",
    "show_stats_summary(y, X)"
   ]
  },
  {
   "cell_type": "markdown",
   "metadata": {},
   "source": [
    "**Citric acid** is an insignificant variable here, with a P-value of 0.288, so drop it."
   ]
  },
  {
   "cell_type": "code",
   "execution_count": 13,
   "metadata": {},
   "outputs": [
    {
     "name": "stdout",
     "output_type": "stream",
     "text": [
      "                            OLS Regression Results                            \n",
      "==============================================================================\n",
      "Dep. Variable:                quality   R-squared:                       0.359\n",
      "Model:                            OLS   Adj. R-squared:                  0.357\n",
      "Method:                 Least Squares   F-statistic:                     127.6\n",
      "Date:                Sun, 06 Mar 2022   Prob (F-statistic):          5.32e-149\n",
      "Time:                        14:49:49   Log-Likelihood:                -1570.5\n",
      "No. Observations:                1599   AIC:                             3157.\n",
      "Df Residuals:                    1591   BIC:                             3200.\n",
      "Df Model:                           7                                         \n",
      "Covariance Type:            nonrobust                                         \n",
      "========================================================================================\n",
      "                           coef    std err          t      P>|t|      [0.025      0.975]\n",
      "----------------------------------------------------------------------------------------\n",
      "const                    4.4301      0.403     10.995      0.000       3.640       5.220\n",
      "volatile acidity        -1.0128      0.101    -10.043      0.000      -1.211      -0.815\n",
      "chlorides               -2.0178      0.398     -5.076      0.000      -2.798      -1.238\n",
      "free sulfur dioxide      0.0051      0.002      2.389      0.017       0.001       0.009\n",
      "total sulfur dioxide    -0.0035      0.001     -5.070      0.000      -0.005      -0.002\n",
      "pH                      -0.4827      0.118     -4.106      0.000      -0.713      -0.252\n",
      "sulphates                0.8827      0.110      8.031      0.000       0.667       1.098\n",
      "alcohol                  0.2893      0.017     17.225      0.000       0.256       0.322\n",
      "==============================================================================\n",
      "Omnibus:                       24.204   Durbin-Watson:                   1.750\n",
      "Prob(Omnibus):                  0.000   Jarque-Bera (JB):               35.245\n",
      "Skew:                          -0.156   Prob(JB):                     2.22e-08\n",
      "Kurtosis:                       3.657   Cond. No.                     1.71e+03\n",
      "==============================================================================\n",
      "\n",
      "Notes:\n",
      "[1] Standard Errors assume that the covariance matrix of the errors is correctly specified.\n",
      "[2] The condition number is large, 1.71e+03. This might indicate that there are\n",
      "strong multicollinearity or other numerical problems.\n"
     ]
    }
   ],
   "source": [
    "X = X.drop(['citric acid'], axis=1)\n",
    "results_mid = show_stats_summary(y, X)"
   ]
  },
  {
   "cell_type": "markdown",
   "metadata": {},
   "source": [
    "Now we are left with \"significant\" variables whose P-value all fall below 0.05. We are more comfortable (but not perfectly) in saying that each of these variables are correlated with overall quality."
   ]
  },
  {
   "cell_type": "markdown",
   "metadata": {},
   "source": [
    "### More proof that we didn't throw away anything useful.\n",
    "\n",
    "Below is a comparison of the linear fits between the regression with all variables (results_all) and the regression with the \"insignificant\" variables cut (resutls).\n",
    "\n",
    "As we can see from the low F-statistic (0.4999) and high P-Value (0.682993), there is not compelling evidence that we threw away anything useful."
   ]
  },
  {
   "cell_type": "code",
   "execution_count": 14,
   "metadata": {},
   "outputs": [
    {
     "data": {
      "text/html": [
       "<div>\n",
       "<style scoped>\n",
       "    .dataframe tbody tr th:only-of-type {\n",
       "        vertical-align: middle;\n",
       "    }\n",
       "\n",
       "    .dataframe tbody tr th {\n",
       "        vertical-align: top;\n",
       "    }\n",
       "\n",
       "    .dataframe thead th {\n",
       "        text-align: right;\n",
       "    }\n",
       "</style>\n",
       "<table border=\"1\" class=\"dataframe\">\n",
       "  <thead>\n",
       "    <tr style=\"text-align: right;\">\n",
       "      <th></th>\n",
       "      <th>df_resid</th>\n",
       "      <th>ssr</th>\n",
       "      <th>df_diff</th>\n",
       "      <th>ss_diff</th>\n",
       "      <th>F</th>\n",
       "      <th>Pr(&gt;F)</th>\n",
       "    </tr>\n",
       "  </thead>\n",
       "  <tbody>\n",
       "    <tr>\n",
       "      <th>0</th>\n",
       "      <td>1591.0</td>\n",
       "      <td>667.537059</td>\n",
       "      <td>0.0</td>\n",
       "      <td>NaN</td>\n",
       "      <td>NaN</td>\n",
       "      <td>NaN</td>\n",
       "    </tr>\n",
       "    <tr>\n",
       "      <th>1</th>\n",
       "      <td>1588.0</td>\n",
       "      <td>666.908324</td>\n",
       "      <td>3.0</td>\n",
       "      <td>0.628735</td>\n",
       "      <td>0.499035</td>\n",
       "      <td>0.682993</td>\n",
       "    </tr>\n",
       "  </tbody>\n",
       "</table>\n",
       "</div>"
      ],
      "text/plain": [
       "   df_resid         ssr  df_diff   ss_diff         F    Pr(>F)\n",
       "0    1591.0  667.537059      0.0       NaN       NaN       NaN\n",
       "1    1588.0  666.908324      3.0  0.628735  0.499035  0.682993"
      ]
     },
     "execution_count": 14,
     "metadata": {},
     "output_type": "execute_result"
    }
   ],
   "source": [
    "anova_lm(results_mid, results_all)"
   ]
  },
  {
   "cell_type": "markdown",
   "metadata": {},
   "source": [
    "### Next concern: Are any columns possibly redundant (Need to keep an eye out)?\n",
    "\n",
    "Judging by just their name and description, perhaps these sets of variables might affect each other:\n",
    "\n",
    "1. Free SO2, total SO2, and sulphates would all seem correlated with each other.\n",
    "\n",
    "2. Fixed acidity, volatile acidity, and citric acid would seem to correlate with pH.\n",
    "\n",
    "3. Residual sugar and alcohol may be negatively correlated (the more sugar fermented, the more alcohol).\n",
    "\n",
    "We may be able to spot these by performing linear regressions of these with each other, or understanding their correlation with each other.\n",
    "\n",
    "This (AKA multicollinearity) is a **problem** because changing one \"independent\" variable could change the other \"independent\" variable, throwing off our results in predicting the dependent variable.\n",
    "\n",
    "If we do find redundancy, we would probably want to perform dimensionality reduction through simple elimination or more sophisticated techniques (time permitting)."
   ]
  },
  {
   "cell_type": "markdown",
   "metadata": {},
   "source": [
    "## OK. We've somewhat narrowed down the significant variables. Now to see which are correlated with each other!"
   ]
  },
  {
   "cell_type": "markdown",
   "metadata": {},
   "source": [
    "###  Retrieve the correlation matrix of the raw data. Take note of pairs of variables that present a significant correlation coefficient (around R > 0.4)."
   ]
  },
  {
   "cell_type": "code",
   "execution_count": 15,
   "metadata": {},
   "outputs": [
    {
     "data": {
      "text/html": [
       "<div>\n",
       "<style scoped>\n",
       "    .dataframe tbody tr th:only-of-type {\n",
       "        vertical-align: middle;\n",
       "    }\n",
       "\n",
       "    .dataframe tbody tr th {\n",
       "        vertical-align: top;\n",
       "    }\n",
       "\n",
       "    .dataframe thead th {\n",
       "        text-align: right;\n",
       "    }\n",
       "</style>\n",
       "<table border=\"1\" class=\"dataframe\">\n",
       "  <thead>\n",
       "    <tr style=\"text-align: right;\">\n",
       "      <th></th>\n",
       "      <th>const</th>\n",
       "      <th>volatile acidity</th>\n",
       "      <th>chlorides</th>\n",
       "      <th>free sulfur dioxide</th>\n",
       "      <th>total sulfur dioxide</th>\n",
       "      <th>pH</th>\n",
       "      <th>sulphates</th>\n",
       "      <th>alcohol</th>\n",
       "    </tr>\n",
       "  </thead>\n",
       "  <tbody>\n",
       "    <tr>\n",
       "      <th>const</th>\n",
       "      <td>NaN</td>\n",
       "      <td>NaN</td>\n",
       "      <td>NaN</td>\n",
       "      <td>NaN</td>\n",
       "      <td>NaN</td>\n",
       "      <td>NaN</td>\n",
       "      <td>NaN</td>\n",
       "      <td>NaN</td>\n",
       "    </tr>\n",
       "    <tr>\n",
       "      <th>volatile acidity</th>\n",
       "      <td>NaN</td>\n",
       "      <td>1.000000</td>\n",
       "      <td>0.061298</td>\n",
       "      <td>-0.010504</td>\n",
       "      <td>0.076470</td>\n",
       "      <td>0.234937</td>\n",
       "      <td>-0.260987</td>\n",
       "      <td>-0.202288</td>\n",
       "    </tr>\n",
       "    <tr>\n",
       "      <th>chlorides</th>\n",
       "      <td>NaN</td>\n",
       "      <td>0.061298</td>\n",
       "      <td>1.000000</td>\n",
       "      <td>0.005562</td>\n",
       "      <td>0.047400</td>\n",
       "      <td>-0.265026</td>\n",
       "      <td>0.371260</td>\n",
       "      <td>-0.221141</td>\n",
       "    </tr>\n",
       "    <tr>\n",
       "      <th>free sulfur dioxide</th>\n",
       "      <td>NaN</td>\n",
       "      <td>-0.010504</td>\n",
       "      <td>0.005562</td>\n",
       "      <td>1.000000</td>\n",
       "      <td>0.667666</td>\n",
       "      <td>0.070377</td>\n",
       "      <td>0.051658</td>\n",
       "      <td>-0.069408</td>\n",
       "    </tr>\n",
       "    <tr>\n",
       "      <th>total sulfur dioxide</th>\n",
       "      <td>NaN</td>\n",
       "      <td>0.076470</td>\n",
       "      <td>0.047400</td>\n",
       "      <td>0.667666</td>\n",
       "      <td>1.000000</td>\n",
       "      <td>-0.066495</td>\n",
       "      <td>0.042947</td>\n",
       "      <td>-0.205654</td>\n",
       "    </tr>\n",
       "    <tr>\n",
       "      <th>pH</th>\n",
       "      <td>NaN</td>\n",
       "      <td>0.234937</td>\n",
       "      <td>-0.265026</td>\n",
       "      <td>0.070377</td>\n",
       "      <td>-0.066495</td>\n",
       "      <td>1.000000</td>\n",
       "      <td>-0.196648</td>\n",
       "      <td>0.205633</td>\n",
       "    </tr>\n",
       "    <tr>\n",
       "      <th>sulphates</th>\n",
       "      <td>NaN</td>\n",
       "      <td>-0.260987</td>\n",
       "      <td>0.371260</td>\n",
       "      <td>0.051658</td>\n",
       "      <td>0.042947</td>\n",
       "      <td>-0.196648</td>\n",
       "      <td>1.000000</td>\n",
       "      <td>0.093595</td>\n",
       "    </tr>\n",
       "    <tr>\n",
       "      <th>alcohol</th>\n",
       "      <td>NaN</td>\n",
       "      <td>-0.202288</td>\n",
       "      <td>-0.221141</td>\n",
       "      <td>-0.069408</td>\n",
       "      <td>-0.205654</td>\n",
       "      <td>0.205633</td>\n",
       "      <td>0.093595</td>\n",
       "      <td>1.000000</td>\n",
       "    </tr>\n",
       "  </tbody>\n",
       "</table>\n",
       "</div>"
      ],
      "text/plain": [
       "                      const  volatile acidity  chlorides  free sulfur dioxide  \\\n",
       "const                   NaN               NaN        NaN                  NaN   \n",
       "volatile acidity        NaN          1.000000   0.061298            -0.010504   \n",
       "chlorides               NaN          0.061298   1.000000             0.005562   \n",
       "free sulfur dioxide     NaN         -0.010504   0.005562             1.000000   \n",
       "total sulfur dioxide    NaN          0.076470   0.047400             0.667666   \n",
       "pH                      NaN          0.234937  -0.265026             0.070377   \n",
       "sulphates               NaN         -0.260987   0.371260             0.051658   \n",
       "alcohol                 NaN         -0.202288  -0.221141            -0.069408   \n",
       "\n",
       "                      total sulfur dioxide        pH  sulphates   alcohol  \n",
       "const                                  NaN       NaN        NaN       NaN  \n",
       "volatile acidity                  0.076470  0.234937  -0.260987 -0.202288  \n",
       "chlorides                         0.047400 -0.265026   0.371260 -0.221141  \n",
       "free sulfur dioxide               0.667666  0.070377   0.051658 -0.069408  \n",
       "total sulfur dioxide              1.000000 -0.066495   0.042947 -0.205654  \n",
       "pH                               -0.066495  1.000000  -0.196648  0.205633  \n",
       "sulphates                         0.042947 -0.196648   1.000000  0.093595  \n",
       "alcohol                          -0.205654  0.205633   0.093595  1.000000  "
      ]
     },
     "execution_count": 15,
     "metadata": {},
     "output_type": "execute_result"
    }
   ],
   "source": [
    "X.corr()"
   ]
  },
  {
   "cell_type": "markdown",
   "metadata": {},
   "source": [
    "### Note: Total and Free SO2 are strongly correlated (R = 0.667666).\n",
    "\n",
    "We can see a linear relationship between these two in the correlation coefficient and the fit and plot below. This indicates that they are correlated and could be redundant in the model, so we should get rid of one of them.\n",
    "\n",
    "We will discard free sulfur dioxide because it is less significant of the two (higher P-Value), as shown in the previous regression results above.\n",
    "+ Free Sulfur Dioxide has a P-Value of 0.017 (from t = 2.389).\n",
    "+ Total Sulfur Dioxide has a P-Value of 0.000 (from t = -5.070)."
   ]
  },
  {
   "cell_type": "markdown",
   "metadata": {},
   "source": [
    "The **next highest relationship** between the variables is **Chlorides and Sulphates** (R = 0.37126), but this is just below the borderline (R = 0.4) of being a significant correlation, so I will choose to ignore it (along with all other pairs of variables)."
   ]
  },
  {
   "cell_type": "markdown",
   "metadata": {},
   "source": [
    "### Linear regression between Total (y) and Free (x) SO2. \n",
    "\n",
    "Note that Free SO2 has a P-Value of 0.000, indicating a significant relationship. Other evidence includes the high F-statistic (1285) and the fairly high adjusted R-squared (0.445)."
   ]
  },
  {
   "cell_type": "code",
   "execution_count": 16,
   "metadata": {},
   "outputs": [
    {
     "name": "stdout",
     "output_type": "stream",
     "text": [
      "                             OLS Regression Results                             \n",
      "================================================================================\n",
      "Dep. Variable:     total sulfur dioxide   R-squared:                       0.446\n",
      "Model:                              OLS   Adj. R-squared:                  0.445\n",
      "Method:                   Least Squares   F-statistic:                     1285.\n",
      "Date:                  Sun, 06 Mar 2022   Prob (F-statistic):          6.40e-207\n",
      "Time:                          14:49:49   Log-Likelihood:                -7382.4\n",
      "No. Observations:                  1599   AIC:                         1.477e+04\n",
      "Df Residuals:                      1597   BIC:                         1.478e+04\n",
      "Df Model:                             1                                         \n",
      "Covariance Type:              nonrobust                                         \n",
      "=======================================================================================\n",
      "                          coef    std err          t      P>|t|      [0.025      0.975]\n",
      "---------------------------------------------------------------------------------------\n",
      "const                  13.1354      1.114     11.795      0.000      10.951      15.320\n",
      "free sulfur dioxide     2.0997      0.059     35.840      0.000       1.985       2.215\n",
      "==============================================================================\n",
      "Omnibus:                      621.223   Durbin-Watson:                   1.553\n",
      "Prob(Omnibus):                  0.000   Jarque-Bera (JB):             3163.294\n",
      "Skew:                           1.767   Prob(JB):                         0.00\n",
      "Kurtosis:                       8.915   Cond. No.                         34.6\n",
      "==============================================================================\n",
      "\n",
      "Notes:\n",
      "[1] Standard Errors assume that the covariance matrix of the errors is correctly specified.\n"
     ]
    },
    {
     "name": "stderr",
     "output_type": "stream",
     "text": [
      "C:\\Users\\malon\\anaconda3\\lib\\site-packages\\statsmodels\\tsa\\tsatools.py:142: FutureWarning: In a future version of pandas all arguments of concat except for the argument 'objs' will be keyword-only\n",
      "  x = pd.concat(x[::order], 1)\n"
     ]
    },
    {
     "data": {
      "text/plain": [
       "<statsmodels.regression.linear_model.RegressionResultsWrapper at 0x26b43a87e50>"
      ]
     },
     "execution_count": 16,
     "metadata": {},
     "output_type": "execute_result"
    }
   ],
   "source": [
    "show_stats_summary(raw_data[['total sulfur dioxide']], statsmodels.add_constant(raw_data[['free sulfur dioxide']]))"
   ]
  },
  {
   "cell_type": "markdown",
   "metadata": {},
   "source": [
    "### Scatter plot between Total (y) and Free (x) SO2.\n",
    "\n",
    "We notice that visually, there appears to be somewhat of a positive linear relationship between the two, more evidence that these could create multicollinearity in the model."
   ]
  },
  {
   "cell_type": "code",
   "execution_count": 17,
   "metadata": {},
   "outputs": [
    {
     "data": {
      "text/plain": [
       "<matplotlib.collections.PathCollection at 0x26b45829d00>"
      ]
     },
     "execution_count": 17,
     "metadata": {},
     "output_type": "execute_result"
    },
    {
     "data": {
      "image/png": "[encoded data removed]",
      "text/plain": [
       "<Figure size 432x288 with 1 Axes>"
      ]
     },
     "metadata": {
      "needs_background": "light"
     },
     "output_type": "display_data"
    }
   ],
   "source": [
    "pyplot.scatter(y = raw_data[['total sulfur dioxide']], x = raw_data[['free sulfur dioxide']])"
   ]
  },
  {
   "cell_type": "markdown",
   "metadata": {},
   "source": [
    "### Drop Free SO2 from the model, now that we are convinced of correlation between Total and Free SO2.\n",
    "\n",
    "Recall that Free SO2 had a higher P-value in the model, so we would consider it less significant."
   ]
  },
  {
   "cell_type": "code",
   "execution_count": 18,
   "metadata": {},
   "outputs": [
    {
     "name": "stdout",
     "output_type": "stream",
     "text": [
      "                            OLS Regression Results                            \n",
      "==============================================================================\n",
      "Dep. Variable:                quality   R-squared:                       0.357\n",
      "Model:                            OLS   Adj. R-squared:                  0.355\n",
      "Method:                 Least Squares   F-statistic:                     147.4\n",
      "Date:                Sun, 06 Mar 2022   Prob (F-statistic):          7.12e-149\n",
      "Time:                        14:49:49   Log-Likelihood:                -1573.4\n",
      "No. Observations:                1599   AIC:                             3161.\n",
      "Df Residuals:                    1592   BIC:                             3198.\n",
      "Df Model:                           6                                         \n",
      "Covariance Type:            nonrobust                                         \n",
      "========================================================================================\n",
      "                           coef    std err          t      P>|t|      [0.025      0.975]\n",
      "----------------------------------------------------------------------------------------\n",
      "const                    4.2957      0.400     10.751      0.000       3.512       5.079\n",
      "volatile acidity        -1.0382      0.100    -10.338      0.000      -1.235      -0.841\n",
      "chlorides               -2.0023      0.398     -5.030      0.000      -2.783      -1.221\n",
      "total sulfur dioxide    -0.0024      0.001     -4.684      0.000      -0.003      -0.001\n",
      "pH                      -0.4352      0.116     -3.750      0.000      -0.663      -0.208\n",
      "sulphates                0.8887      0.110      8.076      0.000       0.673       1.105\n",
      "alcohol                  0.2907      0.017     17.291      0.000       0.258       0.324\n",
      "==============================================================================\n",
      "Omnibus:                       24.314   Durbin-Watson:                   1.749\n",
      "Prob(Omnibus):                  0.000   Jarque-Bera (JB):               34.645\n",
      "Skew:                          -0.165   Prob(JB):                     3.00e-08\n",
      "Kurtosis:                       3.642   Cond. No.                     1.62e+03\n",
      "==============================================================================\n",
      "\n",
      "Notes:\n",
      "[1] Standard Errors assume that the covariance matrix of the errors is correctly specified.\n",
      "[2] The condition number is large, 1.62e+03. This might indicate that there are\n",
      "strong multicollinearity or other numerical problems.\n"
     ]
    },
    {
     "data": {
      "text/plain": [
       "<statsmodels.regression.linear_model.RegressionResultsWrapper at 0x26b43ad70d0>"
      ]
     },
     "execution_count": 18,
     "metadata": {},
     "output_type": "execute_result"
    }
   ],
   "source": [
    "results_final = show_stats_summary(y, X.drop(['free sulfur dioxide'], axis=1))\n",
    "results_final"
   ]
  },
  {
   "cell_type": "markdown",
   "metadata": {},
   "source": [
    "### Unfortunately, dropping Free SO2 seems to come at the cost of some fit in the model, as shown by the comparison below.\n",
    "\n",
    "However, I still think eliminating the multicollinearity is more important here, so I will stick with this model.\n",
    "\n",
    "With more time and resources, a combining of the two dimensions with PCA or ZCA would probably be a better approach here to avoid the fit loss."
   ]
  },
  {
   "cell_type": "markdown",
   "metadata": {},
   "source": [
    "Bad: Low P-Value (0.017) indicates that we did lose some fit in the model."
   ]
  },
  {
   "cell_type": "code",
   "execution_count": 19,
   "metadata": {},
   "outputs": [
    {
     "data": {
      "text/html": [
       "<div>\n",
       "<style scoped>\n",
       "    .dataframe tbody tr th:only-of-type {\n",
       "        vertical-align: middle;\n",
       "    }\n",
       "\n",
       "    .dataframe tbody tr th {\n",
       "        vertical-align: top;\n",
       "    }\n",
       "\n",
       "    .dataframe thead th {\n",
       "        text-align: right;\n",
       "    }\n",
       "</style>\n",
       "<table border=\"1\" class=\"dataframe\">\n",
       "  <thead>\n",
       "    <tr style=\"text-align: right;\">\n",
       "      <th></th>\n",
       "      <th>df_resid</th>\n",
       "      <th>ssr</th>\n",
       "      <th>df_diff</th>\n",
       "      <th>ss_diff</th>\n",
       "      <th>F</th>\n",
       "      <th>Pr(&gt;F)</th>\n",
       "    </tr>\n",
       "  </thead>\n",
       "  <tbody>\n",
       "    <tr>\n",
       "      <th>0</th>\n",
       "      <td>1592.0</td>\n",
       "      <td>669.931191</td>\n",
       "      <td>0.0</td>\n",
       "      <td>NaN</td>\n",
       "      <td>NaN</td>\n",
       "      <td>NaN</td>\n",
       "    </tr>\n",
       "    <tr>\n",
       "      <th>1</th>\n",
       "      <td>1591.0</td>\n",
       "      <td>667.537059</td>\n",
       "      <td>1.0</td>\n",
       "      <td>2.394132</td>\n",
       "      <td>5.706147</td>\n",
       "      <td>0.017022</td>\n",
       "    </tr>\n",
       "  </tbody>\n",
       "</table>\n",
       "</div>"
      ],
      "text/plain": [
       "   df_resid         ssr  df_diff   ss_diff         F    Pr(>F)\n",
       "0    1592.0  669.931191      0.0       NaN       NaN       NaN\n",
       "1    1591.0  667.537059      1.0  2.394132  5.706147  0.017022"
      ]
     },
     "execution_count": 19,
     "metadata": {},
     "output_type": "execute_result"
    }
   ],
   "source": [
    "anova_lm(results_final, results_mid)"
   ]
  },
  {
   "cell_type": "markdown",
   "metadata": {},
   "source": [
    "# Part 2: Interpreting the Final Model"
   ]
  },
  {
   "cell_type": "markdown",
   "metadata": {},
   "source": [
    "## Here, we declare our final model and interpret each coefficient.\n",
    "\n",
    "Based on our linear regression analysis, we are left with the following model for wine quality:\n",
    "\n",
    "`Wine Quality = 4.2957 - 1.0382 * Volatile Acidity - 2.0023 * Chlorides\n",
    "                - 0.0024 * Total Sulfur Dioxide - 0.4352 * pH\n",
    "                + 0.8887 * Sulphates + 0.2907 * Alcohol`\n",
    "\n",
    "Here is the **literal interpretation** of each of the following model coefficients:\n",
    "1. When all of the variables (volatile acidity ... alcohol) are set to 0, the Quality starts at a value of 4.2957.\n",
    "2. For every additional unit of Volatile Acidity, the Quality decreases by -1.0382.\n",
    "3. For every additional unit of Chlorides, the Quality decreases by 2.0023.\n",
    "4. For every additional unit of Total Sulfur Dioxide, the Quality decreases by 0.0024.\n",
    "5. For every additional unit of pH, the Quality decreases by 0.4352.\n",
    "6. For every additional unit of Sulphates, the Quality increases by a factor of 0.8887.\n",
    "7. For every additional unit of Alcohol, the Quality increases by a factor of 0.2907.\n",
    "\n",
    "Taken at **face value**, this model implies that Volatile Acidity, Chlorides, Total Sulfur Dioxide, and pH all \"worsen\" the wine quality as they grow, while Sulphates and Alcohol \"improve\" the wine quality as they grow.\n",
    "\n",
    "However, we must remember **not to extrapolate** this model to variable levels above and below the extremes of our testing data.\n",
    "+ For example, we can not confidently predict the quality of a wine with a volatile acidity level above 1.58, which was the maximum volatile acidity level of the data given.\n",
    "\n",
    "The high **F-statistic** of the model (147.4) and low corresponding P-value (7.12e-149) provides strong evidence that there indeed exists a significant relationship between these variables and wine quality.\n",
    "\n",
    "However, the moderately-low **adjusted R^2 value** (0.355) implies that only 35.5% of the variability in the wine quality is explained by these variables. This indicates that these variables cannot explain the full picture of why wine quality varies, so it would be useful to explore more factors of wine that correlate with quality."
   ]
  },
  {
   "cell_type": "markdown",
   "metadata": {},
   "source": [
    "# Part 3: Verifying Assumptions of Linear Regression"
   ]
  },
  {
   "cell_type": "markdown",
   "metadata": {},
   "source": [
    "## With the final model, let us now check and verify the Assumptions of Linear Regression.\n",
    "\n",
    "We make sure to verify these assumptions so that our linear model is not misleading.\n",
    "\n",
    "I end up concluding that all four assumptions are satisfied, so we can still safely utilize our model.\n",
    "\n",
    "Sources on the techniques I used: \n",
    "+ https://www.statology.org/linear-regression-assumptions/\n",
    "+ https://stats.stackexchange.com/questions/70009/how-do-you-check-the-linearity-of-a-multiple-regression"
   ]
  },
  {
   "cell_type": "markdown",
   "metadata": {},
   "source": [
    "### Assumption (1): Linearity (Is the X-y relationship actually linear?)\n",
    "### AND\n",
    "### Assumption (3): Homoscedasticity (Do the residuals have equal variance across X?)"
   ]
  },
  {
   "cell_type": "markdown",
   "metadata": {},
   "source": [
    "To test for linearity AND homoscedasticity, we visualize the predicted values of Y (fitted values) vs the resulting residuals:\n",
    "+ To test for linearity, we see if the residuals cluster \"randomly\" around y = 0, rather than a noticeable curve pattern. A horizontal, 'scattered' cloud of points around y = 0 indicates a linear relationship.\n",
    "+ To test for homoscadasticity, we see if there is a lack of a cone shape around y = 0. A cone shape (bad) indicates that the residuals do vary with different X values."
   ]
  },
  {
   "cell_type": "markdown",
   "metadata": {},
   "source": [
    "Make a quality prediction using the fitted model, then calculate the residuals from the prediction and actual y."
   ]
  },
  {
   "cell_type": "code",
   "execution_count": 20,
   "metadata": {},
   "outputs": [
    {
     "data": {
      "text/plain": [
       "(1599,)"
      ]
     },
     "execution_count": 20,
     "metadata": {},
     "output_type": "execute_result"
    }
   ],
   "source": [
    "prediction = results_final.predict()\n",
    "residual = y - prediction\n",
    "residual.shape"
   ]
  },
  {
   "cell_type": "markdown",
   "metadata": {},
   "source": [
    "Here is the resulting fitted value vs. residual graph.\n",
    "+ We can see **no obvious curved pattern** around the line y = 0, which indicates that the residuals are \"randomly\" scattered around y = 0, and **linearity is thus satisfied**.\n",
    "+ As we can see, there is **no apparent \"cone\" shape** as the fitted values increase (the residuals with different fitted values fall in the same range), so we can safely say that **homoscadasticity is satisfied** for this model.\n",
    "\n",
    "On another note, an interesting observation is the \"grill-mark\" like pattern in the residuals. This is probably because of the acutual wine quality being discrete integers rather than continuous, which causes the residuals to have gaps in them."
   ]
  },
  {
   "cell_type": "code",
   "execution_count": 21,
   "metadata": {},
   "outputs": [
    {
     "data": {
      "text/plain": [
       "<matplotlib.lines.Line2D at 0x26b458f1f10>"
      ]
     },
     "execution_count": 21,
     "metadata": {},
     "output_type": "execute_result"
    },
    {
     "data": {
      "image/png": "[encoded data removed]",
      "text/plain": [
       "<Figure size 432x288 with 1 Axes>"
      ]
     },
     "metadata": {
      "needs_background": "light"
     },
     "output_type": "display_data"
    }
   ],
   "source": [
    "pyplot.scatter(x = prediction, y = residual)\n",
    "pyplot.axhline(y = 0)"
   ]
  },
  {
   "cell_type": "markdown",
   "metadata": {},
   "source": [
    "### Assumption (2): Independence (Are consecutive residuals irrelevant to each other?)"
   ]
  },
  {
   "cell_type": "markdown",
   "metadata": {},
   "source": [
    "Independence is usually a relevant test for time-series data, to see if consecutive recordings are related with each other. We would normally test if visualizing residuals against time formed any apparent pattern or not.\n",
    "\n",
    "However, there is no indicator of time that the wine qualities were recorded. So, I will assume that the index of each data point indicates the time it was recorded, and I will test the independence assumption by plotting each residual against the index of the data point (from 0 to 1598). Below is the resulting graph.\n",
    "\n",
    "As we can see, the **residuals are completely scattered** around y = 0, with no apparent non-horizontal pattern, so we would consider **independence to be satisfied** for this model."
   ]
  },
  {
   "cell_type": "code",
   "execution_count": 22,
   "metadata": {},
   "outputs": [
    {
     "data": {
      "text/plain": [
       "<matplotlib.collections.PathCollection at 0x26b45977760>"
      ]
     },
     "execution_count": 22,
     "metadata": {},
     "output_type": "execute_result"
    },
    {
     "data": {
      "image/png": "[encoded data removed]",
      "text/plain": [
       "<Figure size 432x288 with 1 Axes>"
      ]
     },
     "metadata": {
      "needs_background": "light"
     },
     "output_type": "display_data"
    }
   ],
   "source": [
    "pyplot.scatter(x = [*range(0, len(y))], y = residual)"
   ]
  },
  {
   "cell_type": "markdown",
   "metadata": {},
   "source": [
    "### Assumption (4): Normality (Are the residuals normally distributed?)"
   ]
  },
  {
   "cell_type": "markdown",
   "metadata": {},
   "source": [
    "To test the normality of the residuals, we create a Q-Q plot that visualizes the residuals from a theoretical normal distribution vs the actual residual distribution. If the Q-Q plot roughly follows a diagonal line, then we could safely assume that normality is satisfied.\n",
    "\n",
    "Below is the resulting Q-Q plot for this model's residuals, along with a 45-degree line for reference.\n",
    "\n",
    "As we can see, the plot follows a **slightly less steep line** than the 45-degree line. Of note, there appears to be a **very slight curvature** in the plot with negative residuals (from theoretical = -1 to -2), which may indicate a deviation from normality in this area.\n",
    "\n",
    "However, I **wouldn't** consider this curvature to be a **serious departure** from a line shape, so I would argue that we could still **safely assume normality** for this model."
   ]
  },
  {
   "cell_type": "code",
   "execution_count": 23,
   "metadata": {},
   "outputs": [
    {
     "name": "stderr",
     "output_type": "stream",
     "text": [
      "C:\\Users\\malon\\anaconda3\\lib\\site-packages\\statsmodels\\graphics\\gofplots.py:993: UserWarning: marker is redundantly defined by the 'marker' keyword argument and the fmt string \"bo\" (-> marker='o'). The keyword argument will take precedence.\n",
      "  ax.plot(x, y, fmt, **plot_style)\n"
     ]
    },
    {
     "data": {
      "image/png": "[encoded data removed]",
      "text/plain": [
       "<Figure size 432x288 with 1 Axes>"
      ]
     },
     "execution_count": 23,
     "metadata": {},
     "output_type": "execute_result"
    },
    {
     "data": {
      "image/png": "[encoded data removed]",
      "text/plain": [
       "<Figure size 432x288 with 1 Axes>"
      ]
     },
     "metadata": {
      "needs_background": "light"
     },
     "output_type": "display_data"
    }
   ],
   "source": [
    "statsmodels.qqplot(residual, line='45')"
   ]
  },
  {
   "cell_type": "markdown",
   "metadata": {},
   "source": [
    "# Part 4: Conclusions and Limitations"
   ]
  },
  {
   "cell_type": "markdown",
   "metadata": {},
   "source": [
    "Overall, we found the following variables to be **significantly correlated** with wine Quality (coefficients shown in Part 2):\n",
    "+ Volatile Acidity\n",
    "+ Chlorides\n",
    "+ Total Sulfur Dioxide\n",
    "+ pH\n",
    "+ Sulfates\n",
    "+ Alcohol\n",
    "\n",
    "We were able to reach this model using the following process from Part 1:\n",
    "1. Eliminate any variables that proved **insignificant** in a **single-variable linear regression**.\n",
    "\n",
    "2. Starting with all remaining variables from the previous step, take a **Backwards Regression approach**: \n",
    "+ Iterate on **multi-variable linear regression** models with these variables and eliminate the ones that are insignificant in such models.\n",
    "\n",
    "3. Using the **correlation matrix**, identify any significant correlations between the remaining variables.\n",
    "+ For any significant correlation found, **eliminate the less significant** of the two in the multi-variable model."
   ]
  },
  {
   "cell_type": "markdown",
   "metadata": {},
   "source": [
    "From the coefficients alone, we found higher levels of **Volatile Acidity, Chlorides, Total Sulfur Dioxide, and pH** to correspond to **worse** wine quality, while we found higher levels of **Sulfates and Alcohol** to correspond to **better** wine quality.\n",
    "\n",
    "However, this model is **constrained by the ranges** of these variables that we sampled from the data, and this model is **far from perfect** in **explaining all the variability** in wine quality, with a not-so-inspiring adjusted R^2 value of 0.355.\n",
    "\n",
    "The assumption checks in Part 3 indicated that **linear regression would work for this data**, but it leaves a slight uncertainty about whether the residuals of the model are actually normally distributed.\n",
    "+ At an intuitive glance, some of the \"good\" variables correlating to better wine quality like Sulphates could, in reality, be in a situation where a \"moderate\" amount would result in good quality, but \"too much\" may be a bad thing. Since this model is linear, it would not be able to detect such trends in that case.\n",
    "\n",
    "Meanwhile, we found instances of **significant variables** in the model being **correlated with each other**, which causes concerns for **inaccuracy from multicollinearity** when keeping all the significant variables, or **loss of fit information** when dropping some of these significant variables.\n",
    "+ Ultimately, of the significant variables, I decided to **drop only Free Sulfur Dioxide** because of its correlation to Total Sulfur Dioxide.\n",
    "+ Another potential concern (but one I chose to ignore) might be the correlation between **Chlorides and Sulphates**, which have a moderately-weak relationship according to their R value, 0.371.\n",
    "\n",
    "Based on all the following limitations of this model, I would recommend the **following improvements** to the model with more time and resources:\n",
    "1. Use sophisticated techniques for **dimensionality reduction** (PCA, ZCA) to eliminate redundancy from multicollinearity in groups of variables like Total and Free SO2, while still maintaining the useful  information that they provide.\n",
    "2. Play around more with **single variable models** to see if any variable might actually have a **non-linear relationship** with quality. If so, then use techniques to fit non-linear models onto the data.\n",
    "3. Find **other competitive** linear models with **different combinations** of the same variables to compare this existing model to. Create various subsets of test data to see how successful the competing models are in prediction, based on their mean-squared-error values."
   ]
  }
 ],
 "metadata": {
  "kernelspec": {
   "display_name": "Python 3 (ipykernel)",
   "language": "python",
   "name": "python3"
  },
  "language_info": {
   "codemirror_mode": {
    "name": "ipython",
    "version": 3
   },
   "file_extension": ".py",
   "mimetype": "text/x-python",
   "name": "python",
   "nbconvert_exporter": "python",
   "pygments_lexer": "ipython3",
   "version": "3.9.7"
  }
 },
 "nbformat": 4,
 "nbformat_minor": 4
}
