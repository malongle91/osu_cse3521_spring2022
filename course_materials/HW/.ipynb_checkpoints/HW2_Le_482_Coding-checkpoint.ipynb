{
 "cells": [
  {
   "cell_type": "markdown",
   "metadata": {},
   "source": [
    "# General\n",
    "\n",
    "- Include the notebook AND a pdf of the notebook as part of your homework. \n",
    "- label this as HW2\\Ryslik_1_Coding.pdf"
   ]
  },
  {
   "cell_type": "markdown",
   "metadata": {},
   "source": [
    "# Part 1 - PCA\n",
    "\n",
    "- Load the IRIS data set on flowers (we do that for you).\n",
    "- Write a function that takes in a matrix and provides you the eigenvalues and eigenvectors (using numpy).\n",
    "- Project your centered data into two dimensional space and plot the projected points. Color code the points by flower type. \n",
    "- Show that you get the same eigenvalues/eigenvectors/projection if you use scikit's PCA or you manually do the projection via numpy (you can use numpy to compute the eigenvectors and eigenvalues)\n",
    "- Can you make a good rule of what type of flower it is by just using the first two principle components? Describe how?\n",
    "- What percentage of the total data variance do the first two principle components capture."
   ]
  },
  {
   "cell_type": "markdown",
   "metadata": {},
   "source": [
    "## Loading the data.\n",
    "\n",
    "We have 150 points, each being 4-dimensional.\n",
    "So, our raw data matrix should be 4x150."
   ]
  },
  {
   "cell_type": "code",
   "execution_count": 1,
   "metadata": {},
   "outputs": [
    {
     "data": {
      "text/plain": [
       "(150, 4)"
      ]
     },
     "execution_count": 1,
     "metadata": {},
     "output_type": "execute_result"
    }
   ],
   "source": [
    "# Data prep.\n",
    "import numpy\n",
    "from matplotlib import pyplot\n",
    "from sklearn import preprocessing\n",
    "from sklearn.datasets import load_iris\n",
    "\n",
    "numpy.set_printoptions(suppress = True)\n",
    "\n",
    "# Load the data in.\n",
    "iris = load_iris() #see the documentation here: https://scikit-learn.org/stable/auto_examples/datasets/plot_iris_dataset.html\n",
    "iris.data.shape"
   ]
  },
  {
   "cell_type": "code",
   "execution_count": 2,
   "metadata": {},
   "outputs": [
    {
     "data": {
      "text/plain": [
       "(4, 150)"
      ]
     },
     "execution_count": 2,
     "metadata": {},
     "output_type": "execute_result"
    }
   ],
   "source": [
    "# We load in 150, 4-dimensional points, into raw_data.\n",
    "# Each point is a column in the raw_data matrix.\n",
    "raw_data = iris.data.T\n",
    "raw_data.shape"
   ]
  },
  {
   "cell_type": "code",
   "execution_count": 3,
   "metadata": {},
   "outputs": [
    {
     "data": {
      "text/plain": [
       "numpy.ndarray"
      ]
     },
     "execution_count": 3,
     "metadata": {},
     "output_type": "execute_result"
    }
   ],
   "source": [
    "type(raw_data)"
   ]
  },
  {
   "cell_type": "code",
   "execution_count": 4,
   "metadata": {},
   "outputs": [],
   "source": [
    "# print(\"Raw Data: \\n\", raw_data)"
   ]
  },
  {
   "cell_type": "markdown",
   "metadata": {},
   "source": [
    "## Calculating the Covariance Matrix.\n",
    "\n",
    "The covariance matrix should be 4x4, because there are 4 dimensions.\n",
    "We can use numpy, or we can do it ourselves using centering around the mean, followed by matrix multiplication."
   ]
  },
  {
   "cell_type": "code",
   "execution_count": 5,
   "metadata": {},
   "outputs": [
    {
     "data": {
      "text/plain": [
       "array([[ 0.68112222, -0.04215111,  1.26582   ,  0.51282889],\n",
       "       [-0.04215111,  0.18871289, -0.32745867, -0.12082844],\n",
       "       [ 1.26582   , -0.32745867,  3.09550267,  1.286972  ],\n",
       "       [ 0.51282889, -0.12082844,  1.286972  ,  0.57713289]])"
      ]
     },
     "execution_count": 5,
     "metadata": {},
     "output_type": "execute_result"
    }
   ],
   "source": [
    "# Calculate the covariance matrix of the raw data.\n",
    "cov_matrix = numpy.cov(raw_data, rowvar=True, bias=True)\n",
    "\n",
    "# Sanity check: Notice how the matrix is symmetric.\n",
    "cov_matrix"
   ]
  },
  {
   "cell_type": "code",
   "execution_count": 6,
   "metadata": {},
   "outputs": [
    {
     "data": {
      "text/plain": [
       "array([[5.84333333],\n",
       "       [3.05733333],\n",
       "       [3.758     ],\n",
       "       [1.19933333]])"
      ]
     },
     "execution_count": 6,
     "metadata": {},
     "output_type": "execute_result"
    }
   ],
   "source": [
    "# Manually calculating the covariance matrix.\n",
    "means = raw_data.mean(axis = 1).reshape(-1, 1)\n",
    "means"
   ]
  },
  {
   "cell_type": "code",
   "execution_count": 7,
   "metadata": {},
   "outputs": [
    {
     "data": {
      "text/plain": [
       "array([[ 0.68112222, -0.04215111,  1.26582   ,  0.51282889],\n",
       "       [-0.04215111,  0.18871289, -0.32745867, -0.12082844],\n",
       "       [ 1.26582   , -0.32745867,  3.09550267,  1.286972  ],\n",
       "       [ 0.51282889, -0.12082844,  1.286972  ,  0.57713289]])"
      ]
     },
     "execution_count": 7,
     "metadata": {},
     "output_type": "execute_result"
    }
   ],
   "source": [
    "centered_data = raw_data - means\n",
    "numpy.dot(centered_data, centered_data.T) / 150"
   ]
  },
  {
   "cell_type": "markdown",
   "metadata": {},
   "source": [
    "## Normalize the Data."
   ]
  },
  {
   "cell_type": "code",
   "execution_count": 8,
   "metadata": {},
   "outputs": [
    {
     "name": "stdout",
     "output_type": "stream",
     "text": [
      "Means:  [5.84333333 3.05733333 3.758      1.19933333]\n",
      "Scale:  [0.82530129 0.43441097 1.75940407 0.75969263]\n"
     ]
    }
   ],
   "source": [
    "# Calculate the factors to normalize the raw data.\n",
    "scaler = preprocessing.StandardScaler().fit(raw_data.T)\n",
    "print(\"Means: \", scaler.mean_)\n",
    "print(\"Scale: \", scaler.scale_)"
   ]
  },
  {
   "cell_type": "code",
   "execution_count": 9,
   "metadata": {},
   "outputs": [
    {
     "name": "stdout",
     "output_type": "stream",
     "text": [
      "Normalized Data: \n",
      " [[-0.90068117  1.01900435 -1.34022653 -1.3154443 ]\n",
      " [-1.14301691 -0.13197948 -1.34022653 -1.3154443 ]\n",
      " [-1.38535265  0.32841405 -1.39706395 -1.3154443 ]\n",
      " [-1.50652052  0.09821729 -1.2833891  -1.3154443 ]\n",
      " [-1.02184904  1.24920112 -1.34022653 -1.3154443 ]\n",
      " [-0.53717756  1.93979142 -1.16971425 -1.05217993]\n",
      " [-1.50652052  0.78880759 -1.34022653 -1.18381211]\n",
      " [-1.02184904  0.78880759 -1.2833891  -1.3154443 ]\n",
      " [-1.74885626 -0.36217625 -1.34022653 -1.3154443 ]\n",
      " [-1.14301691  0.09821729 -1.2833891  -1.44707648]\n",
      " [-0.53717756  1.47939788 -1.2833891  -1.3154443 ]\n",
      " [-1.26418478  0.78880759 -1.22655167 -1.3154443 ]\n",
      " [-1.26418478 -0.13197948 -1.34022653 -1.44707648]\n",
      " [-1.87002413 -0.13197948 -1.51073881 -1.44707648]\n",
      " [-0.05250608  2.16998818 -1.45390138 -1.3154443 ]\n",
      " [-0.17367395  3.09077525 -1.2833891  -1.05217993]\n",
      " [-0.53717756  1.93979142 -1.39706395 -1.05217993]\n",
      " [-0.90068117  1.01900435 -1.34022653 -1.18381211]\n",
      " [-0.17367395  1.70959465 -1.16971425 -1.18381211]\n",
      " [-0.90068117  1.70959465 -1.2833891  -1.18381211]\n",
      " [-0.53717756  0.78880759 -1.16971425 -1.3154443 ]\n",
      " [-0.90068117  1.47939788 -1.2833891  -1.05217993]\n",
      " [-1.50652052  1.24920112 -1.56757623 -1.3154443 ]\n",
      " [-0.90068117  0.55861082 -1.16971425 -0.92054774]\n",
      " [-1.26418478  0.78880759 -1.05603939 -1.3154443 ]\n",
      " [-1.02184904 -0.13197948 -1.22655167 -1.3154443 ]\n",
      " [-1.02184904  0.78880759 -1.22655167 -1.05217993]\n",
      " [-0.7795133   1.01900435 -1.2833891  -1.3154443 ]\n",
      " [-0.7795133   0.78880759 -1.34022653 -1.3154443 ]\n",
      " [-1.38535265  0.32841405 -1.22655167 -1.3154443 ]\n",
      " [-1.26418478  0.09821729 -1.22655167 -1.3154443 ]\n",
      " [-0.53717756  0.78880759 -1.2833891  -1.05217993]\n",
      " [-0.7795133   2.40018495 -1.2833891  -1.44707648]\n",
      " [-0.41600969  2.63038172 -1.34022653 -1.3154443 ]\n",
      " [-1.14301691  0.09821729 -1.2833891  -1.3154443 ]\n",
      " [-1.02184904  0.32841405 -1.45390138 -1.3154443 ]\n",
      " [-0.41600969  1.01900435 -1.39706395 -1.3154443 ]\n",
      " [-1.14301691  1.24920112 -1.34022653 -1.44707648]\n",
      " [-1.74885626 -0.13197948 -1.39706395 -1.3154443 ]\n",
      " [-0.90068117  0.78880759 -1.2833891  -1.3154443 ]\n",
      " [-1.02184904  1.01900435 -1.39706395 -1.18381211]\n",
      " [-1.62768839 -1.74335684 -1.39706395 -1.18381211]\n",
      " [-1.74885626  0.32841405 -1.39706395 -1.3154443 ]\n",
      " [-1.02184904  1.01900435 -1.22655167 -0.78891556]\n",
      " [-0.90068117  1.70959465 -1.05603939 -1.05217993]\n",
      " [-1.26418478 -0.13197948 -1.34022653 -1.18381211]\n",
      " [-0.90068117  1.70959465 -1.22655167 -1.3154443 ]\n",
      " [-1.50652052  0.32841405 -1.34022653 -1.3154443 ]\n",
      " [-0.65834543  1.47939788 -1.2833891  -1.3154443 ]\n",
      " [-1.02184904  0.55861082 -1.34022653 -1.3154443 ]\n",
      " [ 1.40150837  0.32841405  0.53540856  0.26414192]\n",
      " [ 0.67450115  0.32841405  0.42173371  0.3957741 ]\n",
      " [ 1.2803405   0.09821729  0.64908342  0.3957741 ]\n",
      " [-0.41600969 -1.74335684  0.13754657  0.13250973]\n",
      " [ 0.79566902 -0.59237301  0.47857113  0.3957741 ]\n",
      " [-0.17367395 -0.59237301  0.42173371  0.13250973]\n",
      " [ 0.55333328  0.55861082  0.53540856  0.52740629]\n",
      " [-1.14301691 -1.51316008 -0.26031542 -0.26238682]\n",
      " [ 0.91683689 -0.36217625  0.47857113  0.13250973]\n",
      " [-0.7795133  -0.82256978  0.08070915  0.26414192]\n",
      " [-1.02184904 -2.43394714 -0.14664056 -0.26238682]\n",
      " [ 0.06866179 -0.13197948  0.25122143  0.3957741 ]\n",
      " [ 0.18982966 -1.97355361  0.13754657 -0.26238682]\n",
      " [ 0.31099753 -0.36217625  0.53540856  0.26414192]\n",
      " [-0.29484182 -0.36217625 -0.08980313  0.13250973]\n",
      " [ 1.03800476  0.09821729  0.36489628  0.26414192]\n",
      " [-0.29484182 -0.13197948  0.42173371  0.3957741 ]\n",
      " [-0.05250608 -0.82256978  0.194384   -0.26238682]\n",
      " [ 0.4321654  -1.97355361  0.42173371  0.3957741 ]\n",
      " [-0.29484182 -1.28296331  0.08070915 -0.13075464]\n",
      " [ 0.06866179  0.32841405  0.59224599  0.79067065]\n",
      " [ 0.31099753 -0.59237301  0.13754657  0.13250973]\n",
      " [ 0.55333328 -1.28296331  0.64908342  0.3957741 ]\n",
      " [ 0.31099753 -0.59237301  0.53540856  0.00087755]\n",
      " [ 0.67450115 -0.36217625  0.30805885  0.13250973]\n",
      " [ 0.91683689 -0.13197948  0.36489628  0.26414192]\n",
      " [ 1.15917263 -0.59237301  0.59224599  0.26414192]\n",
      " [ 1.03800476 -0.13197948  0.70592084  0.65903847]\n",
      " [ 0.18982966 -0.36217625  0.42173371  0.3957741 ]\n",
      " [-0.17367395 -1.05276654 -0.14664056 -0.26238682]\n",
      " [-0.41600969 -1.51316008  0.02387172 -0.13075464]\n",
      " [-0.41600969 -1.51316008 -0.03296571 -0.26238682]\n",
      " [-0.05250608 -0.82256978  0.08070915  0.00087755]\n",
      " [ 0.18982966 -0.82256978  0.76275827  0.52740629]\n",
      " [-0.53717756 -0.13197948  0.42173371  0.3957741 ]\n",
      " [ 0.18982966  0.78880759  0.42173371  0.52740629]\n",
      " [ 1.03800476  0.09821729  0.53540856  0.3957741 ]\n",
      " [ 0.55333328 -1.74335684  0.36489628  0.13250973]\n",
      " [-0.29484182 -0.13197948  0.194384    0.13250973]\n",
      " [-0.41600969 -1.28296331  0.13754657  0.13250973]\n",
      " [-0.41600969 -1.05276654  0.36489628  0.00087755]\n",
      " [ 0.31099753 -0.13197948  0.47857113  0.26414192]\n",
      " [-0.05250608 -1.05276654  0.13754657  0.00087755]\n",
      " [-1.02184904 -1.74335684 -0.26031542 -0.26238682]\n",
      " [-0.29484182 -0.82256978  0.25122143  0.13250973]\n",
      " [-0.17367395 -0.13197948  0.25122143  0.00087755]\n",
      " [-0.17367395 -0.36217625  0.25122143  0.13250973]\n",
      " [ 0.4321654  -0.36217625  0.30805885  0.13250973]\n",
      " [-0.90068117 -1.28296331 -0.4308277  -0.13075464]\n",
      " [-0.17367395 -0.59237301  0.194384    0.13250973]\n",
      " [ 0.55333328  0.55861082  1.27429511  1.71209594]\n",
      " [-0.05250608 -0.82256978  0.76275827  0.92230284]\n",
      " [ 1.52267624 -0.13197948  1.21745768  1.18556721]\n",
      " [ 0.55333328 -0.36217625  1.0469454   0.79067065]\n",
      " [ 0.79566902 -0.13197948  1.16062026  1.31719939]\n",
      " [ 2.12851559 -0.13197948  1.61531967  1.18556721]\n",
      " [-1.14301691 -1.28296331  0.42173371  0.65903847]\n",
      " [ 1.76501198 -0.36217625  1.44480739  0.79067065]\n",
      " [ 1.03800476 -1.28296331  1.16062026  0.79067065]\n",
      " [ 1.64384411  1.24920112  1.33113254  1.71209594]\n",
      " [ 0.79566902  0.32841405  0.76275827  1.05393502]\n",
      " [ 0.67450115 -0.82256978  0.87643312  0.92230284]\n",
      " [ 1.15917263 -0.13197948  0.99010798  1.18556721]\n",
      " [-0.17367395 -1.28296331  0.70592084  1.05393502]\n",
      " [-0.05250608 -0.59237301  0.76275827  1.58046376]\n",
      " [ 0.67450115  0.32841405  0.87643312  1.44883158]\n",
      " [ 0.79566902 -0.13197948  0.99010798  0.79067065]\n",
      " [ 2.24968346  1.70959465  1.6721571   1.31719939]\n",
      " [ 2.24968346 -1.05276654  1.78583195  1.44883158]\n",
      " [ 0.18982966 -1.97355361  0.70592084  0.3957741 ]\n",
      " [ 1.2803405   0.32841405  1.10378283  1.44883158]\n",
      " [-0.29484182 -0.59237301  0.64908342  1.05393502]\n",
      " [ 2.24968346 -0.59237301  1.6721571   1.05393502]\n",
      " [ 0.55333328 -0.82256978  0.64908342  0.79067065]\n",
      " [ 1.03800476  0.55861082  1.10378283  1.18556721]\n",
      " [ 1.64384411  0.32841405  1.27429511  0.79067065]\n",
      " [ 0.4321654  -0.59237301  0.59224599  0.79067065]\n",
      " [ 0.31099753 -0.13197948  0.64908342  0.79067065]\n",
      " [ 0.67450115 -0.59237301  1.0469454   1.18556721]\n",
      " [ 1.64384411 -0.13197948  1.16062026  0.52740629]\n",
      " [ 1.88617985 -0.59237301  1.33113254  0.92230284]\n",
      " [ 2.4920192   1.70959465  1.50164482  1.05393502]\n",
      " [ 0.67450115 -0.59237301  1.0469454   1.31719939]\n",
      " [ 0.55333328 -0.59237301  0.76275827  0.3957741 ]\n",
      " [ 0.31099753 -1.05276654  1.0469454   0.26414192]\n",
      " [ 2.24968346 -0.13197948  1.33113254  1.44883158]\n",
      " [ 0.55333328  0.78880759  1.0469454   1.58046376]\n",
      " [ 0.67450115  0.09821729  0.99010798  0.79067065]\n",
      " [ 0.18982966 -0.13197948  0.59224599  0.79067065]\n",
      " [ 1.2803405   0.09821729  0.93327055  1.18556721]\n",
      " [ 1.03800476  0.09821729  1.0469454   1.58046376]\n",
      " [ 1.2803405   0.09821729  0.76275827  1.44883158]\n",
      " [-0.05250608 -0.82256978  0.76275827  0.92230284]\n",
      " [ 1.15917263  0.32841405  1.21745768  1.44883158]\n",
      " [ 1.03800476  0.55861082  1.10378283  1.71209594]\n",
      " [ 1.03800476 -0.13197948  0.8195957   1.44883158]\n",
      " [ 0.55333328 -1.28296331  0.70592084  0.92230284]\n",
      " [ 0.79566902 -0.13197948  0.8195957   1.05393502]\n",
      " [ 0.4321654   0.78880759  0.93327055  1.44883158]\n",
      " [ 0.06866179 -0.13197948  0.76275827  0.79067065]]\n"
     ]
    }
   ],
   "source": [
    "# Normalize the raw data.\n",
    "normalized_data = scaler.transform(raw_data.T)\n",
    "normalized_data.shape\n",
    "print(\"Normalized Data: \\n\", normalized_data)"
   ]
  },
  {
   "cell_type": "code",
   "execution_count": 10,
   "metadata": {},
   "outputs": [
    {
     "data": {
      "text/plain": [
       "array([[ 1.        , -0.11756978,  0.87175378,  0.81794113],\n",
       "       [-0.11756978,  1.        , -0.4284401 , -0.36612593],\n",
       "       [ 0.87175378, -0.4284401 ,  1.        ,  0.96286543],\n",
       "       [ 0.81794113, -0.36612593,  0.96286543,  1.        ]])"
      ]
     },
     "execution_count": 10,
     "metadata": {},
     "output_type": "execute_result"
    }
   ],
   "source": [
    "# Sanity check: Notice how the covariance matrix of the normalized data is the correlation matrix.\n",
    "numpy.cov(normalized_data.T, bias = True)"
   ]
  },
  {
   "cell_type": "markdown",
   "metadata": {},
   "source": [
    "## Center the Data for the Next Step."
   ]
  },
  {
   "cell_type": "code",
   "execution_count": 11,
   "metadata": {},
   "outputs": [
    {
     "name": "stdout",
     "output_type": "stream",
     "text": [
      "Centered Data: \n",
      " [[-0.74333333 -0.94333333 -1.14333333 -1.24333333 -0.84333333 -0.44333333\n",
      "  -1.24333333 -0.84333333 -1.44333333 -0.94333333 -0.44333333 -1.04333333\n",
      "  -1.04333333 -1.54333333 -0.04333333 -0.14333333 -0.44333333 -0.74333333\n",
      "  -0.14333333 -0.74333333 -0.44333333 -0.74333333 -1.24333333 -0.74333333\n",
      "  -1.04333333 -0.84333333 -0.84333333 -0.64333333 -0.64333333 -1.14333333\n",
      "  -1.04333333 -0.44333333 -0.64333333 -0.34333333 -0.94333333 -0.84333333\n",
      "  -0.34333333 -0.94333333 -1.44333333 -0.74333333 -0.84333333 -1.34333333\n",
      "  -1.44333333 -0.84333333 -0.74333333 -1.04333333 -0.74333333 -1.24333333\n",
      "  -0.54333333 -0.84333333  1.15666667  0.55666667  1.05666667 -0.34333333\n",
      "   0.65666667 -0.14333333  0.45666667 -0.94333333  0.75666667 -0.64333333\n",
      "  -0.84333333  0.05666667  0.15666667  0.25666667 -0.24333333  0.85666667\n",
      "  -0.24333333 -0.04333333  0.35666667 -0.24333333  0.05666667  0.25666667\n",
      "   0.45666667  0.25666667  0.55666667  0.75666667  0.95666667  0.85666667\n",
      "   0.15666667 -0.14333333 -0.34333333 -0.34333333 -0.04333333  0.15666667\n",
      "  -0.44333333  0.15666667  0.85666667  0.45666667 -0.24333333 -0.34333333\n",
      "  -0.34333333  0.25666667 -0.04333333 -0.84333333 -0.24333333 -0.14333333\n",
      "  -0.14333333  0.35666667 -0.74333333 -0.14333333  0.45666667 -0.04333333\n",
      "   1.25666667  0.45666667  0.65666667  1.75666667 -0.94333333  1.45666667\n",
      "   0.85666667  1.35666667  0.65666667  0.55666667  0.95666667 -0.14333333\n",
      "  -0.04333333  0.55666667  0.65666667  1.85666667  1.85666667  0.15666667\n",
      "   1.05666667 -0.24333333  1.85666667  0.45666667  0.85666667  1.35666667\n",
      "   0.35666667  0.25666667  0.55666667  1.35666667  1.55666667  2.05666667\n",
      "   0.55666667  0.45666667  0.25666667  1.85666667  0.45666667  0.55666667\n",
      "   0.15666667  1.05666667  0.85666667  1.05666667 -0.04333333  0.95666667\n",
      "   0.85666667  0.85666667  0.45666667  0.65666667  0.35666667  0.05666667]\n",
      " [ 0.44266667 -0.05733333  0.14266667  0.04266667  0.54266667  0.84266667\n",
      "   0.34266667  0.34266667 -0.15733333  0.04266667  0.64266667  0.34266667\n",
      "  -0.05733333 -0.05733333  0.94266667  1.34266667  0.84266667  0.44266667\n",
      "   0.74266667  0.74266667  0.34266667  0.64266667  0.54266667  0.24266667\n",
      "   0.34266667 -0.05733333  0.34266667  0.44266667  0.34266667  0.14266667\n",
      "   0.04266667  0.34266667  1.04266667  1.14266667  0.04266667  0.14266667\n",
      "   0.44266667  0.54266667 -0.05733333  0.34266667  0.44266667 -0.75733333\n",
      "   0.14266667  0.44266667  0.74266667 -0.05733333  0.74266667  0.14266667\n",
      "   0.64266667  0.24266667  0.14266667  0.14266667  0.04266667 -0.75733333\n",
      "  -0.25733333 -0.25733333  0.24266667 -0.65733333 -0.15733333 -0.35733333\n",
      "  -1.05733333 -0.05733333 -0.85733333 -0.15733333 -0.15733333  0.04266667\n",
      "  -0.05733333 -0.35733333 -0.85733333 -0.55733333  0.14266667 -0.25733333\n",
      "  -0.55733333 -0.25733333 -0.15733333 -0.05733333 -0.25733333 -0.05733333\n",
      "  -0.15733333 -0.45733333 -0.65733333 -0.65733333 -0.35733333 -0.35733333\n",
      "  -0.05733333  0.34266667  0.04266667 -0.75733333 -0.05733333 -0.55733333\n",
      "  -0.45733333 -0.05733333 -0.45733333 -0.75733333 -0.35733333 -0.05733333\n",
      "  -0.15733333 -0.15733333 -0.55733333 -0.25733333  0.24266667 -0.35733333\n",
      "  -0.05733333 -0.15733333 -0.05733333 -0.05733333 -0.55733333 -0.15733333\n",
      "  -0.55733333  0.54266667  0.14266667 -0.35733333 -0.05733333 -0.55733333\n",
      "  -0.25733333  0.14266667 -0.05733333  0.74266667 -0.45733333 -0.85733333\n",
      "   0.14266667 -0.25733333 -0.25733333 -0.35733333  0.24266667  0.14266667\n",
      "  -0.25733333 -0.05733333 -0.25733333 -0.05733333 -0.25733333  0.74266667\n",
      "  -0.25733333 -0.25733333 -0.45733333 -0.05733333  0.34266667  0.04266667\n",
      "  -0.05733333  0.04266667  0.04266667  0.04266667 -0.35733333  0.14266667\n",
      "   0.24266667 -0.05733333 -0.55733333 -0.05733333  0.34266667 -0.05733333]\n",
      " [-2.358      -2.358      -2.458      -2.258      -2.358      -2.058\n",
      "  -2.358      -2.258      -2.358      -2.258      -2.258      -2.158\n",
      "  -2.358      -2.658      -2.558      -2.258      -2.458      -2.358\n",
      "  -2.058      -2.258      -2.058      -2.258      -2.758      -2.058\n",
      "  -1.858      -2.158      -2.158      -2.258      -2.358      -2.158\n",
      "  -2.158      -2.258      -2.258      -2.358      -2.258      -2.558\n",
      "  -2.458      -2.358      -2.458      -2.258      -2.458      -2.458\n",
      "  -2.458      -2.158      -1.858      -2.358      -2.158      -2.358\n",
      "  -2.258      -2.358       0.942       0.742       1.142       0.242\n",
      "   0.842       0.742       0.942      -0.458       0.842       0.142\n",
      "  -0.258       0.442       0.242       0.942      -0.158       0.642\n",
      "   0.742       0.342       0.742       0.142       1.042       0.242\n",
      "   1.142       0.942       0.542       0.642       1.042       1.242\n",
      "   0.742      -0.258       0.042      -0.058       0.142       1.342\n",
      "   0.742       0.742       0.942       0.642       0.342       0.242\n",
      "   0.642       0.842       0.242      -0.458       0.442       0.442\n",
      "   0.442       0.542      -0.758       0.342       2.242       1.342\n",
      "   2.142       1.842       2.042       2.842       0.742       2.542\n",
      "   2.042       2.342       1.342       1.542       1.742       1.242\n",
      "   1.342       1.542       1.742       2.942       3.142       1.242\n",
      "   1.942       1.142       2.942       1.142       1.942       2.242\n",
      "   1.042       1.142       1.842       2.042       2.342       2.642\n",
      "   1.842       1.342       1.842       2.342       1.842       1.742\n",
      "   1.042       1.642       1.842       1.342       1.342       2.142\n",
      "   1.942       1.442       1.242       1.442       1.642       1.342     ]\n",
      " [-0.99933333 -0.99933333 -0.99933333 -0.99933333 -0.99933333 -0.79933333\n",
      "  -0.89933333 -0.99933333 -0.99933333 -1.09933333 -0.99933333 -0.99933333\n",
      "  -1.09933333 -1.09933333 -0.99933333 -0.79933333 -0.79933333 -0.89933333\n",
      "  -0.89933333 -0.89933333 -0.99933333 -0.79933333 -0.99933333 -0.69933333\n",
      "  -0.99933333 -0.99933333 -0.79933333 -0.99933333 -0.99933333 -0.99933333\n",
      "  -0.99933333 -0.79933333 -1.09933333 -0.99933333 -0.99933333 -0.99933333\n",
      "  -0.99933333 -1.09933333 -0.99933333 -0.99933333 -0.89933333 -0.89933333\n",
      "  -0.99933333 -0.59933333 -0.79933333 -0.89933333 -0.99933333 -0.99933333\n",
      "  -0.99933333 -0.99933333  0.20066667  0.30066667  0.30066667  0.10066667\n",
      "   0.30066667  0.10066667  0.40066667 -0.19933333  0.10066667  0.20066667\n",
      "  -0.19933333  0.30066667 -0.19933333  0.20066667  0.10066667  0.20066667\n",
      "   0.30066667 -0.19933333  0.30066667 -0.09933333  0.60066667  0.10066667\n",
      "   0.30066667  0.00066667  0.10066667  0.20066667  0.20066667  0.50066667\n",
      "   0.30066667 -0.19933333 -0.09933333 -0.19933333  0.00066667  0.40066667\n",
      "   0.30066667  0.40066667  0.30066667  0.10066667  0.10066667  0.10066667\n",
      "   0.00066667  0.20066667  0.00066667 -0.19933333  0.10066667  0.00066667\n",
      "   0.10066667  0.10066667 -0.09933333  0.10066667  1.30066667  0.70066667\n",
      "   0.90066667  0.60066667  1.00066667  0.90066667  0.50066667  0.60066667\n",
      "   0.60066667  1.30066667  0.80066667  0.70066667  0.90066667  0.80066667\n",
      "   1.20066667  1.10066667  0.60066667  1.00066667  1.10066667  0.30066667\n",
      "   1.10066667  0.80066667  0.80066667  0.60066667  0.90066667  0.60066667\n",
      "   0.60066667  0.60066667  0.90066667  0.40066667  0.70066667  0.80066667\n",
      "   1.00066667  0.30066667  0.20066667  1.10066667  1.20066667  0.60066667\n",
      "   0.60066667  0.90066667  1.20066667  1.10066667  0.70066667  1.10066667\n",
      "   1.30066667  1.10066667  0.70066667  0.80066667  1.10066667  0.60066667]]\n"
     ]
    }
   ],
   "source": [
    "# Subtract the means from the raw data.\n",
    "centered_data = raw_data - scaler.mean_[:,None]\n",
    "centered_data.shape\n",
    "print(\"Centered Data: \\n\", centered_data)"
   ]
  },
  {
   "cell_type": "markdown",
   "metadata": {},
   "source": [
    "## Write a Function to Calculate Eigenvectors/Eigenvalues."
   ]
  },
  {
   "cell_type": "markdown",
   "metadata": {},
   "source": [
    "Not sure how to write this from scratch. I relied on using NumPy's own Eigenvector/value function for this one."
   ]
  },
  {
   "cell_type": "markdown",
   "metadata": {},
   "source": [
    "## Calculate the Eigenvectors and Values of the Covariance Matrix."
   ]
  },
  {
   "cell_type": "code",
   "execution_count": 12,
   "metadata": {},
   "outputs": [
    {
     "name": "stdout",
     "output_type": "stream",
     "text": [
      "Unsorted Eigenvalues: \n",
      " [4.20005343 0.24105294 0.0776881  0.02367619]\n",
      "Unsorted Eigenvectors: \n",
      " [[ 0.36138659 -0.65658877 -0.58202985  0.31548719]\n",
      " [-0.08452251 -0.73016143  0.59791083 -0.3197231 ]\n",
      " [ 0.85667061  0.17337266  0.07623608 -0.47983899]\n",
      " [ 0.3582892   0.07548102  0.54583143  0.75365743]]\n"
     ]
    }
   ],
   "source": [
    "# Get the eigenvectors/values from the covariance matrix.\n",
    "eigen_values, eigen_vectors = numpy.linalg.eig(cov_matrix)\n",
    "print(\"Unsorted Eigenvalues: \\n\", eigen_values)\n",
    "print(\"Unsorted Eigenvectors: \\n\", eigen_vectors)"
   ]
  },
  {
   "cell_type": "code",
   "execution_count": 13,
   "metadata": {},
   "outputs": [],
   "source": [
    "# Sort eigenvectors/values by size\n",
    "idx = eigen_values.argsort()[::-1]    \n",
    "eigen_values = eigen_values[idx]\n",
    "eigen_vectors = eigen_vectors[:,idx]"
   ]
  },
  {
   "cell_type": "code",
   "execution_count": 14,
   "metadata": {},
   "outputs": [
    {
     "name": "stdout",
     "output_type": "stream",
     "text": [
      "Eigenvector: \n",
      " [[ 0.36138659 -0.65658877 -0.58202985  0.31548719]\n",
      " [-0.08452251 -0.73016143  0.59791083 -0.3197231 ]\n",
      " [ 0.85667061  0.17337266  0.07623608 -0.47983899]\n",
      " [ 0.3582892   0.07548102  0.54583143  0.75365743]]\n",
      "Eigenvalues: \n",
      " [4.20005343 0.24105294 0.0776881  0.02367619]\n"
     ]
    }
   ],
   "source": [
    "print(\"Eigenvector: \\n\",eigen_vectors)\n",
    "print(\"Eigenvalues: \\n\", eigen_values)"
   ]
  },
  {
   "cell_type": "markdown",
   "metadata": {},
   "source": [
    "## Pull the Feature Vector out of the Eigenvector Matrix.\n",
    "\n",
    "We want the first 2 principal components, throwing away the rest."
   ]
  },
  {
   "cell_type": "code",
   "execution_count": 15,
   "metadata": {},
   "outputs": [
    {
     "data": {
      "text/plain": [
       "(2, 4)"
      ]
     },
     "execution_count": 15,
     "metadata": {},
     "output_type": "execute_result"
    }
   ],
   "source": [
    "# Retrieve the first 2 eigenvectors.\n",
    "feature_vector = eigen_vectors[:,:2].T\n",
    "feature_vector.shape"
   ]
  },
  {
   "cell_type": "markdown",
   "metadata": {},
   "source": [
    "## Project the Raw Data Along the Principal Component Axes."
   ]
  },
  {
   "cell_type": "code",
   "execution_count": 16,
   "metadata": {},
   "outputs": [
    {
     "name": "stdout",
     "output_type": "stream",
     "text": [
      "Projected Data: \n",
      " [[-2.68412563 -2.71414169 -2.88899057 -2.74534286 -2.72871654 -2.28085963\n",
      "  -2.82053775 -2.62614497 -2.88638273 -2.6727558  -2.50694709 -2.61275523\n",
      "  -2.78610927 -3.22380374 -2.64475039 -2.38603903 -2.62352788 -2.64829671\n",
      "  -2.19982032 -2.5879864  -2.31025622 -2.54370523 -3.21593942 -2.30273318\n",
      "  -2.35575405 -2.50666891 -2.46882007 -2.56231991 -2.63953472 -2.63198939\n",
      "  -2.58739848 -2.4099325  -2.64886233 -2.59873675 -2.63692688 -2.86624165\n",
      "  -2.62523805 -2.80068412 -2.98050204 -2.59000631 -2.77010243 -2.84936871\n",
      "  -2.99740655 -2.40561449 -2.20948924 -2.71445143 -2.53814826 -2.83946217\n",
      "  -2.54308575 -2.70335978  1.28482569  0.93248853  1.46430232  0.18331772\n",
      "   1.08810326  0.64166908  1.09506066 -0.74912267  1.04413183 -0.0087454\n",
      "  -0.50784088  0.51169856  0.26497651  0.98493451 -0.17392537  0.92786078\n",
      "   0.66028376  0.23610499  0.94473373  0.04522698  1.11628318  0.35788842\n",
      "   1.29818388  0.92172892  0.71485333  0.90017437  1.33202444  1.55780216\n",
      "   0.81329065 -0.30558378 -0.06812649 -0.18962247  0.13642871  1.38002644\n",
      "   0.58800644  0.80685831  1.22069088  0.81509524  0.24595768  0.16641322\n",
      "   0.46480029  0.8908152   0.23054802 -0.70453176  0.35698149  0.33193448\n",
      "   0.37621565  0.64257601 -0.90646986  0.29900084  2.53119273  1.41523588\n",
      "   2.61667602  1.97153105  2.35000592  3.39703874  0.52123224  2.93258707\n",
      "   2.32122882  2.91675097  1.66177415  1.80340195  2.1655918   1.34616358\n",
      "   1.58592822  1.90445637  1.94968906  3.48705536  3.79564542  1.30079171\n",
      "   2.42781791  1.19900111  3.49992004  1.38876613  2.2754305   2.61409047\n",
      "   1.25850816  1.29113206  2.12360872  2.38800302  2.84167278  3.23067366\n",
      "   2.15943764  1.44416124  1.78129481  3.07649993  2.14424331  1.90509815\n",
      "   1.16932634  2.10761114  2.31415471  1.9222678   1.41523588  2.56301338\n",
      "   2.41874618  1.94410979  1.52716661  1.76434572  1.90094161  1.39018886]\n",
      " [-0.31939725  0.17700123  0.14494943  0.31829898 -0.32675451 -0.74133045\n",
      "   0.08946138 -0.16338496  0.57831175  0.11377425 -0.6450689  -0.01472994\n",
      "   0.235112    0.51139459 -1.17876464 -1.33806233 -0.81067951 -0.31184914\n",
      "  -0.87283904 -0.51356031 -0.39134594 -0.43299606 -0.13346807 -0.09870885\n",
      "   0.03728186  0.14601688 -0.13095149 -0.36771886 -0.31203998  0.19696122\n",
      "   0.20431849 -0.41092426 -0.81336382 -1.09314576  0.12132235 -0.06936447\n",
      "  -0.59937002 -0.26864374  0.48795834 -0.22904384 -0.26352753  0.94096057\n",
      "   0.34192606 -0.18887143 -0.43666314  0.2502082  -0.50377114  0.22794557\n",
      "  -0.57941002 -0.10770608 -0.68516047 -0.31833364 -0.50426282  0.82795901\n",
      "  -0.07459068  0.41824687 -0.28346827  1.00489096 -0.2283619   0.72308191\n",
      "   1.26597119  0.10398124  0.55003646  0.12481785  0.25485421 -0.46717949\n",
      "   0.35296967  0.33361077  0.54314555  0.58383438  0.08461685  0.06892503\n",
      "   0.32778731  0.18273779 -0.14905594 -0.32850447 -0.24444088 -0.26749545\n",
      "   0.1633503   0.36826219  0.70517213  0.68028676  0.31403244  0.42095429\n",
      "   0.48428742 -0.19418231 -0.40761959  0.37203706  0.2685244   0.68192672\n",
      "   0.67071154  0.03446444  0.40438585  1.01224823  0.50491009  0.21265468\n",
      "   0.29321893 -0.01773819  0.75609337  0.34889781  0.00984911  0.57491635\n",
      "  -0.34390315  0.1797279   0.04026095 -0.55083667  1.19275873 -0.3555\n",
      "   0.2438315  -0.78279195 -0.24222841  0.21563762 -0.21627559  0.77681835\n",
      "   0.53964071 -0.11925069 -0.04194326 -1.17573933 -0.25732297  0.76114964\n",
      "  -0.37819601  0.60609153 -0.4606741   0.20439933 -0.33499061 -0.56090136\n",
      "   0.17970479  0.11666865  0.20972948 -0.4646398  -0.37526917 -1.37416509\n",
      "   0.21727758  0.14341341  0.49990168 -0.68808568 -0.1400642  -0.04930053\n",
      "   0.16499026 -0.37228787 -0.18365128 -0.40920347  0.57491635 -0.2778626\n",
      "  -0.3047982  -0.1875323   0.37531698 -0.07885885 -0.11662796  0.28266094]]\n"
     ]
    }
   ],
   "source": [
    "# Project the centered data along the 2 eigenvectors.\n",
    "projected_data = numpy.dot(feature_vector, centered_data)\n",
    "projected_data.shape\n",
    "print(\"Projected Data: \\n\", projected_data)"
   ]
  },
  {
   "cell_type": "markdown",
   "metadata": {},
   "source": [
    "## Plot the Projected Data Along 2 Axes."
   ]
  },
  {
   "cell_type": "code",
   "execution_count": 17,
   "metadata": {},
   "outputs": [
    {
     "data": {
      "text/plain": [
       "<matplotlib.collections.PathCollection at 0x1fb3592fca0>"
      ]
     },
     "execution_count": 17,
     "metadata": {},
     "output_type": "execute_result"
    },
    {
     "data": {
      "image/png": "[encoded data removed]",
      "text/plain": [
       "<Figure size 432x288 with 1 Axes>"
      ]
     },
     "metadata": {
      "needs_background": "light"
     },
     "output_type": "display_data"
    }
   ],
   "source": [
    "# Plot the projected data in separately colored sets of 50 points.\n",
    "pyplot.scatter(x = projected_data[0, :50], \n",
    "               y = projected_data[1, :50])\n",
    "\n",
    "pyplot.scatter(x = projected_data[0, 50:100],\n",
    "               y = projected_data[1, 50:100],\n",
    "               color=\"red\")\n",
    "\n",
    "pyplot.scatter(x = projected_data[0, 100:150],\n",
    "               y = projected_data[1, 100:150],\n",
    "               color=\"green\")"
   ]
  },
  {
   "cell_type": "markdown",
   "metadata": {},
   "source": [
    "## Automatic PCA with SciKit"
   ]
  },
  {
   "cell_type": "code",
   "execution_count": 18,
   "metadata": {},
   "outputs": [
    {
     "data": {
      "text/plain": [
       "(2, 150)"
      ]
     },
     "execution_count": 18,
     "metadata": {},
     "output_type": "execute_result"
    }
   ],
   "source": [
    "from sklearn.decomposition import PCA\n",
    "\n",
    "# Perform automatic PCA on the raw data using the sklearn package.\n",
    "pca = PCA(n_components = 2)\n",
    "projected_data_auto = pca.fit_transform(raw_data.T).T\n",
    "projected_data_auto.shape"
   ]
  },
  {
   "cell_type": "code",
   "execution_count": 19,
   "metadata": {},
   "outputs": [
    {
     "data": {
      "text/plain": [
       "<matplotlib.collections.PathCollection at 0x1fb37105cd0>"
      ]
     },
     "execution_count": 19,
     "metadata": {},
     "output_type": "execute_result"
    },
    {
     "data": {
      "image/png": "[encoded data removed]",
      "text/plain": [
       "<Figure size 432x288 with 1 Axes>"
      ]
     },
     "metadata": {
      "needs_background": "light"
     },
     "output_type": "display_data"
    }
   ],
   "source": [
    "# Plot the projected data in separately colored sets of 50 points.\n",
    "pyplot.scatter(x = projected_data_auto[0, :50],\n",
    "               y = projected_data_auto[1, :50])\n",
    "\n",
    "pyplot.scatter(x = projected_data_auto[0, 50:100],\n",
    "               y = projected_data_auto[1, 50:100],\n",
    "               color=\"red\")\n",
    "\n",
    "pyplot.scatter(x = projected_data_auto[0, 100:150],\n",
    "               y = projected_data_auto[1, 100:150],\n",
    "               color=\"green\")"
   ]
  },
  {
   "cell_type": "markdown",
   "metadata": {},
   "source": [
    "## Q: Can you make a good rule of what type of flower it is by just using the first two principle components? Describe how?\n",
    "\n",
    "A: Using the first two principal components, we can see clear clusters in the plot of the resulting data. We could find the average point in each of these clusters, then categorize an incoming flower based on which average point of the cluster its closest to."
   ]
  },
  {
   "cell_type": "markdown",
   "metadata": {},
   "source": [
    "## Q: What percentage of the total data variance do the first two principle components capture?"
   ]
  },
  {
   "cell_type": "code",
   "execution_count": 20,
   "metadata": {},
   "outputs": [
    {
     "data": {
      "text/plain": [
       "0.9776852063187949"
      ]
     },
     "execution_count": 20,
     "metadata": {},
     "output_type": "execute_result"
    }
   ],
   "source": [
    "sum(eigen_values[:2]) / sum(eigen_values)"
   ]
  },
  {
   "cell_type": "markdown",
   "metadata": {},
   "source": [
    "A: The first 2 principal components capture about **97.77%** of the total data variance."
   ]
  },
  {
   "cell_type": "markdown",
   "metadata": {},
   "source": [
    "# Part 2 - Linear Regression\n",
    "\n",
    "- Load the Diabetes dataset (we do that for you)\n",
    "- Break the data set up into the first 350 observations for training and the remaining observations for test.\n",
    "- Write a function that takes in a feature matrix and a y-vector and fits the line of best fit using least squares regression. \n",
    "- Fit the line of best fit on the training data. \n",
    "- Make a prediction on the test data. \n",
    "- Compute the total Sum of Squared Error (SSE) and then compute the MSE on the test data.\n",
    "- Fit the linear regression model using the stats models package as in class.\n",
    "- Which variables are statistically significant at the 5% level? \n",
    "- What is the value of R^2? How is that interpreted?"
   ]
  },
  {
   "cell_type": "code",
   "execution_count": 21,
   "metadata": {},
   "outputs": [],
   "source": [
    "from sklearn.datasets import load_diabetes\n",
    "import statsmodels.api as statsmodels\n",
    "\n",
    "# Load the diabeties dataset. Each observation is a row.\n",
    "diabetes = load_diabetes()"
   ]
  },
  {
   "cell_type": "code",
   "execution_count": 22,
   "metadata": {},
   "outputs": [
    {
     "data": {
      "text/plain": [
       "['age', 'sex', 'bmi', 'bp', 's1', 's2', 's3', 's4', 's5', 's6']"
      ]
     },
     "execution_count": 22,
     "metadata": {},
     "output_type": "execute_result"
    }
   ],
   "source": [
    "diabetes.feature_names"
   ]
  },
  {
   "cell_type": "markdown",
   "metadata": {},
   "source": [
    "## Extract Training and Validation Observations."
   ]
  },
  {
   "cell_type": "code",
   "execution_count": 23,
   "metadata": {},
   "outputs": [
    {
     "data": {
      "text/plain": [
       "(350, 11)"
      ]
     },
     "execution_count": 23,
     "metadata": {},
     "output_type": "execute_result"
    }
   ],
   "source": [
    "# Extract the first 350 points for training, and the rest for validation.\n",
    "training_x = diabetes.data[:350, :]\n",
    "\n",
    "# Remember to add a 1s column for constants!\n",
    "training_x = statsmodels.add_constant(training_x)\n",
    "\n",
    "training_x.shape"
   ]
  },
  {
   "cell_type": "code",
   "execution_count": 24,
   "metadata": {},
   "outputs": [
    {
     "data": {
      "text/plain": [
       "(350,)"
      ]
     },
     "execution_count": 24,
     "metadata": {},
     "output_type": "execute_result"
    }
   ],
   "source": [
    "training_y = diabetes['target'][:350]\n",
    "training_y.shape"
   ]
  },
  {
   "cell_type": "code",
   "execution_count": 25,
   "metadata": {},
   "outputs": [
    {
     "data": {
      "text/plain": [
       "(92, 11)"
      ]
     },
     "execution_count": 25,
     "metadata": {},
     "output_type": "execute_result"
    }
   ],
   "source": [
    "validation_x = diabetes.data[350:, :]\n",
    "validation_x = statsmodels.add_constant(validation_x)\n",
    "validation_x.shape"
   ]
  },
  {
   "cell_type": "code",
   "execution_count": 26,
   "metadata": {},
   "outputs": [
    {
     "data": {
      "text/plain": [
       "(92,)"
      ]
     },
     "execution_count": 26,
     "metadata": {},
     "output_type": "execute_result"
    }
   ],
   "source": [
    "validation_y = diabetes['target'][350:]\n",
    "validation_y.shape"
   ]
  },
  {
   "cell_type": "markdown",
   "metadata": {},
   "source": [
    "## Write Function for Fitting Line of Best Fit."
   ]
  },
  {
   "cell_type": "code",
   "execution_count": 27,
   "metadata": {},
   "outputs": [],
   "source": [
    "def getBetaCoefficients(X, Y):\n",
    "    return numpy.dot(numpy.dot(numpy.linalg.inv(numpy.dot(X.T, X)), X.T), Y)"
   ]
  },
  {
   "cell_type": "markdown",
   "metadata": {},
   "source": [
    "## Fit the Line of Best Fit."
   ]
  },
  {
   "cell_type": "code",
   "execution_count": 28,
   "metadata": {},
   "outputs": [
    {
     "data": {
      "text/plain": [
       "array([ 152.07985511,  -10.82642893, -249.48428541,  514.40863256,\n",
       "        295.22963645, -456.83095843,  201.72327107,  -48.34518664,\n",
       "        138.29973577,  631.97471559,   87.89687854])"
      ]
     },
     "execution_count": 28,
     "metadata": {},
     "output_type": "execute_result"
    }
   ],
   "source": [
    "# Calculate ideal beta coefficients for each feature.\n",
    "beta = getBetaCoefficients(training_x, training_y)\n",
    "beta"
   ]
  },
  {
   "cell_type": "code",
   "execution_count": 29,
   "metadata": {},
   "outputs": [
    {
     "data": {
      "text/plain": [
       "array([203.16696157,  68.63362222, 174.37423558, 166.87203638,\n",
       "       127.17876125, 106.01507495,  75.62765335, 116.99430939,\n",
       "       159.08108667, 215.52794842,  99.8454039 ,  97.72516796,\n",
       "       114.71320949, 162.45615308, 101.47014564, 171.3238413 ,\n",
       "       210.01766088, 179.73277259, 148.55602418, 123.68247258,\n",
       "       122.08563863,  87.60593163, 115.86371667, 265.46422446,\n",
       "       164.42562579, 146.4254554 ,  99.14836341, 180.44646168,\n",
       "       130.05819982, 183.50103121, 159.41783847,  71.97498414,\n",
       "       256.52566819, 110.88282369,  80.80367957,  86.38521763,\n",
       "       206.04443621, 158.19490789, 238.17948053, 137.59583308,\n",
       "       153.41363023,  78.15066396, 143.98521229,  81.83309616,\n",
       "       217.46104622, 122.12854085, 141.44232636, 109.94307979,\n",
       "        73.68944456, 187.14763451, 157.98673212, 166.3851623 ,\n",
       "       133.85929587, 156.87877777, 139.89156698,  75.17009437,\n",
       "       207.37437882,  81.44058848,  98.71598232, 133.47730433,\n",
       "       115.86881617, 179.64253395,  63.78165393, 100.4088285 ,\n",
       "       114.16728991, 186.14526795, 147.67394713, 123.75624634,\n",
       "       114.34255002, 124.38093663,  76.77568505, 233.96446061,\n",
       "       144.5266371 , 122.44433229, 149.48937245, 127.78246687,\n",
       "       189.29630959,  82.52918353, 165.7089164 ,  93.76448792,\n",
       "       172.13279157, 121.63439677,  64.23624444, 152.50107384,\n",
       "        56.5552395 , 165.57788069,  47.60083622, 150.99830973,\n",
       "        83.17870889, 107.36331868,  83.95107667, 188.30309985,\n",
       "       188.40291672,  63.28297803, 105.96847295, 127.15482493,\n",
       "       206.11539749, 215.22826556, 121.66466071, 136.6369085 ,\n",
       "       168.29316805, 104.96884194, 150.68881322, 155.84589636,\n",
       "       153.38600636, 116.16823275,  75.1644555 , 158.04254475,\n",
       "       228.19859851, 144.434736  ,  45.09590583, 121.30969513,\n",
       "       153.68747435, 206.90887525, 294.33284091, 189.75362079,\n",
       "       209.76122215, 237.14398707, 164.27955392, 150.99206778,\n",
       "       156.2493237 , 198.72158558, 217.24276129, 172.25373649,\n",
       "       168.09265342, 189.82014553,  62.41398238, 104.80728107,\n",
       "        92.93026009, 211.9908287 , 241.60048827,  72.26375997,\n",
       "       113.17699241,  70.86792054, 141.2423614 , 240.7139807 ,\n",
       "        62.47189344, 230.8614757 , 251.57153427, 251.3936682 ,\n",
       "       154.62303675, 232.02063301, 168.80939724, 117.61367275,\n",
       "       176.45054057, 236.42127579, 188.40073683, 228.72169649,\n",
       "       114.25947691, 177.37857023, 207.74395774, 143.6562567 ,\n",
       "       196.90216054, 119.78291332, 149.1684699 , 197.09909068,\n",
       "       145.62847542, 123.61974187,  87.15174234, 232.12686235,\n",
       "        84.98643259, 231.38369471, 146.18439403, 194.62931451,\n",
       "       143.85988885,  79.3975113 ,  60.97113361, 265.18819521,\n",
       "       226.48614535, 232.2065078 ,  50.44656827,  91.99898315,\n",
       "       223.34170711,  95.6830596 , 164.38679374, 121.38822312,\n",
       "       155.37455778, 224.88791106, 100.64983891, 165.48342842,\n",
       "       176.26004952,  90.22415257, 167.79265339, 156.06125947,\n",
       "       202.31695794, 186.13164011, 194.55400227,  69.14070601,\n",
       "       152.32562836, 115.28891456, 193.66209996, 128.07691294,\n",
       "        89.89151519, 141.17696685, 154.83791435, 168.08428746,\n",
       "       100.08807094, 186.92875897, 145.46635682, 180.23874085,\n",
       "        96.90245345,  70.99274832, 164.96541495, 194.27095907,\n",
       "       176.49551813, 227.52221381, 158.70646976, 212.26050171,\n",
       "       221.44781297, 169.12595559, 124.2716852 , 174.05792803,\n",
       "       151.03423516, 100.15910753,  98.58756116, 259.94806909,\n",
       "       219.34297139, 218.69044242, 133.73822125, 144.45325128,\n",
       "        56.31741588, 141.84815645, 152.08153702, 125.68258982,\n",
       "        81.49694764, 228.16589535,  78.56816676, 102.93488261,\n",
       "       118.51185736,  99.42113874, 168.57013205, 158.09259564,\n",
       "       157.16676859, 142.81447471, 231.98770511, 174.33223427,\n",
       "       185.49815867,  68.79779361, 185.33848105, 181.52796626,\n",
       "       230.83981614, 119.72066318,  87.49268938,  99.5059115 ,\n",
       "       140.22792124, 100.77613235, 121.10795316,  81.47591999,\n",
       "       233.37702317, 244.75942822, 263.87659274, 273.34413407,\n",
       "       180.47184139, 203.39502805, 261.14730378, 118.22809765,\n",
       "       267.64327637, 101.28318949, 117.12328495, 140.74906076,\n",
       "        61.37207147, 124.66062868, 258.13847518,  48.65222409,\n",
       "       125.26294413, 130.82979285,  36.76736109, 140.40107257,\n",
       "       240.53967924,  88.20442825, 187.90868201, 162.22367787,\n",
       "       147.48374947, 196.55396993, 175.04853331, 157.70012395,\n",
       "       187.6069315 , 116.48625642, 113.05653663, 115.89244459,\n",
       "       161.95676251,  97.77301733, 139.74322632,  87.20334834,\n",
       "       156.72862665, 201.25077303,  80.23906166, 146.8089577 ,\n",
       "        79.6245939 , 190.75488428, 218.82491847, 201.80528978,\n",
       "        94.30832821, 180.23243759,  84.15798667, 152.80262662,\n",
       "        78.49137675, 101.3088903 , 107.8581482 , 123.04361912,\n",
       "       219.48383643, 123.85398051, 205.52124813, 229.13388232,\n",
       "       119.49315136, 132.76923024, 126.01746647, 148.19290554,\n",
       "        89.20905472, 139.40568397, 203.07966341, 173.54439815,\n",
       "       123.78852641, 210.69894376, 173.59073166, 111.44753841,\n",
       "       199.34535321, 172.50296036, 161.4609829 , 191.13580357,\n",
       "       190.24567599, 285.5978139 , 288.11660906, 225.16913904,\n",
       "       209.69057822, 221.16516718, 156.34708994, 221.4914095 ,\n",
       "       189.72081783, 103.73691104, 175.77301995, 112.41967163,\n",
       "       289.17433503, 180.63256716,  80.47626495,  86.55617917,\n",
       "       251.41300312, 170.28345652, 122.78934926, 148.04452968,\n",
       "       167.35460434, 180.7253561 , 161.90702114, 156.56459547,\n",
       "       144.25165636, 124.25477122, 177.00366639, 103.96540657,\n",
       "       130.60969289,  95.92446099])"
      ]
     },
     "execution_count": 29,
     "metadata": {},
     "output_type": "execute_result"
    }
   ],
   "source": [
    "# Recall: The prediction vector is the dot product of the data matrix with the coefficient vector.\n",
    "predicted_training_y = numpy.dot(training_x, beta)\n",
    "predicted_training_y"
   ]
  },
  {
   "cell_type": "code",
   "execution_count": 30,
   "metadata": {},
   "outputs": [
    {
     "data": {
      "text/plain": [
       "array([ -52.16696157,    6.36637778,  -33.37423558,   39.12796362,\n",
       "          7.82123875,   -9.01507495,   62.37234665,  -53.99430939,\n",
       "        -49.08108667,   94.47205158,    1.1545961 ,  -28.72516796,\n",
       "         64.28679051,   22.54384692,   16.52985436,   -0.3238413 ,\n",
       "        -44.01766088,  -35.73277259,  -51.55602418,   44.31752742,\n",
       "        -54.08563863,  -38.60593163,  -47.86371667,  -20.46422446,\n",
       "         19.57437421,   55.5745446 ,   37.85163659,  -95.44646168,\n",
       "          0.94180018,   99.49896879,  -30.41783847,  -12.97498414,\n",
       "         84.47433181,  -23.88282369,  -15.80367957,   15.61478237,\n",
       "         58.95556379,  117.80509211,   13.82051947,  -47.59583308,\n",
       "        -53.41363023,  -23.15066396,  -82.98521229,   10.16690384,\n",
       "         41.53895378,  -69.12854085,   48.55767364,   32.05692021,\n",
       "          1.31055544,  -45.14763451,   -2.98673212,   58.6148377 ,\n",
       "        -74.85929587,  -52.87877777,   42.10843302,   52.82990563,\n",
       "       -155.37437882,  -44.44058848,   71.28401768,   36.52269567,\n",
       "        -54.86881617,  -35.64253395,  -11.78165393,   27.5911715 ,\n",
       "        -43.16728991,  -23.14526795,    2.32605287,  -26.75624634,\n",
       "         45.65744998,   53.61906337,  -28.77568505,   36.03553939,\n",
       "         57.4733629 ,  -11.44433229,  -64.48937245,  -85.78246687,\n",
       "        -19.29630959,  117.47081647,   86.2910836 ,   19.23551208,\n",
       "        -29.13279157,  -70.63439677,  -12.23624444,   57.49892616,\n",
       "          8.4447605 ,  -24.57788069,    7.39916378,  -16.99830973,\n",
       "        -41.17870889,    3.63668132,   14.04892333,  -24.30309985,\n",
       "       -140.40291672,   32.71702197,  -15.96847295,   34.84517507,\n",
       "        -56.11539749,   63.77173444,  -29.66466071,  -53.6369085 ,\n",
       "        -40.29316805,   -2.96884194,  151.31118678,   42.15410364,\n",
       "        -58.38600636,  -63.16823275,   58.8355445 ,  -14.04254475,\n",
       "          3.80140149,  -63.434736  ,   58.90409417,  -62.30969513,\n",
       "         92.31252565,   90.09112475,  -36.33284091,   39.24637921,\n",
       "         65.23877785,   43.85601293,   14.72044608,   49.00793222,\n",
       "         43.7506763 ,  -25.72158558,  -37.24276129,  -88.25373649,\n",
       "        -47.09265342,  -28.82014553,   36.58601762,    4.19271893,\n",
       "         22.06973991,   56.0091713 ,   32.39951173,   85.73624003,\n",
       "         -6.17699241,   12.13207946,  -38.2423614 ,   31.2860193 ,\n",
       "         22.52810656,   49.1385243 ,   84.42846573,   29.6063318 ,\n",
       "        -36.62303675,   84.97936699,   66.19060276,  -57.61367275,\n",
       "         -2.45054057,   22.57872421,  -10.40073683, -100.72169649,\n",
       "        -18.25947691,  -51.37857023,   80.25604226,  -55.6562567 ,\n",
       "         95.09783946,  -48.78291332,   47.8315301 ,  -11.09909068,\n",
       "       -120.62847542,  -39.61974187,    8.84825766,  -37.12686235,\n",
       "        -31.98643259,  -14.38369471,   25.81560597,  -63.62931451,\n",
       "         70.14011115,  -20.3975113 ,    9.02886639,  -45.18819521,\n",
       "         41.51385465,  -80.2065078 ,   -3.44656827,  -17.99898315,\n",
       "         71.65829289,    5.3169404 ,  -13.38679374,    5.61177688,\n",
       "         81.62544222,    0.11208894,  -19.64983891,  -14.48342842,\n",
       "        -69.26004952,  -26.22415257,  -29.79265339,   28.93874053,\n",
       "         62.68304206,  -85.13164011,  -57.55400227,   73.85929399,\n",
       "        -11.32562836,  -36.28891456,   98.33790004,   49.92308706,\n",
       "          1.10848481,  -25.17696685,  -68.83791435,  -46.08428746,\n",
       "        -28.08807094,  -57.92875897,   -3.46635682,  -90.23874085,\n",
       "         61.09754655,  -31.99274832,   31.03458505,   27.72904093,\n",
       "        100.50448187, -128.52221381,   37.29353024,  -10.26050171,\n",
       "        -66.44781297,  -92.12595559,   66.7283148 , -104.05792803,\n",
       "        -78.03423516,  -51.15910753,  -33.58756116,    3.05193091,\n",
       "         28.65702861,   77.30955758,   80.26177875,   40.54674872,\n",
       "         21.68258412,  -48.84815645,   99.91846298,   24.31741018,\n",
       "         -4.49694764,  -20.16589535,   -1.56816676,    5.06511739,\n",
       "         41.48814264,  -46.42113874,   51.42986795,   -4.09259564,\n",
       "        101.83323141,  -52.81447471,   14.01229489,  -50.33223427,\n",
       "       -118.49815867,    3.20220639,   71.66151895,   80.47203374,\n",
       "         44.16018386,   57.27933682,  -16.49268938,  -52.5059115 ,\n",
       "         46.77207876,   24.22386765,  -43.10795316,  -30.47591999,\n",
       "         24.62297683,  -29.75942822,   39.12340726,  -30.34413407,\n",
       "        -89.47184139,  -53.39502805,   48.85269622,   34.77190235,\n",
       "         78.35672363,  -38.28318949,  -28.12328495,  -90.74906076,\n",
       "        -22.37207147,  -21.66062868,   49.86152482,   67.34777591,\n",
       "         19.73705587,  -56.82979285,    8.23263891,  -25.40107257,\n",
       "         23.46032076,   -1.20442825,   14.09131799,  -35.22367787,\n",
       "         34.51625053,   44.44603007, -109.04853331,  -63.70012395,\n",
       "         95.3930685 ,  -52.48625642,  -11.05653663,   84.10755541,\n",
       "        103.04323749,   -3.77301733,   90.25677368,   93.79665166,\n",
       "         -0.72862665,   31.74922697,  -20.23906166,   72.1910423 ,\n",
       "          0.3754061 , -122.75488428,  113.17508153,   46.19471022,\n",
       "        -10.30832821,   19.76756241,  -29.15798667,  -67.80262662,\n",
       "         10.50862325,  -70.3088903 ,   21.1418518 ,  -40.04361912,\n",
       "         55.51616357,  -58.85398051,   -7.52124813,    6.86611768,\n",
       "        133.50684864,   -8.76923024,  -82.01746647,   23.80709446,\n",
       "         24.79094528,    2.59431603,  -94.07966341,    6.45560185,\n",
       "         20.21147359,  -47.69894376,  -26.59073166,  -14.44753841,\n",
       "         20.65464679,   17.49703964,  -52.4609829 ,   -0.13580357,\n",
       "        -68.24567599,  -55.5978139 ,  -46.11660906,   22.83086096,\n",
       "         39.30942178,  -29.16516718,  -25.34708994,   15.5085905 ,\n",
       "       -111.72081783,   31.26308896,   68.22698005,   86.58032837,\n",
       "        -19.17433503,  -16.63256716,   -8.47626495,    9.44382083,\n",
       "         54.58699688,  -79.28345652,   91.21065074,  -53.04452968,\n",
       "         48.64539566,   82.2746439 ,   16.09297886,  -43.56459547,\n",
       "         55.74834364,   14.74522878,  -38.00366639,  -15.96540657,\n",
       "         17.39030711,   -7.92446099])"
      ]
     },
     "execution_count": 30,
     "metadata": {},
     "output_type": "execute_result"
    }
   ],
   "source": [
    "# Retrieve the errors for each point.\n",
    "training_errors = training_y - predicted_training_y\n",
    "training_errors"
   ]
  },
  {
   "cell_type": "markdown",
   "metadata": {},
   "source": [
    "## Make a Prediction on Test Data."
   ]
  },
  {
   "cell_type": "code",
   "execution_count": 31,
   "metadata": {},
   "outputs": [
    {
     "data": {
      "text/plain": [
       "array([249.73713513,  87.3519183 ,  59.67330031, 171.13303685,\n",
       "       194.2613731 , 132.80131482,  91.65414427, 199.47376009,\n",
       "        56.22447271, 172.59442294, 195.79655277, 120.7542843 ,\n",
       "       231.61334653, 163.35726562, 160.64716435, 164.37765919,\n",
       "       254.51873453, 254.62729539, 200.47316451, 185.14295451,\n",
       "        60.08369427, 200.85524825, 108.87625578, 143.36981529,\n",
       "       128.32486751, 175.35457459, 210.55490963, 165.22427363,\n",
       "       161.79816651, 137.0856577 , 173.82224504,  74.91906646,\n",
       "       253.95371552, 113.90067393, 109.77297524, 137.33085478,\n",
       "       110.49759527,  97.25697617, 159.26143257,  75.30981169,\n",
       "       258.58231308,  58.36486635, 100.02606938, 102.77880435,\n",
       "       268.48641391, 168.97487081,  65.38198998, 183.11087173,\n",
       "       171.23843967, 187.11698446, 183.26703537,  90.37211222,\n",
       "       147.07960251, 252.78454669, 197.65498095, 278.00768364,\n",
       "        52.21933948, 174.95631999, 202.35130825, 170.31365556,\n",
       "       157.37468888, 152.92011903, 231.18250209, 123.37226741,\n",
       "       163.58033524, 172.21370366, 224.66157024, 152.71560403,\n",
       "        99.89644877,  84.76090522, 141.9218661 , 189.63595929,\n",
       "       196.43974248, 148.98125165, 170.52790181, 113.35785816,\n",
       "       161.44853654, 130.76852519, 257.61461399, 101.06553157,\n",
       "       116.66728953, 120.10642605, 220.48082489,  61.87657594,\n",
       "       133.083188  , 120.83717591,  54.9182899 , 190.19578427,\n",
       "       103.36320459, 121.58308685, 210.71143359,  53.19842836])"
      ]
     },
     "execution_count": 31,
     "metadata": {},
     "output_type": "execute_result"
    }
   ],
   "source": [
    "# Apply the beta coefficients to the validation data.\n",
    "predicted_validation_y = numpy.dot(validation_x, beta)\n",
    "predicted_validation_y"
   ]
  },
  {
   "cell_type": "code",
   "execution_count": 32,
   "metadata": {},
   "outputs": [
    {
     "data": {
      "text/plain": [
       "array([  -6.73713513,  -16.3519183 ,   17.32669969,  -62.13303685,\n",
       "         77.7386269 ,  -72.80131482,  -37.65414427,   21.52623991,\n",
       "         33.77552729,  138.40557706,   85.20344723,   61.2457157 ,\n",
       "         89.38665347, -105.35726562,  101.35283565,   41.62234081,\n",
       "        -21.51873453,  -12.62729539,  -77.47316451,  -18.14295451,\n",
       "          2.91630573,   -3.85524825,  -37.87625578,   24.63018471,\n",
       "         11.67513249,   41.64542541,  -89.55490963,   69.77572637,\n",
       "         83.20183349,  -97.0856577 , -121.82224504,   29.08093354,\n",
       "       -121.95371552,  -25.90067393,  -40.77297524,   81.66914522,\n",
       "        -38.49759527,  103.74302383,  -49.26143257,  -24.30981169,\n",
       "         18.41768692,    4.63513365,   17.97393062,  -33.77880435,\n",
       "          4.51358609,   89.02512919,  -22.38198998,   14.88912827,\n",
       "         70.76156033,   44.88301554,   -8.26703537,    2.62788778,\n",
       "         20.92039749,   22.21545331,   95.34501905,    2.99231636,\n",
       "         19.78066052,  -34.95631999,  -13.35130825,   10.68634444,\n",
       "         51.62531112,  -16.92011903,   29.81749791,  -10.37226741,\n",
       "        -32.58033524,    1.78629634,   32.33842976,  -97.71560403,\n",
       "        -15.89644877,  -42.76090522,    4.0781339 ,   22.36404071,\n",
       "         36.56025752,  -57.98125165,  -59.52790181,   38.64214184,\n",
       "        -41.44853654,  -63.76852519,   52.38538601,   -7.06553157,\n",
       "         66.33271047,  -54.10642605,  -47.48082489,   10.12342406,\n",
       "        -84.083188  ,  -56.83717591,   -6.9182899 ,  -12.19578427,\n",
       "          0.63679541,   10.41691315,    9.28856641,    3.80157164])"
      ]
     },
     "execution_count": 32,
     "metadata": {},
     "output_type": "execute_result"
    }
   ],
   "source": [
    "# Retrieve the validation errors.\n",
    "validation_errors = validation_y - predicted_validation_y\n",
    "validation_errors"
   ]
  },
  {
   "cell_type": "markdown",
   "metadata": {},
   "source": [
    "## Compute SSE and MSE of Test Data."
   ]
  },
  {
   "cell_type": "code",
   "execution_count": 33,
   "metadata": {},
   "outputs": [
    {
     "data": {
      "text/plain": [
       "261487.53785218732"
      ]
     },
     "execution_count": 33,
     "metadata": {},
     "output_type": "execute_result"
    }
   ],
   "source": [
    "# Add up the squares of each error.\n",
    "SSE_validation = numpy.dot(validation_errors, validation_errors)\n",
    "SSE_validation"
   ]
  },
  {
   "cell_type": "code",
   "execution_count": 34,
   "metadata": {},
   "outputs": [
    {
     "name": "stdout",
     "output_type": "stream",
     "text": [
      "n =  92  p =  11\n"
     ]
    }
   ],
   "source": [
    "# Retrieve the number of points and the degrees of freedom.\n",
    "n = len(validation_y)\n",
    "p = len(validation_x[0])\n",
    "print(\"n = \", n, \" p = \", p)"
   ]
  },
  {
   "cell_type": "code",
   "execution_count": 35,
   "metadata": {},
   "outputs": [
    {
     "data": {
      "text/plain": [
       "3228.241208051695"
      ]
     },
     "execution_count": 35,
     "metadata": {},
     "output_type": "execute_result"
    }
   ],
   "source": [
    "MSE = SSE_validation / (n - p)\n",
    "MSE"
   ]
  },
  {
   "cell_type": "markdown",
   "metadata": {},
   "source": [
    "## Use Stats Model Package for Model."
   ]
  },
  {
   "cell_type": "code",
   "execution_count": 36,
   "metadata": {},
   "outputs": [
    {
     "name": "stdout",
     "output_type": "stream",
     "text": [
      "                            OLS Regression Results                            \n",
      "==============================================================================\n",
      "Dep. Variable:                      y   R-squared:                       0.504\n",
      "Model:                            OLS   Adj. R-squared:                  0.490\n",
      "Method:                 Least Squares   F-statistic:                     34.48\n",
      "Date:                Thu, 03 Mar 2022   Prob (F-statistic):           5.38e-46\n",
      "Time:                        15:17:13   Log-Likelihood:                -1890.2\n",
      "No. Observations:                 350   AIC:                             3802.\n",
      "Df Residuals:                     339   BIC:                             3845.\n",
      "Df Model:                          10                                         \n",
      "Covariance Type:            nonrobust                                         \n",
      "==============================================================================\n",
      "                 coef    std err          t      P>|t|      [0.025      0.975]\n",
      "------------------------------------------------------------------------------\n",
      "const        152.0799      2.917     52.137      0.000     146.342     157.817\n",
      "x1           -10.8264     66.510     -0.163      0.871    -141.650     119.998\n",
      "x2          -249.4843     70.249     -3.551      0.000    -387.663    -111.305\n",
      "x3           514.4086     78.108      6.586      0.000     360.771     668.046\n",
      "x4           295.2296     73.431      4.021      0.000     150.793     439.667\n",
      "x5          -456.8310    500.696     -0.912      0.362   -1441.694     528.032\n",
      "x6           201.7233    406.791      0.496      0.620    -598.430    1001.876\n",
      "x7           -48.3452    252.986     -0.191      0.849    -545.965     449.274\n",
      "x8           138.2997    180.133      0.768      0.443    -216.019     492.618\n",
      "x9           631.9747    198.369      3.186      0.002     241.785    1022.164\n",
      "x10           87.8969     77.226      1.138      0.256     -64.005     239.799\n",
      "==============================================================================\n",
      "Omnibus:                        1.679   Durbin-Watson:                   1.997\n",
      "Prob(Omnibus):                  0.432   Jarque-Bera (JB):                1.513\n",
      "Skew:                           0.034   Prob(JB):                        0.469\n",
      "Kurtosis:                       2.685   Cond. No.                         241.\n",
      "==============================================================================\n",
      "\n",
      "Notes:\n",
      "[1] Standard Errors assume that the covariance matrix of the errors is correctly specified.\n"
     ]
    }
   ],
   "source": [
    "# Linear regression fit on training data.\n",
    "model_auto = statsmodels.OLS(training_y, training_x)\n",
    "results_auto = model_auto.fit()\n",
    "print(results_auto.summary())"
   ]
  },
  {
   "cell_type": "markdown",
   "metadata": {},
   "source": [
    "## Q: Which variables are statistically significant at the 5% level?\n",
    "\n",
    "A: Statistically Significant Variables at 5% Level:\n",
    "\n",
    "const, x2, x3, x4, x9"
   ]
  },
  {
   "cell_type": "markdown",
   "metadata": {},
   "source": [
    "## Q: What is the value of R^2? How is that interpreted?\n",
    "\n",
    "A: R^2 = 0.504.\n",
    "\n",
    "This implies that 50.4% of the variability in the model is explained by the regression."
   ]
  }
 ],
 "metadata": {
  "kernelspec": {
   "display_name": "Python 3 (ipykernel)",
   "language": "python",
   "name": "python3"
  },
  "language_info": {
   "codemirror_mode": {
    "name": "ipython",
    "version": 3
   },
   "file_extension": ".py",
   "mimetype": "text/x-python",
   "name": "python",
   "nbconvert_exporter": "python",
   "pygments_lexer": "ipython3",
   "version": "3.9.7"
  }
 },
 "nbformat": 4,
 "nbformat_minor": 4
}
