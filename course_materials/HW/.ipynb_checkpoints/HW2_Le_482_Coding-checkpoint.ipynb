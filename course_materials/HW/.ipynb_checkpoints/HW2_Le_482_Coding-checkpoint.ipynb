{
 "cells": [
  {
   "cell_type": "markdown",
   "metadata": {},
   "source": [
    "# General\n",
    "\n",
    "- Include the notebook AND a pdf of the notebook as part of your homework. \n",
    "- label this as HW2\\Ryslik_1_Coding.pdf"
   ]
  },
  {
   "cell_type": "markdown",
   "metadata": {},
   "source": [
    "# Part 1 - PCA\n",
    "\n",
    "- Load the IRIS data set on flowers (we do that for you).\n",
    "- Write a function that takes in a matrix and provides you the eigenvalues and eigenvectors (using numpy).\n",
    "- Project your centered data into two dimensional space and plot the projected points. Color code the points by flower type. \n",
    "- Show that you get the same eigenvalues/eigenvectors/projection if you use scikit's PCA or you manually do the projection via numpy (you can use numpy to compute the eigenvectors and eigenvalues)\n",
    "- Can you make a good rule of what type of flower it is by just using the first two principle components? Describe how?\n",
    "- What percentage of the total data variance do the first two principle components capture."
   ]
  },
  {
   "cell_type": "markdown",
   "metadata": {},
   "source": [
    "## Loading the data.\n",
    "\n",
    "We have 150 points, each being 4-dimensional.\n",
    "So, our raw data matrix should be 4x150."
   ]
  },
  {
   "cell_type": "code",
   "execution_count": 2,
   "metadata": {},
   "outputs": [
    {
     "data": {
      "text/plain": [
       "(150, 4)"
      ]
     },
     "execution_count": 2,
     "metadata": {},
     "output_type": "execute_result"
    }
   ],
   "source": [
    "# Data prep.\n",
    "import numpy\n",
    "from matplotlib import pyplot\n",
    "from sklearn import preprocessing\n",
    "from sklearn.datasets import load_iris\n",
    "\n",
    "numpy.set_printoptions(suppress = True)\n",
    "\n",
    "# Load the data in.\n",
    "iris = load_iris() #see the documentation here: https://scikit-learn.org/stable/auto_examples/datasets/plot_iris_dataset.html\n",
    "iris.data.shape"
   ]
  },
  {
   "cell_type": "code",
   "execution_count": 3,
   "metadata": {},
   "outputs": [
    {
     "data": {
      "text/plain": [
       "(4, 150)"
      ]
     },
     "execution_count": 3,
     "metadata": {},
     "output_type": "execute_result"
    }
   ],
   "source": [
    "# We load in 150, 4-dimensional points, into raw_data.\n",
    "# Each point is a column in the raw_data matrix.\n",
    "raw_data = iris.data.T\n",
    "raw_data.shape"
   ]
  },
  {
   "cell_type": "code",
   "execution_count": 4,
   "metadata": {},
   "outputs": [
    {
     "data": {
      "text/plain": [
       "numpy.ndarray"
      ]
     },
     "execution_count": 4,
     "metadata": {},
     "output_type": "execute_result"
    }
   ],
   "source": [
    "type(raw_data)"
   ]
  },
  {
   "cell_type": "code",
   "execution_count": 43,
   "metadata": {},
   "outputs": [],
   "source": [
    "# print(\"Raw Data: \\n\", raw_data)"
   ]
  },
  {
   "cell_type": "markdown",
   "metadata": {},
   "source": [
    "## Calculating the Covariance Matrix.\n",
    "\n",
    "The covariance matrix should be 4x4, because there are 4 dimensions.\n",
    "We can use numpy, or we can do it ourselves using centering around the mean, followed by matrix multiplication."
   ]
  },
  {
   "cell_type": "code",
   "execution_count": 20,
   "metadata": {},
   "outputs": [
    {
     "data": {
      "text/plain": [
       "array([[ 0.68112222, -0.04215111,  1.26582   ,  0.51282889],\n",
       "       [-0.04215111,  0.18871289, -0.32745867, -0.12082844],\n",
       "       [ 1.26582   , -0.32745867,  3.09550267,  1.286972  ],\n",
       "       [ 0.51282889, -0.12082844,  1.286972  ,  0.57713289]])"
      ]
     },
     "execution_count": 20,
     "metadata": {},
     "output_type": "execute_result"
    }
   ],
   "source": [
    "# Calculate the covariance matrix of the raw data.\n",
    "cov_matrix = numpy.cov(raw_data, rowvar=True, bias=True)\n",
    "\n",
    "# Sanity check: Notice how the matrix is symmetric.\n",
    "cov_matrix"
   ]
  },
  {
   "cell_type": "code",
   "execution_count": 21,
   "metadata": {},
   "outputs": [
    {
     "data": {
      "text/plain": [
       "array([[5.84333333],\n",
       "       [3.05733333],\n",
       "       [3.758     ],\n",
       "       [1.19933333]])"
      ]
     },
     "execution_count": 21,
     "metadata": {},
     "output_type": "execute_result"
    }
   ],
   "source": [
    "# Manually calculating the covariance matrix.\n",
    "means = raw_data.mean(axis = 1).reshape(-1, 1)\n",
    "means"
   ]
  },
  {
   "cell_type": "code",
   "execution_count": 22,
   "metadata": {},
   "outputs": [
    {
     "data": {
      "text/plain": [
       "array([[ 0.68112222, -0.04215111,  1.26582   ,  0.51282889],\n",
       "       [-0.04215111,  0.18871289, -0.32745867, -0.12082844],\n",
       "       [ 1.26582   , -0.32745867,  3.09550267,  1.286972  ],\n",
       "       [ 0.51282889, -0.12082844,  1.286972  ,  0.57713289]])"
      ]
     },
     "execution_count": 22,
     "metadata": {},
     "output_type": "execute_result"
    }
   ],
   "source": [
    "centered_data = raw_data - means\n",
    "numpy.dot(centered_data, centered_data.T) / 150"
   ]
  },
  {
   "cell_type": "markdown",
   "metadata": {},
   "source": [
    "## Normalize the Data."
   ]
  },
  {
   "cell_type": "code",
   "execution_count": 23,
   "metadata": {},
   "outputs": [
    {
     "name": "stdout",
     "output_type": "stream",
     "text": [
      "Means:  [5.84333333 3.05733333 3.758      1.19933333]\n",
      "Scale:  [0.82530129 0.43441097 1.75940407 0.75969263]\n"
     ]
    }
   ],
   "source": [
    "# Calculate the factors to normalize the raw data.\n",
    "scaler = preprocessing.StandardScaler().fit(raw_data.T)\n",
    "print(\"Means: \", scaler.mean_)\n",
    "print(\"Scale: \", scaler.scale_)"
   ]
  },
  {
   "cell_type": "code",
   "execution_count": 37,
   "metadata": {},
   "outputs": [
    {
     "data": {
      "text/plain": [
       "(150, 4)"
      ]
     },
     "execution_count": 37,
     "metadata": {},
     "output_type": "execute_result"
    }
   ],
   "source": [
    "# Normalize the raw data.\n",
    "normalized_data = scaler.transform(raw_data.T)\n",
    "normalized_data.shape\n",
    "# print(\"Normalized Data: \\n\", normalized_data)"
   ]
  },
  {
   "cell_type": "code",
   "execution_count": 33,
   "metadata": {},
   "outputs": [
    {
     "data": {
      "text/plain": [
       "array([[ 1.        , -0.11756978,  0.87175378,  0.81794113],\n",
       "       [-0.11756978,  1.        , -0.4284401 , -0.36612593],\n",
       "       [ 0.87175378, -0.4284401 ,  1.        ,  0.96286543],\n",
       "       [ 0.81794113, -0.36612593,  0.96286543,  1.        ]])"
      ]
     },
     "execution_count": 33,
     "metadata": {},
     "output_type": "execute_result"
    }
   ],
   "source": [
    "# Sanity check: Notice how the covariance matrix of the normalized data is the correlation matrix.\n",
    "numpy.cov(normalized_data.T, bias = True)"
   ]
  },
  {
   "cell_type": "markdown",
   "metadata": {},
   "source": [
    "## Center the Data for the Next Step."
   ]
  },
  {
   "cell_type": "code",
   "execution_count": 47,
   "metadata": {},
   "outputs": [
    {
     "data": {
      "text/plain": [
       "(4, 150)"
      ]
     },
     "execution_count": 47,
     "metadata": {},
     "output_type": "execute_result"
    }
   ],
   "source": [
    "# Subtract the means from the raw data.\n",
    "centered_data = raw_data - scaler.mean_[:,None]\n",
    "centered_data.shape\n",
    "# print(\"Centered Data: \\n\", centered_data)"
   ]
  },
  {
   "cell_type": "markdown",
   "metadata": {},
   "source": [
    "## Calculate the Eigenvectors and Values of the Covariance Matrix."
   ]
  },
  {
   "cell_type": "code",
   "execution_count": 51,
   "metadata": {},
   "outputs": [
    {
     "name": "stdout",
     "output_type": "stream",
     "text": [
      "Unsorted Eigenvalues: \n",
      " [4.20005343 0.24105294 0.0776881  0.02367619]\n",
      "Unsorted Eigenvectors: \n",
      " [[ 0.36138659 -0.65658877 -0.58202985  0.31548719]\n",
      " [-0.08452251 -0.73016143  0.59791083 -0.3197231 ]\n",
      " [ 0.85667061  0.17337266  0.07623608 -0.47983899]\n",
      " [ 0.3582892   0.07548102  0.54583143  0.75365743]]\n"
     ]
    }
   ],
   "source": [
    "# Get the eigenvectors/values from the covariance matrix.\n",
    "eigen_values, eigen_vectors = numpy.linalg.eig(cov_matrix)\n",
    "print(\"Unsorted Eigenvalues: \\n\", eigen_values)\n",
    "print(\"Unsorted Eigenvectors: \\n\", eigen_vectors)"
   ]
  },
  {
   "cell_type": "code",
   "execution_count": 52,
   "metadata": {},
   "outputs": [],
   "source": [
    "# Sort eigenvectors/values by size\n",
    "idx = eigen_values.argsort()[::-1]    \n",
    "eigen_values = eigen_values[idx]\n",
    "eigen_vectors = eigen_vectors[:,idx]"
   ]
  },
  {
   "cell_type": "code",
   "execution_count": 53,
   "metadata": {},
   "outputs": [
    {
     "name": "stdout",
     "output_type": "stream",
     "text": [
      "Eigenvector: \n",
      " [[ 0.36138659 -0.65658877 -0.58202985  0.31548719]\n",
      " [-0.08452251 -0.73016143  0.59791083 -0.3197231 ]\n",
      " [ 0.85667061  0.17337266  0.07623608 -0.47983899]\n",
      " [ 0.3582892   0.07548102  0.54583143  0.75365743]] \n",
      "\n",
      "Eigenvalues: \n",
      " [4.20005343 0.24105294 0.0776881  0.02367619] \n",
      "\n"
     ]
    }
   ],
   "source": [
    "print(\"Eigenvector: \\n\",eigen_vectors)\n",
    "print(\"Eigenvalues: \\n\", eigen_values)"
   ]
  },
  {
   "cell_type": "markdown",
   "metadata": {},
   "source": [
    "## Pull the Feature Vector out of the Eigenvector Matrix.\n",
    "\n",
    "We want the first 2 principal components, throwing away the rest."
   ]
  },
  {
   "cell_type": "code",
   "execution_count": 75,
   "metadata": {},
   "outputs": [
    {
     "data": {
      "text/plain": [
       "(2, 4)"
      ]
     },
     "execution_count": 75,
     "metadata": {},
     "output_type": "execute_result"
    }
   ],
   "source": [
    "# Retrieve the first 2 eigenvectors.\n",
    "feature_vector = eigen_vectors[:,:2].T\n",
    "feature_vector.shape"
   ]
  },
  {
   "cell_type": "markdown",
   "metadata": {},
   "source": [
    "## Project the Raw Data Along the Principal Component Axes."
   ]
  },
  {
   "cell_type": "code",
   "execution_count": 84,
   "metadata": {},
   "outputs": [
    {
     "data": {
      "text/plain": [
       "(2, 150)"
      ]
     },
     "execution_count": 84,
     "metadata": {},
     "output_type": "execute_result"
    }
   ],
   "source": [
    "# Project the centered data along the 2 eigenvectors.\n",
    "projected_data = numpy.dot(feature_vector, centered_data)\n",
    "projected_data.shape\n",
    "# print(\"Projected Data: \\n\", projected_data)"
   ]
  },
  {
   "cell_type": "markdown",
   "metadata": {},
   "source": [
    "## Plot the Projected Data Along 2 Axes."
   ]
  },
  {
   "cell_type": "code",
   "execution_count": 103,
   "metadata": {},
   "outputs": [
    {
     "data": {
      "text/plain": [
       "<matplotlib.collections.PathCollection at 0x1f828e38610>"
      ]
     },
     "execution_count": 103,
     "metadata": {},
     "output_type": "execute_result"
    },
    {
     "data": {
      "image/png": "[encoded data removed]",
      "text/plain": [
       "<Figure size 432x288 with 1 Axes>"
      ]
     },
     "metadata": {
      "needs_background": "light"
     },
     "output_type": "display_data"
    }
   ],
   "source": [
    "# Plot the projected data in separately colored sets of 50 points.\n",
    "pyplot.scatter(x = projected_data[0, :50], \n",
    "               y = projected_data[1, :50])\n",
    "\n",
    "pyplot.scatter(x = projected_data[0, 50:100],\n",
    "               y = projected_data[1, 50:100],\n",
    "               color=\"red\")\n",
    "\n",
    "pyplot.scatter(x = projected_data[0, 100:150],\n",
    "               y = projected_data[1, 100:150],\n",
    "               color=\"green\")"
   ]
  },
  {
   "cell_type": "markdown",
   "metadata": {},
   "source": [
    "## Automatic PCA"
   ]
  },
  {
   "cell_type": "code",
   "execution_count": 91,
   "metadata": {},
   "outputs": [
    {
     "data": {
      "text/plain": [
       "(2, 150)"
      ]
     },
     "execution_count": 91,
     "metadata": {},
     "output_type": "execute_result"
    }
   ],
   "source": [
    "from sklearn.decomposition import PCA\n",
    "\n",
    "# Perform automatic PCA on the raw data using the sklearn package.\n",
    "pca = PCA(n_components = 2)\n",
    "projected_data_auto = pca.fit_transform(raw_data.T).T\n",
    "projected_data_auto.shape"
   ]
  },
  {
   "cell_type": "code",
   "execution_count": 104,
   "metadata": {},
   "outputs": [
    {
     "data": {
      "text/plain": [
       "<matplotlib.collections.PathCollection at 0x1f828ea1d90>"
      ]
     },
     "execution_count": 104,
     "metadata": {},
     "output_type": "execute_result"
    },
    {
     "data": {
      "image/png": "[encoded data removed]",
      "text/plain": [
       "<Figure size 432x288 with 1 Axes>"
      ]
     },
     "metadata": {
      "needs_background": "light"
     },
     "output_type": "display_data"
    }
   ],
   "source": [
    "# Plot the projected data in separately colored sets of 50 points.\n",
    "pyplot.scatter(x = projected_data_auto[0, :50],\n",
    "               y = projected_data_auto[1, :50])\n",
    "\n",
    "pyplot.scatter(x = projected_data_auto[0, 50:100],\n",
    "               y = projected_data_auto[1, 50:100],\n",
    "               color=\"red\")\n",
    "\n",
    "pyplot.scatter(x = projected_data_auto[0, 100:150],\n",
    "               y = projected_data_auto[1, 100:150],\n",
    "               color=\"green\")"
   ]
  },
  {
   "cell_type": "markdown",
   "metadata": {},
   "source": [
    "# Part 2 - Linear Regression\n",
    "\n",
    "- Load the Diabetes dataset (we do that for you)\n",
    "- Break the data set up into the first 350 observations for training and the remaining observations for test.\n",
    "- Write a function that takes in a feature matrix and a y-vector and fits the line of best fit using least squares regression. \n",
    "- Fit the line of best fit on the training data. \n",
    "- Make a prediction on the test data. \n",
    "- Compute the total Sum of Squared Error (SSE) and then compute the MSE on the test data.\n",
    "- Fit the linear regression model using the stats models package as in class.\n",
    "- Which variables are statistically significant at the 5% level? \n",
    "- What is the value of R^2? How is that interpreted?"
   ]
  },
  {
   "cell_type": "code",
   "execution_count": 19,
   "metadata": {},
   "outputs": [],
   "source": [
    "from sklearn.datasets import load_diabetes\n",
    "import statsmodels.api as statsmodels\n",
    "\n",
    "# Load the diabeties dataset. Each observation is a row.\n",
    "diabetes = load_diabetes()"
   ]
  },
  {
   "cell_type": "code",
   "execution_count": 20,
   "metadata": {},
   "outputs": [
    {
     "data": {
      "text/plain": [
       "['age', 'sex', 'bmi', 'bp', 's1', 's2', 's3', 's4', 's5', 's6']"
      ]
     },
     "execution_count": 20,
     "metadata": {},
     "output_type": "execute_result"
    }
   ],
   "source": [
    "diabetes.feature_names"
   ]
  },
  {
   "cell_type": "markdown",
   "metadata": {},
   "source": [
    "## Extract Training and Validation Observations."
   ]
  },
  {
   "cell_type": "code",
   "execution_count": 23,
   "metadata": {},
   "outputs": [
    {
     "data": {
      "text/plain": [
       "(350, 11)"
      ]
     },
     "execution_count": 23,
     "metadata": {},
     "output_type": "execute_result"
    }
   ],
   "source": [
    "# Extract the first 350 points for training, and the rest for validation.\n",
    "training_x = diabetes.data[:350, :]\n",
    "\n",
    "# Remember to add a 1s column for constants!\n",
    "training_x = statsmodels.add_constant(training_x)\n",
    "\n",
    "training_x.shape"
   ]
  },
  {
   "cell_type": "code",
   "execution_count": 37,
   "metadata": {},
   "outputs": [
    {
     "data": {
      "text/plain": [
       "(350,)"
      ]
     },
     "execution_count": 37,
     "metadata": {},
     "output_type": "execute_result"
    }
   ],
   "source": [
    "training_y = diabetes['target'][:350]\n",
    "training_y.shape"
   ]
  },
  {
   "cell_type": "code",
   "execution_count": 27,
   "metadata": {},
   "outputs": [
    {
     "data": {
      "text/plain": [
       "(92, 11)"
      ]
     },
     "execution_count": 27,
     "metadata": {},
     "output_type": "execute_result"
    }
   ],
   "source": [
    "validation_x = diabetes.data[350:, :]\n",
    "validation_x = statsmodels.add_constant(validation_x)\n",
    "validation_x.shape"
   ]
  },
  {
   "cell_type": "code",
   "execution_count": 78,
   "metadata": {},
   "outputs": [
    {
     "data": {
      "text/plain": [
       "(92,)"
      ]
     },
     "execution_count": 78,
     "metadata": {},
     "output_type": "execute_result"
    }
   ],
   "source": [
    "validation_y = diabetes['target'][350:]\n",
    "validation_y.shape"
   ]
  },
  {
   "cell_type": "markdown",
   "metadata": {},
   "source": [
    "## Write Function for Fitting Line of Best Fit."
   ]
  },
  {
   "cell_type": "code",
   "execution_count": 44,
   "metadata": {},
   "outputs": [],
   "source": [
    "def getBetaCoefficients(X, Y):\n",
    "    return numpy.dot(numpy.dot(numpy.linalg.inv(numpy.dot(X.T, X)), X.T), Y)"
   ]
  },
  {
   "cell_type": "markdown",
   "metadata": {},
   "source": [
    "## Fit the Line of Best Fit."
   ]
  },
  {
   "cell_type": "code",
   "execution_count": 45,
   "metadata": {},
   "outputs": [
    {
     "data": {
      "text/plain": [
       "array([ 152.07985511,  -10.82642893, -249.48428541,  514.40863256,\n",
       "        295.22963645, -456.83095843,  201.72327107,  -48.34518664,\n",
       "        138.29973577,  631.97471559,   87.89687854])"
      ]
     },
     "execution_count": 45,
     "metadata": {},
     "output_type": "execute_result"
    }
   ],
   "source": [
    "# Calculate ideal beta coefficients for each feature.\n",
    "beta = getBetaCoefficients(training_x, training_y)\n",
    "beta"
   ]
  },
  {
   "cell_type": "code",
   "execution_count": 48,
   "metadata": {},
   "outputs": [
    {
     "data": {
      "text/plain": [
       "(350,)"
      ]
     },
     "execution_count": 48,
     "metadata": {},
     "output_type": "execute_result"
    }
   ],
   "source": [
    "# Recall: The prediction vector is the dot product of the data matrix with the coefficient vector.\n",
    "predicted_training_y = numpy.dot(training_x, beta)\n",
    "predicted_training_y.shape"
   ]
  },
  {
   "cell_type": "code",
   "execution_count": 87,
   "metadata": {},
   "outputs": [
    {
     "data": {
      "text/plain": [
       "(350,)"
      ]
     },
     "execution_count": 87,
     "metadata": {},
     "output_type": "execute_result"
    }
   ],
   "source": [
    "# Retrieve the errors for each point.\n",
    "training_errors = training_y - predicted_training_y\n",
    "training_errors.shape"
   ]
  },
  {
   "cell_type": "markdown",
   "metadata": {},
   "source": [
    "## Make a Prediction on Test Data."
   ]
  },
  {
   "cell_type": "code",
   "execution_count": 54,
   "metadata": {},
   "outputs": [
    {
     "data": {
      "text/plain": [
       "(92,)"
      ]
     },
     "execution_count": 54,
     "metadata": {},
     "output_type": "execute_result"
    }
   ],
   "source": [
    "# Apply the beta coefficients to the validation data.\n",
    "predicted_validation_y = numpy.dot(validation_x, beta)\n",
    "predicted_validation_y.shape"
   ]
  },
  {
   "cell_type": "code",
   "execution_count": 63,
   "metadata": {},
   "outputs": [
    {
     "data": {
      "text/plain": [
       "(92,)"
      ]
     },
     "execution_count": 63,
     "metadata": {},
     "output_type": "execute_result"
    }
   ],
   "source": [
    "# Retrieve the validation errors.\n",
    "validation_errors = validation_y - predicted_validation_y\n",
    "validation_errors.shape"
   ]
  },
  {
   "cell_type": "markdown",
   "metadata": {},
   "source": [
    "## Compute SSE and MSE of Test Data."
   ]
  },
  {
   "cell_type": "code",
   "execution_count": 97,
   "metadata": {},
   "outputs": [
    {
     "data": {
      "text/plain": [
       "261487.53785218732"
      ]
     },
     "execution_count": 97,
     "metadata": {},
     "output_type": "execute_result"
    }
   ],
   "source": [
    "# Add up the squares of each error.\n",
    "SSE_validation = numpy.dot(validation_errors, validation_errors)\n",
    "SSE_validation"
   ]
  },
  {
   "cell_type": "code",
   "execution_count": 106,
   "metadata": {},
   "outputs": [
    {
     "name": "stdout",
     "output_type": "stream",
     "text": [
      "n =  92  p =  11\n"
     ]
    }
   ],
   "source": [
    "# Retrieve the number of points and the degrees of freedom.\n",
    "n = len(validation_y)\n",
    "p = len(validation_x[0])\n",
    "print(\"n = \", n, \" p = \", p)"
   ]
  },
  {
   "cell_type": "code",
   "execution_count": 107,
   "metadata": {},
   "outputs": [
    {
     "data": {
      "text/plain": [
       "3228.241208051695"
      ]
     },
     "execution_count": 107,
     "metadata": {},
     "output_type": "execute_result"
    }
   ],
   "source": [
    "MSE = SSE_validation / (n - p)\n",
    "MSE"
   ]
  },
  {
   "cell_type": "markdown",
   "metadata": {},
   "source": [
    "## Use Stats Model Package for Model."
   ]
  },
  {
   "cell_type": "code",
   "execution_count": 108,
   "metadata": {},
   "outputs": [
    {
     "name": "stdout",
     "output_type": "stream",
     "text": [
      "                            OLS Regression Results                            \n",
      "==============================================================================\n",
      "Dep. Variable:                      y   R-squared:                       0.504\n",
      "Model:                            OLS   Adj. R-squared:                  0.490\n",
      "Method:                 Least Squares   F-statistic:                     34.48\n",
      "Date:                Sun, 27 Feb 2022   Prob (F-statistic):           5.38e-46\n",
      "Time:                        21:40:34   Log-Likelihood:                -1890.2\n",
      "No. Observations:                 350   AIC:                             3802.\n",
      "Df Residuals:                     339   BIC:                             3845.\n",
      "Df Model:                          10                                         \n",
      "Covariance Type:            nonrobust                                         \n",
      "==============================================================================\n",
      "                 coef    std err          t      P>|t|      [0.025      0.975]\n",
      "------------------------------------------------------------------------------\n",
      "const        152.0799      2.917     52.137      0.000     146.342     157.817\n",
      "x1           -10.8264     66.510     -0.163      0.871    -141.650     119.998\n",
      "x2          -249.4843     70.249     -3.551      0.000    -387.663    -111.305\n",
      "x3           514.4086     78.108      6.586      0.000     360.771     668.046\n",
      "x4           295.2296     73.431      4.021      0.000     150.793     439.667\n",
      "x5          -456.8310    500.696     -0.912      0.362   -1441.694     528.032\n",
      "x6           201.7233    406.791      0.496      0.620    -598.430    1001.876\n",
      "x7           -48.3452    252.986     -0.191      0.849    -545.965     449.274\n",
      "x8           138.2997    180.133      0.768      0.443    -216.019     492.618\n",
      "x9           631.9747    198.369      3.186      0.002     241.785    1022.164\n",
      "x10           87.8969     77.226      1.138      0.256     -64.005     239.799\n",
      "==============================================================================\n",
      "Omnibus:                        1.679   Durbin-Watson:                   1.997\n",
      "Prob(Omnibus):                  0.432   Jarque-Bera (JB):                1.513\n",
      "Skew:                           0.034   Prob(JB):                        0.469\n",
      "Kurtosis:                       2.685   Cond. No.                         241.\n",
      "==============================================================================\n",
      "\n",
      "Notes:\n",
      "[1] Standard Errors assume that the covariance matrix of the errors is correctly specified.\n"
     ]
    }
   ],
   "source": [
    "# Linear regression fit on training data.\n",
    "model_auto = statsmodels.OLS(training_y, training_x)\n",
    "results_auto = model_auto.fit()\n",
    "print(results_auto.summary())"
   ]
  },
  {
   "cell_type": "markdown",
   "metadata": {},
   "source": [
    "## Statistically Significant Variables at 5% Level:\n",
    "\n",
    "const, x2, x3, x4, x9"
   ]
  },
  {
   "cell_type": "markdown",
   "metadata": {},
   "source": [
    "## R^2 = 0.504.\n",
    "\n",
    "This implies that 50.4% of the variability in the model is explained by the regression."
   ]
  }
 ],
 "metadata": {
  "kernelspec": {
   "display_name": "Python 3 (ipykernel)",
   "language": "python",
   "name": "python3"
  },
  "language_info": {
   "codemirror_mode": {
    "name": "ipython",
    "version": 3
   },
   "file_extension": ".py",
   "mimetype": "text/x-python",
   "name": "python",
   "nbconvert_exporter": "python",
   "pygments_lexer": "ipython3",
   "version": "3.9.7"
  }
 },
 "nbformat": 4,
 "nbformat_minor": 4
}
