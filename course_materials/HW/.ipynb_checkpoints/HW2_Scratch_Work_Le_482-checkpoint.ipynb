{
 "cells": [
  {
   "cell_type": "markdown",
   "id": "8b1e924f",
   "metadata": {},
   "source": [
    "## HW 2, Problem 3.5 (PCA of 2D dataset)"
   ]
  },
  {
   "cell_type": "code",
   "execution_count": 1,
   "id": "413a0587",
   "metadata": {},
   "outputs": [],
   "source": [
    "import numpy\n",
    "from matplotlib import pyplot\n",
    "from sklearn import preprocessing"
   ]
  },
  {
   "cell_type": "code",
   "execution_count": 2,
   "id": "72fce4d0",
   "metadata": {},
   "outputs": [
    {
     "data": {
      "text/plain": [
       "(2, 4)"
      ]
     },
     "execution_count": 2,
     "metadata": {},
     "output_type": "execute_result"
    }
   ],
   "source": [
    "raw_data = numpy.array([[20, 8, -6, 6], [-5, 2, 3, -4]])\n",
    "raw_data.shape"
   ]
  },
  {
   "cell_type": "code",
   "execution_count": 3,
   "id": "9dc2d23e",
   "metadata": {},
   "outputs": [
    {
     "data": {
      "text/plain": [
       "array([[ 85. , -24.5],\n",
       "       [-24.5,  12.5]])"
      ]
     },
     "execution_count": 3,
     "metadata": {},
     "output_type": "execute_result"
    }
   ],
   "source": [
    "cov_matrix = numpy.cov(raw_data, rowvar=True, bias=True)\n",
    "cov_matrix"
   ]
  },
  {
   "cell_type": "code",
   "execution_count": 4,
   "id": "4910b012",
   "metadata": {},
   "outputs": [
    {
     "name": "stdout",
     "output_type": "stream",
     "text": [
      "Eigenvalues: \n",
      " [92.50285705  4.99714295]\n",
      "Eigenvectors: \n",
      " [[ 0.95616874  0.29281622]\n",
      " [-0.29281622  0.95616874]]\n"
     ]
    }
   ],
   "source": [
    "eigen_values, eigen_vectors = numpy.linalg.eig(cov_matrix)\n",
    "print(\"Eigenvalues: \\n\", eigen_values)\n",
    "print(\"Eigenvectors: \\n\", eigen_vectors)"
   ]
  },
  {
   "cell_type": "code",
   "execution_count": 5,
   "id": "46384f85",
   "metadata": {},
   "outputs": [
    {
     "data": {
      "text/plain": [
       "1.414213562373095"
      ]
     },
     "execution_count": 5,
     "metadata": {},
     "output_type": "execute_result"
    }
   ],
   "source": [
    "normalized_eigen_vectors = numpy.linalg.norm(eigen_vectors)\n",
    "normalized_eigen_vectors"
   ]
  },
  {
   "cell_type": "markdown",
   "id": "6e05b30b",
   "metadata": {},
   "source": [
    "## HW 2, Problem 5 (Gauss-Newton)"
   ]
  },
  {
   "cell_type": "code",
   "execution_count": 6,
   "id": "ee977d3b",
   "metadata": {},
   "outputs": [],
   "source": [
    "import numpy"
   ]
  },
  {
   "cell_type": "code",
   "execution_count": 7,
   "id": "a298ec0a",
   "metadata": {},
   "outputs": [],
   "source": [
    "def GN_algo_1(w):\n",
    "    J = numpy.array([2.0 * numpy.exp(2.0 * w)])\n",
    "    \n",
    "    deltaY = numpy.array([2.0 - numpy.exp(2.0 * w)])\n",
    "    \n",
    "    deltaW = numpy.dot(numpy.dot(numpy.reciprocal(numpy.dot(J.T, J)), J.T), deltaY)\n",
    "    newW = w + deltaW\n",
    "    return deltaW, newW"
   ]
  },
  {
   "cell_type": "code",
   "execution_count": 8,
   "id": "7e9c521d",
   "metadata": {},
   "outputs": [
    {
     "name": "stdout",
     "output_type": "stream",
     "text": [
      "1.049787068367864\n",
      "0.6722956574210088\n",
      "0.4329418657537508\n"
     ]
    }
   ],
   "source": [
    "currentW = 1.5\n",
    "\n",
    "for i in range(3):\n",
    "    deltaW, currentW = GN_algo_1(currentW)\n",
    "    print(currentW)"
   ]
  },
  {
   "cell_type": "code",
   "execution_count": 9,
   "id": "da91067c",
   "metadata": {},
   "outputs": [
    {
     "name": "stdout",
     "output_type": "stream",
     "text": [
      "0.5\n",
      "0.36787944117144233\n",
      "0.34702114995945765\n"
     ]
    }
   ],
   "source": [
    "currentW = 0.0\n",
    "\n",
    "for i in range(3):\n",
    "    deltaW, currentW = GN_algo_1(currentW)\n",
    "    print(currentW)"
   ]
  },
  {
   "cell_type": "code",
   "execution_count": 10,
   "id": "55fec852",
   "metadata": {},
   "outputs": [
    {
     "name": "stdout",
     "output_type": "stream",
     "text": [
      "5.8890560989306495\n",
      "5.389063769557657\n",
      "4.889084620163787\n"
     ]
    }
   ],
   "source": [
    "currentW = -1.0\n",
    "\n",
    "for i in range(3):\n",
    "    deltaW, currentW = GN_algo_1(currentW)\n",
    "    print(currentW)"
   ]
  },
  {
   "cell_type": "markdown",
   "id": "de73677d",
   "metadata": {},
   "source": [
    "## HW 2, Problem 6 (More Gauss-Newton)"
   ]
  },
  {
   "cell_type": "code",
   "execution_count": 11,
   "id": "82d99e64",
   "metadata": {},
   "outputs": [],
   "source": [
    "def GN_algo_2(w):\n",
    "    J = numpy.array([2.0])\n",
    "    \n",
    "    deltaY = numpy.array([2.0 - 2.0 * w])\n",
    "    \n",
    "    deltaW = numpy.dot(numpy.dot(numpy.reciprocal(numpy.dot(J.T, J)), J.T), deltaY)\n",
    "    newW = w + deltaW\n",
    "    return deltaW, newW"
   ]
  },
  {
   "cell_type": "code",
   "execution_count": 12,
   "id": "bb3f9705",
   "metadata": {},
   "outputs": [
    {
     "name": "stdout",
     "output_type": "stream",
     "text": [
      "1.0\n"
     ]
    }
   ],
   "source": [
    "currentW = 1.5\n",
    "\n",
    "for i in range(1):\n",
    "    deltaW, currentW = GN_algo_2(currentW)\n",
    "    print(currentW)"
   ]
  },
  {
   "cell_type": "code",
   "execution_count": 13,
   "id": "3a4cff72",
   "metadata": {},
   "outputs": [
    {
     "name": "stdout",
     "output_type": "stream",
     "text": [
      "1.0\n"
     ]
    }
   ],
   "source": [
    "currentW = 0.0\n",
    "\n",
    "for i in range(1):\n",
    "    deltaW, currentW = GN_algo_2(currentW)\n",
    "    print(currentW)"
   ]
  },
  {
   "cell_type": "markdown",
   "id": "2db24181",
   "metadata": {},
   "source": [
    "## HW 2, Problem 5 (Gradient Descent)\n",
    "\n",
    "f(x) = exp(w * x)\n",
    "\n",
    "(x, y) => (2, 2)"
   ]
  },
  {
   "cell_type": "code",
   "execution_count": 14,
   "id": "da678232",
   "metadata": {},
   "outputs": [],
   "source": [
    "def GD_algo_1(w, x, y, eta):\n",
    "    deltaY = numpy.exp(w * x) - y\n",
    "    J = x * numpy.exp(w * x)\n",
    "    gradientEw = numpy.dot(deltaY, J)\n",
    "    \n",
    "    return w - 2.0 * eta * gradientEw    "
   ]
  },
  {
   "cell_type": "code",
   "execution_count": 15,
   "id": "9174548e",
   "metadata": {},
   "outputs": [
    {
     "name": "stdout",
     "output_type": "stream",
     "text": [
      "-143.80308785854393\n",
      "-143.80308785854393\n",
      "-143.80308785854393\n"
     ]
    }
   ],
   "source": [
    "currentW = 1.5\n",
    "eta = 0.1\n",
    "x = 2.0\n",
    "y = 2.0\n",
    "\n",
    "for i in range(3):\n",
    "    currentW = GD_algo_1(currentW, x, y, eta)\n",
    "    print(currentW)"
   ]
  },
  {
   "cell_type": "code",
   "execution_count": 16,
   "id": "fa0868ae",
   "metadata": {},
   "outputs": [
    {
     "name": "stdout",
     "output_type": "stream",
     "text": [
      "0.4\n",
      "0.1992197730359279\n",
      "0.5033762254667419\n"
     ]
    }
   ],
   "source": [
    "currentW = 0.0\n",
    "eta = 0.1\n",
    "x = 2.0\n",
    "y = 2.0\n",
    "\n",
    "for i in range(3):\n",
    "    currentW = GD_algo_1(currentW, x, y, eta)\n",
    "    print(currentW)"
   ]
  },
  {
   "cell_type": "code",
   "execution_count": 17,
   "id": "b4dff196",
   "metadata": {},
   "outputs": [
    {
     "name": "stdout",
     "output_type": "stream",
     "text": [
      "0.046969121414560666\n",
      "0.05093031879389125\n",
      "0.05488432642729247\n"
     ]
    }
   ],
   "source": [
    "currentW = 1.5\n",
    "eta = 0.001\n",
    "x = 2.0\n",
    "y = 2.0\n",
    "\n",
    "for i in range(3):\n",
    "    currentW = GD_algo_1(currentW, x, y, eta)\n",
    "    print(currentW)"
   ]
  },
  {
   "cell_type": "markdown",
   "id": "83673579",
   "metadata": {},
   "source": [
    "## HW 2, Problem 6 (More Gradient Descent)\n",
    "\n",
    "f(x) = wx\n",
    "\n",
    "(x, y) => (2, 2)"
   ]
  },
  {
   "cell_type": "code",
   "execution_count": 18,
   "id": "2a0b5f15",
   "metadata": {},
   "outputs": [],
   "source": [
    "def GD_algo_2(w, x, y, eta):\n",
    "    deltaY = (w * x) - y\n",
    "    J = x\n",
    "    gradientEw = numpy.dot(deltaY, J)\n",
    "    \n",
    "    return w - 2.0 * eta * gradientEw"
   ]
  },
  {
   "cell_type": "code",
   "execution_count": 19,
   "id": "074d2a68",
   "metadata": {},
   "outputs": [
    {
     "name": "stdout",
     "output_type": "stream",
     "text": [
      "1.1\n",
      "1.02\n",
      "1.004\n"
     ]
    }
   ],
   "source": [
    "currentW = 1.5\n",
    "eta = 0.1\n",
    "x = 2.0\n",
    "y = 2.0\n",
    "\n",
    "for i in range(3):\n",
    "    currentW = GD_algo_2(currentW, x, y, eta)\n",
    "    print(currentW)"
   ]
  },
  {
   "cell_type": "code",
   "execution_count": 20,
   "id": "8affca93",
   "metadata": {},
   "outputs": [
    {
     "name": "stdout",
     "output_type": "stream",
     "text": [
      "0.8\n",
      "0.96\n",
      "0.992\n"
     ]
    }
   ],
   "source": [
    "currentW = 0.0\n",
    "eta = 0.1\n",
    "x = 2.0\n",
    "y = 2.0\n",
    "\n",
    "for i in range(3):\n",
    "    currentW = GD_algo_2(currentW, x, y, eta)\n",
    "    print(currentW)"
   ]
  },
  {
   "cell_type": "code",
   "execution_count": 21,
   "id": "00a3d9d3",
   "metadata": {},
   "outputs": [
    {
     "name": "stdout",
     "output_type": "stream",
     "text": [
      "-2.5\n",
      "25.5\n",
      "-170.5\n"
     ]
    }
   ],
   "source": [
    "currentW = 1.5\n",
    "eta = 1.0\n",
    "x = 2.0\n",
    "y = 2.0\n",
    "\n",
    "for i in range(3):\n",
    "    currentW = GD_algo_2(currentW, x, y, eta)\n",
    "    print(currentW)"
   ]
  }
 ],
 "metadata": {
  "kernelspec": {
   "display_name": "Python 3 (ipykernel)",
   "language": "python",
   "name": "python3"
  },
  "language_info": {
   "codemirror_mode": {
    "name": "ipython",
    "version": 3
   },
   "file_extension": ".py",
   "mimetype": "text/x-python",
   "name": "python",
   "nbconvert_exporter": "python",
   "pygments_lexer": "ipython3",
   "version": "3.9.7"
  }
 },
 "nbformat": 4,
 "nbformat_minor": 5
}
