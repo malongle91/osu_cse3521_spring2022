{
 "cells": [
  {
   "cell_type": "markdown",
   "id": "748f681d",
   "metadata": {},
   "source": [
    "# CSE 3521 HW 3 Coding\n",
    "\n",
    "## Name: Malong Le (.482)\n",
    "\n",
    "### The Problem\n",
    "\n",
    "We have a bunch of movie reviews, where each data point is a tuple consisting of comments on the movie (Phrase) and the numerical rating from 0 to 4 (Sentiment), which represents 1-5 stars.\n",
    "\n",
    "If we are given comments by a reviewer, how do we know what rating they're most likely to give.\n",
    "+ For example, if someone says \"Crap movie.\", then it's really likely they'll leave 1 star.\n",
    "+ If someone says \"This movie made me reconsider my life!\", then it's likely they'll leave 5 stars!\n",
    "\n",
    "### The Solution\n",
    "\n",
    "Let's make a Multinomial Naive Bayes model that predicts Sentiment (0-4) from the meaningful words ('crap', 'best', 'mediocre') captured in the Phrase.\n",
    "\n",
    "Some things to consider when improving the model:\n",
    "1. Which words in the phrasing are meaningful? Which ones can we discard? (Ex: 'the' and 'or').\n",
    "2. Some people are sincere and thoughtful with reviews, while others are snarky and blunt. How do we account for context issues?\n",
    "  + Negated sentences ('Not funny at all.')\n",
    "  + Sarcasm ('Absolutely brilliant acting.')\n",
    "  + Short reviews ('It's OK.')\n",
    "  + Word ambiguity ('I had a hard time sitting through it.' vs 'This movie makes you think hard!')\n",
    "\n",
    "We will cross-validate our model on 10 K-Folds and display the resulting accuracy scores from each fold."
   ]
  },
  {
   "cell_type": "markdown",
   "id": "3c98b446",
   "metadata": {},
   "source": [
    "## 1. Data Import.\n",
    "\n",
    "In my directory, the train.tsv data is located under a subdirectory, 'HW3Data'."
   ]
  },
  {
   "cell_type": "code",
   "execution_count": 1,
   "id": "a0c4ab90",
   "metadata": {},
   "outputs": [
    {
     "data": {
      "text/html": [
       "<div>\n",
       "<style scoped>\n",
       "    .dataframe tbody tr th:only-of-type {\n",
       "        vertical-align: middle;\n",
       "    }\n",
       "\n",
       "    .dataframe tbody tr th {\n",
       "        vertical-align: top;\n",
       "    }\n",
       "\n",
       "    .dataframe thead th {\n",
       "        text-align: right;\n",
       "    }\n",
       "</style>\n",
       "<table border=\"1\" class=\"dataframe\">\n",
       "  <thead>\n",
       "    <tr style=\"text-align: right;\">\n",
       "      <th></th>\n",
       "      <th>PhraseId</th>\n",
       "      <th>SentenceId</th>\n",
       "      <th>Phrase</th>\n",
       "      <th>Sentiment</th>\n",
       "    </tr>\n",
       "  </thead>\n",
       "  <tbody>\n",
       "    <tr>\n",
       "      <th>0</th>\n",
       "      <td>1</td>\n",
       "      <td>1</td>\n",
       "      <td>A series of escapades demonstrating the adage ...</td>\n",
       "      <td>1</td>\n",
       "    </tr>\n",
       "    <tr>\n",
       "      <th>1</th>\n",
       "      <td>2</td>\n",
       "      <td>1</td>\n",
       "      <td>A series of escapades demonstrating the adage ...</td>\n",
       "      <td>2</td>\n",
       "    </tr>\n",
       "    <tr>\n",
       "      <th>2</th>\n",
       "      <td>3</td>\n",
       "      <td>1</td>\n",
       "      <td>A series</td>\n",
       "      <td>2</td>\n",
       "    </tr>\n",
       "    <tr>\n",
       "      <th>3</th>\n",
       "      <td>4</td>\n",
       "      <td>1</td>\n",
       "      <td>A</td>\n",
       "      <td>2</td>\n",
       "    </tr>\n",
       "    <tr>\n",
       "      <th>4</th>\n",
       "      <td>5</td>\n",
       "      <td>1</td>\n",
       "      <td>series</td>\n",
       "      <td>2</td>\n",
       "    </tr>\n",
       "    <tr>\n",
       "      <th>...</th>\n",
       "      <td>...</td>\n",
       "      <td>...</td>\n",
       "      <td>...</td>\n",
       "      <td>...</td>\n",
       "    </tr>\n",
       "    <tr>\n",
       "      <th>156055</th>\n",
       "      <td>156056</td>\n",
       "      <td>8544</td>\n",
       "      <td>Hearst 's</td>\n",
       "      <td>2</td>\n",
       "    </tr>\n",
       "    <tr>\n",
       "      <th>156056</th>\n",
       "      <td>156057</td>\n",
       "      <td>8544</td>\n",
       "      <td>forced avuncular chortles</td>\n",
       "      <td>1</td>\n",
       "    </tr>\n",
       "    <tr>\n",
       "      <th>156057</th>\n",
       "      <td>156058</td>\n",
       "      <td>8544</td>\n",
       "      <td>avuncular chortles</td>\n",
       "      <td>3</td>\n",
       "    </tr>\n",
       "    <tr>\n",
       "      <th>156058</th>\n",
       "      <td>156059</td>\n",
       "      <td>8544</td>\n",
       "      <td>avuncular</td>\n",
       "      <td>2</td>\n",
       "    </tr>\n",
       "    <tr>\n",
       "      <th>156059</th>\n",
       "      <td>156060</td>\n",
       "      <td>8544</td>\n",
       "      <td>chortles</td>\n",
       "      <td>2</td>\n",
       "    </tr>\n",
       "  </tbody>\n",
       "</table>\n",
       "<p>156060 rows × 4 columns</p>\n",
       "</div>"
      ],
      "text/plain": [
       "        PhraseId  SentenceId  \\\n",
       "0              1           1   \n",
       "1              2           1   \n",
       "2              3           1   \n",
       "3              4           1   \n",
       "4              5           1   \n",
       "...          ...         ...   \n",
       "156055    156056        8544   \n",
       "156056    156057        8544   \n",
       "156057    156058        8544   \n",
       "156058    156059        8544   \n",
       "156059    156060        8544   \n",
       "\n",
       "                                                   Phrase  Sentiment  \n",
       "0       A series of escapades demonstrating the adage ...          1  \n",
       "1       A series of escapades demonstrating the adage ...          2  \n",
       "2                                                A series          2  \n",
       "3                                                       A          2  \n",
       "4                                                  series          2  \n",
       "...                                                   ...        ...  \n",
       "156055                                          Hearst 's          2  \n",
       "156056                          forced avuncular chortles          1  \n",
       "156057                                 avuncular chortles          3  \n",
       "156058                                          avuncular          2  \n",
       "156059                                           chortles          2  \n",
       "\n",
       "[156060 rows x 4 columns]"
      ]
     },
     "execution_count": 1,
     "metadata": {},
     "output_type": "execute_result"
    }
   ],
   "source": [
    "import pandas as pd\n",
    "\n",
    "dataset = pd.read_csv('./HW3Data/train.tsv', delimiter='\\t')\n",
    "dataset"
   ]
  },
  {
   "cell_type": "code",
   "execution_count": 2,
   "id": "715f65f7",
   "metadata": {},
   "outputs": [
    {
     "data": {
      "text/plain": [
       "2    79582\n",
       "3    32927\n",
       "1    27273\n",
       "4     9206\n",
       "0     7072\n",
       "Name: Sentiment, dtype: int64"
      ]
     },
     "execution_count": 2,
     "metadata": {},
     "output_type": "execute_result"
    }
   ],
   "source": [
    "# Slightly more 4-5 star reviews (Sentiment = 3-4) than 1-2 star.\n",
    "# Good thing the reviewers are more optimistic!\n",
    "dataset.Sentiment.value_counts()"
   ]
  },
  {
   "cell_type": "code",
   "execution_count": 3,
   "id": "b62ffced",
   "metadata": {},
   "outputs": [
    {
     "data": {
      "text/html": [
       "<div>\n",
       "<style scoped>\n",
       "    .dataframe tbody tr th:only-of-type {\n",
       "        vertical-align: middle;\n",
       "    }\n",
       "\n",
       "    .dataframe tbody tr th {\n",
       "        vertical-align: top;\n",
       "    }\n",
       "\n",
       "    .dataframe thead th {\n",
       "        text-align: right;\n",
       "    }\n",
       "</style>\n",
       "<table border=\"1\" class=\"dataframe\">\n",
       "  <thead>\n",
       "    <tr style=\"text-align: right;\">\n",
       "      <th></th>\n",
       "      <th>PhraseId</th>\n",
       "      <th>SentenceId</th>\n",
       "      <th>Phrase</th>\n",
       "    </tr>\n",
       "  </thead>\n",
       "  <tbody>\n",
       "    <tr>\n",
       "      <th>0</th>\n",
       "      <td>156061</td>\n",
       "      <td>8545</td>\n",
       "      <td>An intermittently pleasing but mostly routine ...</td>\n",
       "    </tr>\n",
       "    <tr>\n",
       "      <th>1</th>\n",
       "      <td>156062</td>\n",
       "      <td>8545</td>\n",
       "      <td>An intermittently pleasing but mostly routine ...</td>\n",
       "    </tr>\n",
       "    <tr>\n",
       "      <th>2</th>\n",
       "      <td>156063</td>\n",
       "      <td>8545</td>\n",
       "      <td>An</td>\n",
       "    </tr>\n",
       "    <tr>\n",
       "      <th>3</th>\n",
       "      <td>156064</td>\n",
       "      <td>8545</td>\n",
       "      <td>intermittently pleasing but mostly routine effort</td>\n",
       "    </tr>\n",
       "    <tr>\n",
       "      <th>4</th>\n",
       "      <td>156065</td>\n",
       "      <td>8545</td>\n",
       "      <td>intermittently pleasing but mostly routine</td>\n",
       "    </tr>\n",
       "    <tr>\n",
       "      <th>...</th>\n",
       "      <td>...</td>\n",
       "      <td>...</td>\n",
       "      <td>...</td>\n",
       "    </tr>\n",
       "    <tr>\n",
       "      <th>66287</th>\n",
       "      <td>222348</td>\n",
       "      <td>11855</td>\n",
       "      <td>A long-winded , predictable scenario .</td>\n",
       "    </tr>\n",
       "    <tr>\n",
       "      <th>66288</th>\n",
       "      <td>222349</td>\n",
       "      <td>11855</td>\n",
       "      <td>A long-winded , predictable scenario</td>\n",
       "    </tr>\n",
       "    <tr>\n",
       "      <th>66289</th>\n",
       "      <td>222350</td>\n",
       "      <td>11855</td>\n",
       "      <td>A long-winded ,</td>\n",
       "    </tr>\n",
       "    <tr>\n",
       "      <th>66290</th>\n",
       "      <td>222351</td>\n",
       "      <td>11855</td>\n",
       "      <td>A long-winded</td>\n",
       "    </tr>\n",
       "    <tr>\n",
       "      <th>66291</th>\n",
       "      <td>222352</td>\n",
       "      <td>11855</td>\n",
       "      <td>predictable scenario</td>\n",
       "    </tr>\n",
       "  </tbody>\n",
       "</table>\n",
       "<p>66292 rows × 3 columns</p>\n",
       "</div>"
      ],
      "text/plain": [
       "       PhraseId  SentenceId                                             Phrase\n",
       "0        156061        8545  An intermittently pleasing but mostly routine ...\n",
       "1        156062        8545  An intermittently pleasing but mostly routine ...\n",
       "2        156063        8545                                                 An\n",
       "3        156064        8545  intermittently pleasing but mostly routine effort\n",
       "4        156065        8545         intermittently pleasing but mostly routine\n",
       "...         ...         ...                                                ...\n",
       "66287    222348       11855             A long-winded , predictable scenario .\n",
       "66288    222349       11855               A long-winded , predictable scenario\n",
       "66289    222350       11855                                    A long-winded ,\n",
       "66290    222351       11855                                      A long-winded\n",
       "66291    222352       11855                               predictable scenario\n",
       "\n",
       "[66292 rows x 3 columns]"
      ]
     },
     "execution_count": 3,
     "metadata": {},
     "output_type": "execute_result"
    }
   ],
   "source": [
    "prediction_dataset = pd.read_csv('./HW3Data/test.tsv', delimiter='\\t')\n",
    "prediction_dataset"
   ]
  },
  {
   "cell_type": "markdown",
   "id": "61d4bf9d",
   "metadata": {},
   "source": [
    "## 2. Data Preprocessing.\n",
    "\n",
    "### Extract the data into X and y.\n",
    "\n",
    "+ X = n-gram Word Counts vector\n",
    "+ y = Sentiment"
   ]
  },
  {
   "cell_type": "code",
   "execution_count": 4,
   "id": "d3e2b46e",
   "metadata": {},
   "outputs": [
    {
     "name": "stdout",
     "output_type": "stream",
     "text": [
      "(156060,)\n"
     ]
    }
   ],
   "source": [
    "y = dataset['Sentiment']\n",
    "print(y.shape)"
   ]
  },
  {
   "cell_type": "markdown",
   "id": "a0b45ffd",
   "metadata": {},
   "source": [
    "### Stop Words.\n",
    "\n",
    "Sklearn has a default list of stop words to omit from the feature vector.\n",
    "\n",
    "However, some of these actually add contextual meaning in n-gram cases! (e.g. \"not funny\", \"too sentimental\", \"still strong\").\n",
    "\n",
    "So, we need to manually add back these stop words to include. See the below section 'Manual analysis...' for details on how I decided which stop words to add back."
   ]
  },
  {
   "cell_type": "code",
   "execution_count": 5,
   "id": "e8606e57",
   "metadata": {},
   "outputs": [],
   "source": [
    "from sklearn.feature_extraction import text\n",
    "\n",
    "# When tokenizing, do not include defaults stop words that could\n",
    "# potentially lead to meaningful phrases, such as negation.\n",
    "ommitted_stop_words = {'becomes', 'besides', 'no', 'not', 'nothing', 'often', 'still', 'too', 'very', 'well'}\n",
    "stop_words = frozenset(text.ENGLISH_STOP_WORDS.difference(ommitted_stop_words))"
   ]
  },
  {
   "cell_type": "markdown",
   "id": "ec180e41",
   "metadata": {},
   "source": [
    "### Form the N-gram Feature Vector.\n",
    "\n",
    "I chose to include only 1-grams and 2-grams to capture words in contexts while not making the data too large.\n",
    "\n",
    "In addition, when including long N-grams, I noticed that although the accuracy rate increased on the cross-validation, the resulting model's predictions on the entirely separate prediction dataset included significantly less extreme sentiment scores (0 and 4). I think this would indicate that too-long of an N-gram in the model may make it too specific to this dataset."
   ]
  },
  {
   "cell_type": "code",
   "execution_count": 6,
   "id": "c7554ba0",
   "metadata": {},
   "outputs": [
    {
     "name": "stdout",
     "output_type": "stream",
     "text": [
      "(156060, 76472)\n",
      "(66292, 76472)\n"
     ]
    }
   ],
   "source": [
    "from nltk.tokenize import RegexpTokenizer\n",
    "from sklearn.feature_extraction.text import CountVectorizer\n",
    "\n",
    "# Extract the raw single and binary word grams from every phrase entry.\n",
    "token = RegexpTokenizer(r'[a-zA-Z]+')\n",
    "cv = CountVectorizer(\n",
    "    stop_words=stop_words,\n",
    "    ngram_range = (1,2),\n",
    "    tokenizer = token.tokenize\n",
    ")\n",
    "\n",
    "X = cv.fit_transform(dataset['Phrase'])\n",
    "print(X.shape)\n",
    "\n",
    "X_prediction = cv.transform(prediction_dataset['Phrase'])\n",
    "print(X_prediction.shape)"
   ]
  },
  {
   "cell_type": "markdown",
   "id": "0c26b66d",
   "metadata": {},
   "source": [
    "### Manual analysis of the excluded phrases due to stop words.\n",
    "\n",
    "Here, we look for n-gram phrases (like \"not funny\") where stop words do add meaning in context. We take these stop words and reintegrate their corresponding n-grams into the feature vector in the earlier code.\n",
    "\n",
    "These words should ultimately improve the bottom-line accuracy score. If there's no improvement, then the stop word was probably not meaningful in phrases in the first place.\n",
    "\n",
    "Note: In the future, we could programmatically reintegrate phrases with stop words that improve the final accuracy score, but I wanted to see these phrases for myself to verify that they would add meaning in context to human eyes."
   ]
  },
  {
   "cell_type": "code",
   "execution_count": 7,
   "id": "ab5f2521",
   "metadata": {},
   "outputs": [],
   "source": [
    "#\n",
    "# Outputs n-gram phrases that were excluded by the given CountVectorizer assumed\n",
    "# to include a stop-word filter.\n",
    "#\n",
    "# Used to help identify stop-words that affect contextual meaning.\n",
    "#\n",
    "def output_excluded_phrases(filtered_cv, dataset_column, ngram_range, tokenizer):\n",
    "    unfiltered_cv = CountVectorizer(\n",
    "        stop_words = None,\n",
    "        ngram_range = ngram_range,\n",
    "        tokenizer = tokenizer\n",
    "    )\n",
    "    unfiltered_cv.fit_transform(dataset_column)\n",
    "    excluded_phrases = set(unfiltered_cv.get_feature_names()) - set(filtered_cv.get_feature_names())\n",
    "    print(excluded_phrases)\n",
    "    \n",
    "# output_excluded_phrases(cv, dataset['Phrase'], (2,2), token.tokenize)"
   ]
  },
  {
   "cell_type": "markdown",
   "id": "443a0b8e",
   "metadata": {},
   "source": [
    "### (Future Improvement) Remove the 1-gram forms of the reintegrated stop words.\n",
    "\n",
    "We only care about these stop words in multi-gram phrases, where they affect context. On their own, they don't add any meaning, hence why they are included in the default stop words!\n",
    "\n",
    "Unfortunately, I could not find a straightforward way with sklearn to omit these 1-grams and keep the 2+ grams. So I will leave this thought on the table as a potential future improvement to the model."
   ]
  },
  {
   "cell_type": "markdown",
   "id": "69ba2665",
   "metadata": {},
   "source": [
    "## 3. Model Formation.\n",
    "\n",
    "### Cross-validate the data across 10 stratified folds.\n",
    "\n",
    "We should use stratified K-folding here to preserve the ratios of each sentiment class (0-4), since they are disproportionate in the data."
   ]
  },
  {
   "cell_type": "code",
   "execution_count": 8,
   "id": "d91a93f9",
   "metadata": {},
   "outputs": [
    {
     "name": "stdout",
     "output_type": "stream",
     "text": [
      "Accuracy Scores for Each Stratified K-Fold:\n",
      " 1. 0.616622\n",
      " 2. 0.616814\n",
      " 3. 0.619826\n",
      " 4. 0.606946\n",
      " 5. 0.615148\n",
      " 6. 0.620210\n",
      " 7. 0.618736\n",
      " 8. 0.612265\n",
      " 9. 0.620466\n",
      "10. 0.613546\n",
      "\n",
      "Average Accuracy Across All Folds:\n",
      "    0.616058\n"
     ]
    }
   ],
   "source": [
    "from sklearn.model_selection import cross_validate, cross_val_score, StratifiedKFold\n",
    "from sklearn.naive_bayes import MultinomialNB\n",
    "from sklearn.metrics import confusion_matrix\n",
    "import numpy as np\n",
    "import seaborn as sns; sns.set()\n",
    "import matplotlib.pyplot as plt\n",
    "\n",
    "MNB_model = MultinomialNB()\n",
    "\n",
    "# Create 10 stratified folds in the shuffled data.\n",
    "skf = StratifiedKFold(n_splits=10, random_state=1, shuffle=True)\n",
    "\n",
    "accuracy_scores = cross_val_score(MNB_model, X, y, cv=skf, scoring='accuracy')\n",
    "\n",
    "print(\"Accuracy Scores for Each Stratified K-Fold:\")\n",
    "\n",
    "for i, score in enumerate(accuracy_scores):\n",
    "    \n",
    "    print(\"{:2}. {:04.6f}\".format(i+1, score))\n",
    "\n",
    "print(\"\\nAverage Accuracy Across All Folds:\")\n",
    "print(\"    {:04.6f}\".format(accuracy_scores.mean()))"
   ]
  },
  {
   "cell_type": "markdown",
   "id": "f253ee69",
   "metadata": {},
   "source": [
    "### Confusion matrix for k-folds across all the data."
   ]
  },
  {
   "cell_type": "code",
   "execution_count": 9,
   "id": "de37a635",
   "metadata": {},
   "outputs": [
    {
     "data": {
      "text/plain": [
       "Text(89.18, 0.5, 'Predicted Sentiment')"
      ]
     },
     "execution_count": 9,
     "metadata": {},
     "output_type": "execute_result"
    },
    {
     "data": {
      "image/png": "[encoded data removed]",
      "text/plain": [
       "<Figure size 432x288 with 1 Axes>"
      ]
     },
     "metadata": {},
     "output_type": "display_data"
    }
   ],
   "source": [
    "predicted_sentiment = np.array([])\n",
    "actual_sentiment = np.array([])\n",
    "\n",
    "for train_i, test_i in skf.split(X, y):\n",
    "    x_train, y_train = X[train_i], y[train_i]\n",
    "    x_test, y_test = X[test_i], y[test_i]\n",
    "    \n",
    "    classifier = MNB_model.fit(x_train, y_train)\n",
    "    \n",
    "    prediction = classifier.predict(x_test)\n",
    "    \n",
    "    predicted_sentiment = np.append(predicted_sentiment, prediction)\n",
    "    actual_sentiment = np.append(actual_sentiment, y_test)\n",
    "    \n",
    "mat = confusion_matrix(predicted_sentiment, actual_sentiment)\n",
    "\n",
    "names = np.unique(predicted_sentiment)\n",
    "sns.heatmap(mat, square=True, annot=True, fmt='d', cbar=False,\n",
    "            xticklabels=names, yticklabels=names)\n",
    "plt.xlabel('Actual Sentiment')\n",
    "plt.ylabel('Predicted Sentiment')"
   ]
  },
  {
   "cell_type": "markdown",
   "id": "3cd65d5b",
   "metadata": {},
   "source": [
    "### Create the final model from all the training data, and predict the sentiments for the separate prediction data file."
   ]
  },
  {
   "cell_type": "code",
   "execution_count": 10,
   "id": "c605df99",
   "metadata": {},
   "outputs": [
    {
     "data": {
      "text/plain": [
       "(66292,)"
      ]
     },
     "execution_count": 10,
     "metadata": {},
     "output_type": "execute_result"
    }
   ],
   "source": [
    "classifier = MNB_model.fit(X, y)\n",
    "\n",
    "prediction = classifier.predict(X_prediction)\n",
    "prediction.shape"
   ]
  },
  {
   "cell_type": "markdown",
   "id": "ccaf2fd2",
   "metadata": {},
   "source": [
    "### Sanity check: Plot the given sentiments of the training data vs. the predicted sentiments of the prediction data."
   ]
  },
  {
   "cell_type": "code",
   "execution_count": 11,
   "id": "ecf6d710",
   "metadata": {},
   "outputs": [
    {
     "data": {
      "image/png": "[encoded data removed]",
      "text/plain": [
       "<Figure size 432x288 with 1 Axes>"
      ]
     },
     "metadata": {},
     "output_type": "display_data"
    }
   ],
   "source": [
    "fig = plt.figure()\n",
    "ax = fig.add_axes([0,0,1,1])\n",
    "sentiments = ['0','1','2','3','4']\n",
    "ax.bar(sentiments, np.bincount(y))\n",
    "plt.xlabel(\"Sentiment\")\n",
    "plt.ylabel(\"Count\")\n",
    "plt.title(\"Review Sentiments from Training Data.\")\n",
    "plt.show()"
   ]
  },
  {
   "cell_type": "code",
   "execution_count": 12,
   "id": "5e2422de",
   "metadata": {},
   "outputs": [
    {
     "data": {
      "image/png": "[encoded data removed]",
      "text/plain": [
       "<Figure size 432x288 with 1 Axes>"
      ]
     },
     "metadata": {},
     "output_type": "display_data"
    }
   ],
   "source": [
    "fig = plt.figure()\n",
    "ax = fig.add_axes([0,0,1,1])\n",
    "sentiments = ['0','1','2','3','4']\n",
    "ax.bar(sentiments, np.bincount(prediction))\n",
    "plt.xlabel(\"Sentiment\")\n",
    "plt.ylabel(\"Count\")\n",
    "plt.title(\"Predicted Review Sentiments from Prediction Data.\")\n",
    "plt.show()"
   ]
  },
  {
   "cell_type": "markdown",
   "id": "1d2761dd",
   "metadata": {},
   "source": [
    "## 4. Evaluation and Conclusions.\n",
    "\n",
    "Overall, our Multinomial Naive Bayes model for classifying movie reviews, on average, had a 61.65% accuracy rate on each of the 10 testing folds in cross validation. In other words, the sentiment scores for 61.65% of the movie reviews were correctly predicted from our model.\n",
    "\n",
    "Based on the cross-validation confusion matrix, this model did fairly well in predicting the general \"neighborhood\" of a review, meaning that for a review with an actual sentiment of n, the model mostly predicted that it would have a sentiment in the range from n-1 to n+1.\n",
    "+ For example, for reviews with an actual sentiment score of 1, there were (3,143 + 13,803 + 9,125) = 26,071 out of 27,273 reviews that were predicted by the model to have a sentiment score from 0-2.\n",
    "\n",
    "In terms of predicting the exact sentiment, this model did best in correctly predicting reviews that had a dead-center sentiment of 2, where (57,589 / 79,582) = 72.4% of sentiment 2 reviews in the dataset were correctly predicted.\n",
    "\n",
    "On the other hand, the model struggled in nailing the exact sentiment beyond reviews in the center.\n",
    "+ For reviews with sentiments 1 and 3, the model more often incorrectly predicted the sentiment to be 2 than it predicted the sentiment to be the extreme (0 and 4, respectively).\n",
    "+ For reviews with sentiments 0 and 4, the model made just as many incorrect predictions for the sentiment being 1 and 3 respectively than it made the correct prediction.\n",
    "\n",
    "Unfortunately, this model seemed to lack the robustness to make good predictions on the entirely separate prediction dataset, as shown in the bar graph above. Compared to the training dataset's sentiment scores, there appear to be an incredibly high number of reviews with a sentiment of 2 vs. all the others in the prediction, while there are very few reviews predicted to have a sentiment of 0 or 4.\n",
    "\n",
    "According to the Kaggle leaderboard as of right now (and solely based off my training accuracy), this model would place in the ~340th rank out of 860 teams. Above average, but not great, and that's not even based on the accuracy of the prediction data (since the sentiment scores for that is not available to us). I am clearly missing some additional steps and factors to flesh out with more time and resources.\n",
    "\n",
    "The main source of model improvement that I did focus on in this analysis was trying to capture N-gram phrases where what would have been a \"stop word\" by default actually adds meaning to the context of the phrase (e.g. the word \"not\" takes on meaning in \"not funny\"). From the crude foundation of just taking 1-grams for everything, I was able to find manually that the following stop words added meaning in 2-grams and above: {'becomes', 'besides', 'no', 'not', 'nothing', 'often', 'still', 'too', 'very', 'well'}. \n",
    "\n",
    "Potential improvments to the model:\n",
    "+ Uncover more default stop words that improve the model's accuracy when included in N-grams.\n",
    "+ Find a way to remove all stop word counts in the data when they are used in 1-grams. In this case, they add no meaning at all.\n",
    "+ Play around with different classifiers beyond Multinomial Naive Bayes that might make sense."
   ]
  },
  {
   "cell_type": "markdown",
   "id": "497f43d8",
   "metadata": {},
   "source": [
    "## Outside Sources Used.\n",
    "\n",
    "+ https://towardsdatascience.com/sentiment-analysis-introduction-to-naive-bayes-algorithm-96831d77ac91\n",
    "+ https://towardsdatascience.com/text-pre-processing-stop-words-removal-using-different-libraries-f20bac19929a\n",
    "+ https://stackoverflow.com/questions/40124476/how-to-set-custom-stop-words-for-sklearn-countvectorizer\n",
    "+ https://www.geeksforgeeks.org/bar-plot-in-matplotlib/"
   ]
  }
 ],
 "metadata": {
  "kernelspec": {
   "display_name": "Python 3 (ipykernel)",
   "language": "python",
   "name": "python3"
  },
  "language_info": {
   "codemirror_mode": {
    "name": "ipython",
    "version": 3
   },
   "file_extension": ".py",
   "mimetype": "text/x-python",
   "name": "python",
   "nbconvert_exporter": "python",
   "pygments_lexer": "ipython3",
   "version": "3.9.7"
  }
 },
 "nbformat": 4,
 "nbformat_minor": 5
}
