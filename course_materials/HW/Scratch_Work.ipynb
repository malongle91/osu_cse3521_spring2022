{
 "cells": [
  {
   "cell_type": "markdown",
   "id": "8b1e924f",
   "metadata": {},
   "source": [
    "## HW 2, Problem 5 (PCA of 2D dataset)"
   ]
  },
  {
   "cell_type": "code",
   "execution_count": 2,
   "id": "413a0587",
   "metadata": {},
   "outputs": [],
   "source": [
    "import numpy\n",
    "from matplotlib import pyplot\n",
    "from sklearn import preprocessing"
   ]
  },
  {
   "cell_type": "code",
   "execution_count": 5,
   "id": "72fce4d0",
   "metadata": {},
   "outputs": [
    {
     "data": {
      "text/plain": [
       "(2, 4)"
      ]
     },
     "execution_count": 5,
     "metadata": {},
     "output_type": "execute_result"
    }
   ],
   "source": [
    "raw_data = numpy.array([[20, 8, -6, 6], [-5, 2, 3, -4]])\n",
    "raw_data.shape"
   ]
  },
  {
   "cell_type": "code",
   "execution_count": 7,
   "id": "9dc2d23e",
   "metadata": {},
   "outputs": [
    {
     "data": {
      "text/plain": [
       "array([[ 85. , -24.5],\n",
       "       [-24.5,  12.5]])"
      ]
     },
     "execution_count": 7,
     "metadata": {},
     "output_type": "execute_result"
    }
   ],
   "source": [
    "cov_matrix = numpy.cov(raw_data, rowvar=True, bias=True)\n",
    "cov_matrix"
   ]
  },
  {
   "cell_type": "code",
   "execution_count": 10,
   "id": "4910b012",
   "metadata": {},
   "outputs": [
    {
     "name": "stdout",
     "output_type": "stream",
     "text": [
      "Eigenvalues: \n",
      " [92.50285705  4.99714295]\n",
      "Eigenvectors: \n",
      " [[ 0.95616874  0.29281622]\n",
      " [-0.29281622  0.95616874]]\n"
     ]
    }
   ],
   "source": [
    "eigen_values, eigen_vectors = numpy.linalg.eig(cov_matrix)\n",
    "print(\"Eigenvalues: \\n\", eigen_values)\n",
    "print(\"Eigenvectors: \\n\", eigen_vectors)"
   ]
  },
  {
   "cell_type": "code",
   "execution_count": 16,
   "id": "46384f85",
   "metadata": {},
   "outputs": [
    {
     "data": {
      "text/plain": [
       "1.414213562373095"
      ]
     },
     "execution_count": 16,
     "metadata": {},
     "output_type": "execute_result"
    }
   ],
   "source": [
    "normalized_eigen_vectors = numpy.linalg.norm(eigen_vectors)\n",
    "normalized_eigen_vectors"
   ]
  }
 ],
 "metadata": {
  "kernelspec": {
   "display_name": "Python 3 (ipykernel)",
   "language": "python",
   "name": "python3"
  },
  "language_info": {
   "codemirror_mode": {
    "name": "ipython",
    "version": 3
   },
   "file_extension": ".py",
   "mimetype": "text/x-python",
   "name": "python",
   "nbconvert_exporter": "python",
   "pygments_lexer": "ipython3",
   "version": "3.9.7"
  }
 },
 "nbformat": 4,
 "nbformat_minor": 5
}
