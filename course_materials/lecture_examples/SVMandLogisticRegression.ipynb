{
 "cells": [
  {
   "cell_type": "markdown",
   "metadata": {},
   "source": [
    "## Data Prep"
   ]
  },
  {
   "cell_type": "code",
   "execution_count": 24,
   "metadata": {},
   "outputs": [],
   "source": [
    "from sklearn.datasets import load_iris\n",
    "from sklearn import preprocessing\n",
    "import numpy as np\n",
    "from sklearn.model_selection import train_test_split\n",
    "from sklearn.metrics import accuracy_score, classification_report, confusion_matrix\n",
    "\n",
    "X, y = load_iris(return_X_y=True)\n",
    "scaler = preprocessing.StandardScaler().fit(X)\n",
    "scaler.mean_\n",
    "scaler.scale_\n",
    "X_scaled = scaler.transform(X)\n",
    "indices = range(X_scaled.shape[0])\n",
    "\n",
    "\n",
    "x_train,x_test,y_train,y_test, indices_train, indices_test=train_test_split(X_scaled,y,indices, test_size=0.3,random_state=123)\n"
   ]
  },
  {
   "cell_type": "code",
   "execution_count": 46,
   "metadata": {},
   "outputs": [
    {
     "data": {
      "text/plain": [
       "[72, 112, 132, 88, 37, 138, 87, 42, 8, 90]"
      ]
     },
     "execution_count": 46,
     "metadata": {},
     "output_type": "execute_result"
    }
   ],
   "source": [
    "indices_test[0:10]"
   ]
  },
  {
   "cell_type": "markdown",
   "metadata": {},
   "source": [
    "## Logistic regression"
   ]
  },
  {
   "cell_type": "code",
   "execution_count": 25,
   "metadata": {},
   "outputs": [
    {
     "name": "stdout",
     "output_type": "stream",
     "text": [
      "0.9777777777777777\n",
      "              precision    recall  f1-score   support\n",
      "\n",
      "           0       1.00      1.00      1.00        18\n",
      "           1       0.91      1.00      0.95        10\n",
      "           2       1.00      0.94      0.97        17\n",
      "\n",
      "    accuracy                           0.98        45\n",
      "   macro avg       0.97      0.98      0.97        45\n",
      "weighted avg       0.98      0.98      0.98        45\n",
      "\n",
      "[[18  0  0]\n",
      " [ 0 10  0]\n",
      " [ 0  1 16]]\n"
     ]
    }
   ],
   "source": [
    "from sklearn.linear_model import LogisticRegression\n",
    "clf = LogisticRegression().fit(x_train, y_train)\n",
    "\n",
    "y_pred = clf.predict(x_test)\n",
    "\n",
    "print(accuracy_score(y_test, y_pred))\n",
    "print(classification_report(y_test, y_pred))\n",
    "print(confusion_matrix(y_test, y_pred))"
   ]
  },
  {
   "cell_type": "code",
   "execution_count": 31,
   "metadata": {},
   "outputs": [
    {
     "data": {
      "text/plain": [
       "array([2, 2, 1, 0, 0, 2, 0, 0, 1, 1, 1, 1, 2, 1, 2, 0, 2, 1, 0, 0, 2, 1,\n",
       "       2, 2, 0, 1, 1, 2, 0, 2, 1, 1, 0, 2, 2, 0, 0, 1, 1, 2, 0, 0, 1, 0,\n",
       "       1, 2, 0, 2, 0, 0, 1, 0, 0, 1, 2, 1, 1, 1, 0, 0, 1, 1, 0, 0, 1, 1,\n",
       "       1, 2, 1, 1, 1, 2, 0, 0, 1, 2, 2, 2, 2, 0, 1, 0, 1, 1, 0, 1, 2, 1,\n",
       "       2, 2, 0, 1, 0, 2, 2, 1, 1, 2, 1, 2, 0, 1, 1, 2, 2])"
      ]
     },
     "execution_count": 31,
     "metadata": {},
     "output_type": "execute_result"
    }
   ],
   "source": [
    "clf.predict(x_train)"
   ]
  },
  {
   "cell_type": "code",
   "execution_count": 28,
   "metadata": {},
   "outputs": [
    {
     "data": {
      "text/plain": [
       "array([[1.54765151e-04, 3.90262096e-02, 9.60819025e-01],\n",
       "       [2.39264619e-04, 3.91638622e-02, 9.60596873e-01],\n",
       "       [1.33223461e-02, 8.91717396e-01, 9.49602578e-02],\n",
       "       [9.88050036e-01, 1.19498267e-02, 1.37671935e-07],\n",
       "       [9.74485816e-01, 2.55138118e-02, 3.72040588e-07],\n",
       "       [1.40257435e-03, 2.52258456e-01, 7.46338969e-01],\n",
       "       [9.23271690e-01, 7.67237534e-02, 4.55662661e-06],\n",
       "       [9.49202803e-01, 5.07966354e-02, 5.62018320e-07],\n",
       "       [5.70707542e-03, 7.99590360e-01, 1.94702565e-01],\n",
       "       [1.76383045e-02, 8.44532046e-01, 1.37829650e-01],\n",
       "       [2.46254652e-02, 8.98507714e-01, 7.68668208e-02],\n",
       "       [5.14142799e-02, 9.38087720e-01, 1.04980004e-02],\n",
       "       [1.18968618e-03, 2.19787970e-01, 7.79022344e-01],\n",
       "       [9.24439542e-03, 8.94770857e-01, 9.59847479e-02],\n",
       "       [2.75897828e-04, 6.95768866e-02, 9.30147216e-01],\n",
       "       [7.68668095e-01, 2.31321038e-01, 1.08661656e-05],\n",
       "       [2.75967011e-04, 1.00353541e-01, 8.99370492e-01],\n",
       "       [7.21445325e-02, 8.89887614e-01, 3.79678538e-02],\n",
       "       [9.81813550e-01, 1.81860979e-02, 3.52070553e-07],\n",
       "       [9.78710105e-01, 2.12896002e-02, 2.94667655e-07],\n",
       "       [6.04426831e-04, 2.15716882e-01, 7.83678691e-01],\n",
       "       [1.13853324e-02, 9.16436533e-01, 7.21781347e-02],\n",
       "       [1.08972826e-06, 2.56505103e-02, 9.74348400e-01],\n",
       "       [6.36788643e-08, 4.68705742e-03, 9.95312879e-01],\n",
       "       [9.81345342e-01, 1.86540990e-02, 5.59315931e-07],\n",
       "       [1.72135291e-02, 8.40635276e-01, 1.42151195e-01],\n",
       "       [3.54662955e-02, 9.46979644e-01, 1.75540608e-02],\n",
       "       [4.63887719e-03, 3.70824588e-01, 6.24536534e-01],\n",
       "       [9.47946631e-01, 5.20528053e-02, 5.63865892e-07],\n",
       "       [2.54669935e-04, 3.58843839e-01, 6.40901491e-01],\n",
       "       [1.90559379e-02, 7.53466244e-01, 2.27477818e-01],\n",
       "       [5.29823649e-03, 8.70804898e-01, 1.23896866e-01],\n",
       "       [9.02373125e-01, 9.76248063e-02, 2.06830550e-06],\n",
       "       [7.97160795e-05, 6.77301155e-02, 9.32190168e-01],\n",
       "       [2.54897605e-04, 2.11253054e-01, 7.88492049e-01],\n",
       "       [9.62641774e-01, 3.73558703e-02, 2.35559115e-06],\n",
       "       [9.29812906e-01, 7.01859558e-02, 1.13811654e-06],\n",
       "       [1.95246675e-02, 9.25516396e-01, 5.49589365e-02],\n",
       "       [3.53723425e-03, 7.67343989e-01, 2.29118777e-01],\n",
       "       [3.97367524e-05, 1.38459808e-02, 9.86114282e-01],\n",
       "       [9.82440632e-01, 1.75592995e-02, 6.85978283e-08],\n",
       "       [9.86079177e-01, 1.39205999e-02, 2.23467975e-07],\n",
       "       [2.87090244e-02, 9.41164692e-01, 3.01262833e-02],\n",
       "       [9.60516074e-01, 3.94827016e-02, 1.22456400e-06],\n",
       "       [1.52440317e-02, 5.18918274e-01, 4.65837694e-01],\n",
       "       [1.56185990e-04, 1.20287827e-01, 8.79555987e-01],\n",
       "       [9.48722738e-01, 5.12762766e-02, 9.85661398e-07],\n",
       "       [3.93284480e-05, 1.21632135e-01, 8.78328536e-01],\n",
       "       [9.92899899e-01, 7.10003933e-03, 6.15733741e-08],\n",
       "       [9.55998130e-01, 4.40012280e-02, 6.42395897e-07],\n",
       "       [1.66642250e-03, 5.17591950e-01, 4.80741628e-01],\n",
       "       [9.95127541e-01, 4.87243447e-03, 2.41438605e-08],\n",
       "       [9.74632826e-01, 2.53669614e-02, 2.12561756e-07],\n",
       "       [5.84324207e-03, 8.89815983e-01, 1.04340775e-01],\n",
       "       [2.25594711e-05, 1.01000743e-01, 8.98976697e-01],\n",
       "       [8.20868165e-03, 8.85197480e-01, 1.06593839e-01],\n",
       "       [9.27291333e-02, 8.79346221e-01, 2.79246455e-02],\n",
       "       [2.94169939e-02, 9.39855668e-01, 3.07273378e-02],\n",
       "       [9.67415854e-01, 3.25835928e-02, 5.53006702e-07],\n",
       "       [9.79463770e-01, 2.05359784e-02, 2.51493944e-07],\n",
       "       [1.95564147e-03, 7.94701296e-01, 2.03343062e-01],\n",
       "       [1.36557964e-03, 5.01170925e-01, 4.97463495e-01],\n",
       "       [9.42938920e-01, 5.70601294e-02, 9.50836569e-07],\n",
       "       [9.68703921e-01, 3.12957490e-02, 3.30449501e-07],\n",
       "       [3.11852717e-02, 8.88990509e-01, 7.98242196e-02],\n",
       "       [5.65876032e-02, 7.79899294e-01, 1.63513103e-01],\n",
       "       [1.67204666e-02, 9.10673688e-01, 7.26058449e-02],\n",
       "       [2.53321817e-05, 5.89379014e-02, 9.41036766e-01],\n",
       "       [3.10264651e-03, 7.57402546e-01, 2.39494808e-01],\n",
       "       [2.17663664e-02, 9.31663087e-01, 4.65705461e-02],\n",
       "       [3.81549465e-02, 8.99116319e-01, 6.27287345e-02],\n",
       "       [2.20112616e-06, 2.41944952e-02, 9.75803304e-01],\n",
       "       [9.71243251e-01, 2.87564060e-02, 3.42932510e-07],\n",
       "       [9.79039098e-01, 2.09607255e-02, 1.76715953e-07],\n",
       "       [3.21005332e-02, 8.46069485e-01, 1.21829982e-01],\n",
       "       [4.59022453e-05, 4.27221234e-02, 9.57231974e-01],\n",
       "       [1.29885070e-03, 2.82919244e-01, 7.15781905e-01],\n",
       "       [1.63594636e-04, 1.89422896e-01, 8.10413510e-01],\n",
       "       [5.34205582e-04, 1.91375591e-01, 8.08090203e-01],\n",
       "       [9.65256342e-01, 3.47432464e-02, 4.11805063e-07],\n",
       "       [6.04231324e-02, 7.67783341e-01, 1.71793527e-01],\n",
       "       [9.74998670e-01, 2.50010420e-02, 2.87552566e-07],\n",
       "       [3.51569159e-02, 9.43477951e-01, 2.13651333e-02],\n",
       "       [2.65234523e-02, 8.68743505e-01, 1.04733042e-01],\n",
       "       [9.64382265e-01, 3.56173222e-02, 4.13331696e-07],\n",
       "       [9.62723804e-04, 6.60910907e-01, 3.38126369e-01],\n",
       "       [3.28751414e-05, 2.92026970e-02, 9.70764428e-01],\n",
       "       [1.43012909e-02, 7.94496727e-01, 1.91201982e-01],\n",
       "       [3.56995308e-05, 2.12241868e-02, 9.78740114e-01],\n",
       "       [2.58936221e-04, 1.82049459e-01, 8.17691605e-01],\n",
       "       [9.95393301e-01, 4.60668242e-03, 1.67439460e-08],\n",
       "       [1.20124099e-02, 8.95985976e-01, 9.20016140e-02],\n",
       "       [9.77610032e-01, 2.23896713e-02, 2.97060562e-07],\n",
       "       [7.34803668e-04, 7.42139775e-02, 9.25051219e-01],\n",
       "       [5.03954572e-04, 1.46310348e-01, 8.53185697e-01],\n",
       "       [4.70685677e-02, 8.89181782e-01, 6.37496507e-02],\n",
       "       [1.42503291e-01, 8.48059611e-01, 9.43709732e-03],\n",
       "       [9.92158485e-04, 3.65078918e-01, 6.33928923e-01],\n",
       "       [1.84769894e-02, 5.15323997e-01, 4.66199013e-01],\n",
       "       [2.60840549e-03, 4.92571321e-01, 5.04820274e-01],\n",
       "       [9.73069332e-01, 2.69302925e-02, 3.75825125e-07],\n",
       "       [1.47219992e-01, 8.44465413e-01, 8.31459480e-03],\n",
       "       [4.17883596e-02, 7.84753123e-01, 1.73458517e-01],\n",
       "       [2.04955020e-03, 4.21831903e-01, 5.76118547e-01],\n",
       "       [1.99885791e-05, 1.76517970e-02, 9.82328214e-01]])"
      ]
     },
     "execution_count": 28,
     "metadata": {},
     "output_type": "execute_result"
    }
   ],
   "source": [
    "clf.predict_proba(x_train)"
   ]
  },
  {
   "cell_type": "markdown",
   "metadata": {},
   "source": [
    "## All types of SVM"
   ]
  },
  {
   "cell_type": "code",
   "execution_count": 32,
   "metadata": {},
   "outputs": [],
   "source": [
    "import matplotlib.pyplot as plt\n",
    "from sklearn import svm, datasets"
   ]
  },
  {
   "cell_type": "code",
   "execution_count": 33,
   "metadata": {},
   "outputs": [],
   "source": [
    "\n",
    "def make_meshgrid(x, y, h=0.02):\n",
    "    \"\"\"Create a mesh of points to plot in\n",
    "\n",
    "    Parameters\n",
    "    ----------\n",
    "    x: data to base x-axis meshgrid on\n",
    "    y: data to base y-axis meshgrid on\n",
    "    h: stepsize for meshgrid, optional\n",
    "\n",
    "    Returns\n",
    "    -------\n",
    "    xx, yy : ndarray\n",
    "    \"\"\"\n",
    "    x_min, x_max = x.min() - 1, x.max() + 1\n",
    "    y_min, y_max = y.min() - 1, y.max() + 1\n",
    "    xx, yy = np.meshgrid(np.arange(x_min, x_max, h), np.arange(y_min, y_max, h))\n",
    "    return xx, yy\n",
    "\n",
    "\n",
    "def plot_contours(ax, clf, xx, yy, **params):\n",
    "    \"\"\"Plot the decision boundaries for a classifier.\n",
    "\n",
    "    Parameters\n",
    "    ----------\n",
    "    ax: matplotlib axes object\n",
    "    clf: a classifier\n",
    "    xx: meshgrid ndarray\n",
    "    yy: meshgrid ndarray\n",
    "    params: dictionary of params to pass to contourf, optional\n",
    "    \"\"\"\n",
    "    Z = clf.predict(np.c_[xx.ravel(), yy.ravel()])\n",
    "    Z = Z.reshape(xx.shape)\n",
    "    out = ax.contourf(xx, yy, Z, **params)\n",
    "    return out"
   ]
  },
  {
   "cell_type": "code",
   "execution_count": 145,
   "metadata": {},
   "outputs": [],
   "source": [
    "# import some data to play with\n",
    "iris = datasets.load_iris()\n",
    "# Take the first two features. We could avoid this by using a two-dim dataset\n",
    "X = iris.data[:, :2]\n",
    "y = iris.target\n",
    "\n",
    "# we create an instance of SVM and fit out data. We do not scale our\n",
    "# data since we want to plot the support vectors\n",
    "C = 1.0  # SVM regularization parameter\n",
    "models = (\n",
    "    svm.SVC(kernel=\"linear\", C=C),\n",
    "    svm.LinearSVC(C=C, max_iter=10000),\n",
    "    svm.SVC(kernel=\"rbf\", gamma=0.7, C=C),\n",
    "    svm.SVC(kernel=\"poly\", degree=3, gamma=\"auto\", C=C),\n",
    ")\n",
    "models = [clf.fit(X, y) for clf in models]\n",
    "\n",
    "# title for the plots\n",
    "titles = [\n",
    "    \"SVC with linear kernel\",\n",
    "    \"LinearSVC (linear kernel)\",\n",
    "    \"SVC with RBF kernel\",\n",
    "    \"SVC with polynomial (degree 3) kernel\",\n",
    "]"
   ]
  },
  {
   "cell_type": "code",
   "execution_count": 138,
   "metadata": {},
   "outputs": [
    {
     "data": {
      "image/png": "[encoded data removed]",
      "text/plain": [
       "<Figure size 432x288 with 4 Axes>"
      ]
     },
     "metadata": {},
     "output_type": "display_data"
    }
   ],
   "source": [
    "\n",
    "# Set-up 2x2 grid for plotting.\n",
    "fig, sub = plt.subplots(2, 2)\n",
    "plt.subplots_adjust(wspace=0.4, hspace=0.4)\n",
    "\n",
    "X0, X1 = X[:, 0], X[:, 1]\n",
    "xx, yy = make_meshgrid(X0, X1)\n",
    "\n",
    "for clf, title, ax in zip(models, titles, sub.flatten()):\n",
    "    plot_contours(ax, clf, xx, yy, cmap=plt.cm.coolwarm, alpha=0.8)\n",
    "    ax.scatter(X0, X1, c=y, cmap=plt.cm.coolwarm, s=20, edgecolors=\"k\")\n",
    "    ax.set_xlim(xx.min(), xx.max())\n",
    "    ax.set_ylim(yy.min(), yy.max())\n",
    "    ax.set_xlabel(\"Sepal length\")\n",
    "    ax.set_ylabel(\"Sepal width\")\n",
    "    ax.set_xticks(())\n",
    "    ax.set_yticks(())\n",
    "    ax.set_title(title)\n",
    "\n",
    "plt.show()"
   ]
  },
  {
   "cell_type": "markdown",
   "metadata": {},
   "source": [
    "### Now let's do it on the scaled data train/test split"
   ]
  },
  {
   "cell_type": "code",
   "execution_count": 139,
   "metadata": {},
   "outputs": [
    {
     "name": "stdout",
     "output_type": "stream",
     "text": [
      "SVM classifier: SVC with linear kernel\n",
      "0.9777777777777777\n",
      "              precision    recall  f1-score   support\n",
      "\n",
      "           0       1.00      1.00      1.00        18\n",
      "           1       0.91      1.00      0.95        10\n",
      "           2       1.00      0.94      0.97        17\n",
      "\n",
      "    accuracy                           0.98        45\n",
      "   macro avg       0.97      0.98      0.97        45\n",
      "weighted avg       0.98      0.98      0.98        45\n",
      "\n",
      "[[18  0  0]\n",
      " [ 0 10  0]\n",
      " [ 0  1 16]]\n",
      "SVM classifier: LinearSVC (linear kernel)\n",
      "0.9555555555555556\n",
      "              precision    recall  f1-score   support\n",
      "\n",
      "           0       1.00      1.00      1.00        18\n",
      "           1       0.83      1.00      0.91        10\n",
      "           2       1.00      0.88      0.94        17\n",
      "\n",
      "    accuracy                           0.96        45\n",
      "   macro avg       0.94      0.96      0.95        45\n",
      "weighted avg       0.96      0.96      0.96        45\n",
      "\n",
      "[[18  0  0]\n",
      " [ 0 10  0]\n",
      " [ 0  2 15]]\n",
      "SVM classifier: SVC with RBF kernel\n",
      "0.9555555555555556\n",
      "              precision    recall  f1-score   support\n",
      "\n",
      "           0       1.00      1.00      1.00        18\n",
      "           1       0.83      1.00      0.91        10\n",
      "           2       1.00      0.88      0.94        17\n",
      "\n",
      "    accuracy                           0.96        45\n",
      "   macro avg       0.94      0.96      0.95        45\n",
      "weighted avg       0.96      0.96      0.96        45\n",
      "\n",
      "[[18  0  0]\n",
      " [ 0 10  0]\n",
      " [ 0  2 15]]\n",
      "SVM classifier: SVC with polynomial (degree 3) kernel\n",
      "0.9111111111111111\n",
      "              precision    recall  f1-score   support\n",
      "\n",
      "           0       1.00      1.00      1.00        18\n",
      "           1       0.71      1.00      0.83        10\n",
      "           2       1.00      0.76      0.87        17\n",
      "\n",
      "    accuracy                           0.91        45\n",
      "   macro avg       0.90      0.92      0.90        45\n",
      "weighted avg       0.94      0.91      0.91        45\n",
      "\n",
      "[[18  0  0]\n",
      " [ 0 10  0]\n",
      " [ 0  4 13]]\n"
     ]
    }
   ],
   "source": [
    "models_scaled = [clf.fit(x_train, y_train) for clf in models]\n",
    "\n",
    "svm_pred = [clf.predict(x_test) for clf in models_scaled]\n",
    "\n",
    "for pred_values, title in zip(svm_pred, titles):\n",
    "    print(\"SVM classifier: \" + title)\n",
    "    print(accuracy_score(y_test, pred_values))\n",
    "    print(classification_report(y_test, pred_values))\n",
    "    print(confusion_matrix(y_test, pred_values))"
   ]
  },
  {
   "cell_type": "markdown",
   "metadata": {},
   "source": [
    "### Can we do even better?"
   ]
  },
  {
   "cell_type": "code",
   "execution_count": 99,
   "metadata": {},
   "outputs": [],
   "source": [
    "from sklearn import decomposition\n",
    "from sklearn import ensemble,neighbors\n",
    "\n",
    "indices = range(X_scaled.shape[0])\n",
    "pca = decomposition.PCA(n_components=3)\n",
    "pca.fit(X_scaled)\n",
    "X_scaled_pca = pca.transform(X_scaled)\n",
    "\n",
    "\n",
    "x_train,x_test,y_train,y_test, indices_train, indices_test=train_test_split(X_scaled_pca,y,indices, test_size=0.3,random_state=123)"
   ]
  },
  {
   "cell_type": "code",
   "execution_count": 100,
   "metadata": {},
   "outputs": [
    {
     "data": {
      "text/plain": [
       "[72, 112, 132, 88, 37, 138, 87, 42, 8, 90]"
      ]
     },
     "execution_count": 100,
     "metadata": {},
     "output_type": "execute_result"
    }
   ],
   "source": [
    "indices_test[0:10]"
   ]
  },
  {
   "cell_type": "code",
   "execution_count": 144,
   "metadata": {},
   "outputs": [
    {
     "name": "stdout",
     "output_type": "stream",
     "text": [
      "SVM classifier: SVC with linear kernel\n",
      "------------------------\n",
      "0.9777777777777777\n",
      "              precision    recall  f1-score   support\n",
      "\n",
      "           0       1.00      1.00      1.00        18\n",
      "           1       0.91      1.00      0.95        10\n",
      "           2       1.00      0.94      0.97        17\n",
      "\n",
      "    accuracy                           0.98        45\n",
      "   macro avg       0.97      0.98      0.97        45\n",
      "weighted avg       0.98      0.98      0.98        45\n",
      "\n",
      "[[18  0  0]\n",
      " [ 0 10  0]\n",
      " [ 0  1 16]]\n",
      "SVM classifier: LinearSVC (linear kernel)\n",
      "------------------------\n",
      "0.9555555555555556\n",
      "              precision    recall  f1-score   support\n",
      "\n",
      "           0       1.00      1.00      1.00        18\n",
      "           1       0.83      1.00      0.91        10\n",
      "           2       1.00      0.88      0.94        17\n",
      "\n",
      "    accuracy                           0.96        45\n",
      "   macro avg       0.94      0.96      0.95        45\n",
      "weighted avg       0.96      0.96      0.96        45\n",
      "\n",
      "[[18  0  0]\n",
      " [ 0 10  0]\n",
      " [ 0  2 15]]\n",
      "SVM classifier: SVC with RBF kernel\n",
      "------------------------\n",
      "0.9555555555555556\n",
      "              precision    recall  f1-score   support\n",
      "\n",
      "           0       1.00      1.00      1.00        18\n",
      "           1       0.83      1.00      0.91        10\n",
      "           2       1.00      0.88      0.94        17\n",
      "\n",
      "    accuracy                           0.96        45\n",
      "   macro avg       0.94      0.96      0.95        45\n",
      "weighted avg       0.96      0.96      0.96        45\n",
      "\n",
      "[[18  0  0]\n",
      " [ 0 10  0]\n",
      " [ 0  2 15]]\n",
      "SVM classifier: SVC with polynomial (degree 3) kernel\n",
      "------------------------\n",
      "0.9111111111111111\n",
      "              precision    recall  f1-score   support\n",
      "\n",
      "           0       1.00      1.00      1.00        18\n",
      "           1       0.71      1.00      0.83        10\n",
      "           2       1.00      0.76      0.87        17\n",
      "\n",
      "    accuracy                           0.91        45\n",
      "   macro avg       0.90      0.92      0.90        45\n",
      "weighted avg       0.94      0.91      0.91        45\n",
      "\n",
      "[[18  0  0]\n",
      " [ 0 10  0]\n",
      " [ 0  4 13]]\n"
     ]
    }
   ],
   "source": [
    "models_scaled = [clf.fit(x_train, y_train) for clf in models]\n",
    "\n",
    "svm_pred = [clf.predict(x_test) for clf in models_scaled]\n",
    "\n",
    "for pred_values, title in zip(svm_pred, titles):\n",
    "    print(\"SVM classifier: \" + title)\n",
    "    print(\"------------------------\")\n",
    "    print(accuracy_score(y_test, pred_values))\n",
    "    print(classification_report(y_test, pred_values))\n",
    "    print(confusion_matrix(y_test, pred_values))"
   ]
  },
  {
   "cell_type": "code",
   "execution_count": null,
   "metadata": {},
   "outputs": [],
   "source": []
  }
 ],
 "metadata": {
  "kernelspec": {
   "display_name": "Python 3",
   "language": "python",
   "name": "python3"
  },
  "language_info": {
   "codemirror_mode": {
    "name": "ipython",
    "version": 3
   },
   "file_extension": ".py",
   "mimetype": "text/x-python",
   "name": "python",
   "nbconvert_exporter": "python",
   "pygments_lexer": "ipython3",
   "version": "3.8.5"
  }
 },
 "nbformat": 4,
 "nbformat_minor": 4
}
